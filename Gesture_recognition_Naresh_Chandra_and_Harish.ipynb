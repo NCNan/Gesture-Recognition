{
  "nbformat": 4,
  "nbformat_minor": 0,
  "metadata": {
    "kernelspec": {
      "display_name": "Python 3",
      "language": "python",
      "name": "python3"
    },
    "language_info": {
      "codemirror_mode": {
        "name": "ipython",
        "version": 3
      },
      "file_extension": ".py",
      "mimetype": "text/x-python",
      "name": "python",
      "nbconvert_exporter": "python",
      "pygments_lexer": "ipython3",
      "version": "3.6.7"
    },
    "colab": {
      "name": "Final_Neural_Nets_Project_Starter_Code_Naresh_Chandra and Harish.ipynb",
      "provenance": [],
      "collapsed_sections": [
        "kmP0OWgIwZpy"
      ]
    },
    "accelerator": "GPU"
  },
  "cells": [
    {
      "cell_type": "markdown",
      "metadata": {
        "id": "uRxVMr_IwZl3"
      },
      "source": [
        "# Gesture Recognition\n",
        "In this group project, you are going to build a 3D Conv model that will be able to predict the 5 gestures correctly. Please import the following libraries to get started."
      ]
    },
    {
      "cell_type": "code",
      "metadata": {
        "id": "QvjF3RBY80sB",
        "colab": {
          "base_uri": "https://localhost:8080/"
        },
        "outputId": "550559ce-dbbc-4862-b00d-017c6398a7c3"
      },
      "source": [
        "!pip install Pillow\n",
        "!pip install scipy==1.2.1"
      ],
      "execution_count": 1,
      "outputs": [
        {
          "output_type": "stream",
          "text": [
            "Requirement already satisfied: Pillow in /usr/local/lib/python3.6/dist-packages (7.0.0)\n",
            "Collecting scipy==1.2.1\n",
            "\u001b[?25l  Downloading https://files.pythonhosted.org/packages/7f/5f/c48860704092933bf1c4c1574a8de1ffd16bf4fde8bab190d747598844b2/scipy-1.2.1-cp36-cp36m-manylinux1_x86_64.whl (24.8MB)\n",
            "\u001b[K     |████████████████████████████████| 24.8MB 135kB/s \n",
            "\u001b[?25hRequirement already satisfied: numpy>=1.8.2 in /usr/local/lib/python3.6/dist-packages (from scipy==1.2.1) (1.19.5)\n",
            "\u001b[31mERROR: albumentations 0.1.12 has requirement imgaug<0.2.7,>=0.2.5, but you'll have imgaug 0.2.9 which is incompatible.\u001b[0m\n",
            "Installing collected packages: scipy\n",
            "  Found existing installation: scipy 1.4.1\n",
            "    Uninstalling scipy-1.4.1:\n",
            "      Successfully uninstalled scipy-1.4.1\n",
            "Successfully installed scipy-1.2.1\n"
          ],
          "name": "stdout"
        }
      ]
    },
    {
      "cell_type": "code",
      "metadata": {
        "id": "UsBq_OU5wZl5"
      },
      "source": [
        "import numpy as np\n",
        "import os\n",
        "from scipy.misc import imread, imresize\n",
        "import datetime\n",
        "import os\n",
        "import warnings\n",
        "warnings.filterwarnings(\"ignore\")\n",
        "import abc\n",
        "from sys import getsizeof"
      ],
      "execution_count": 2,
      "outputs": []
    },
    {
      "cell_type": "markdown",
      "metadata": {
        "id": "BvhAuzfewZl9"
      },
      "source": [
        "We set the random seed so that the results don't vary drastically."
      ]
    },
    {
      "cell_type": "code",
      "metadata": {
        "id": "XNomXwN2wZl_",
        "colab": {
          "base_uri": "https://localhost:8080/"
        },
        "outputId": "b1d61212-0dea-4edc-f9c4-551008cf98e2"
      },
      "source": [
        "np.random.seed(30)\n",
        "import random as rn\n",
        "rn.seed(30)\n",
        "from keras import backend as K\n",
        "import tensorflow as tf\n",
        "##tf.set_random_seed(30) #This Tensorflow is applicable for scipy 1.1.0 version\n",
        "tf.random.set_seed(30)\n",
        "print(tf.__version__)"
      ],
      "execution_count": 3,
      "outputs": [
        {
          "output_type": "stream",
          "text": [
            "2.4.1\n"
          ],
          "name": "stdout"
        }
      ]
    },
    {
      "cell_type": "code",
      "metadata": {
        "id": "U1ZD50aywZmC"
      },
      "source": [
        "import cv2\n",
        "import matplotlib.pyplot as plt\n",
        "% matplotlib inline"
      ],
      "execution_count": 4,
      "outputs": []
    },
    {
      "cell_type": "markdown",
      "metadata": {
        "id": "8Kbnxps4wZmF"
      },
      "source": [
        "In this block, you read the folder names for training and validation. You also set the `batch_size` here. Note that you set the batch size in such a way that you are able to use the GPU in full capacity. You keep increasing the batch size until the machine throws an error."
      ]
    },
    {
      "cell_type": "code",
      "metadata": {
        "id": "55Xeh0aYwZmG"
      },
      "source": [
        "from keras.models import Sequential, Model\n",
        "from keras.layers import Dense, GRU, Flatten, TimeDistributed, Flatten, BatchNormalization, Activation\n",
        "from keras.layers.convolutional import Conv3D, MaxPooling3D, Conv2D, MaxPooling2D\n",
        "from keras.layers.recurrent import LSTM\n",
        "from keras.callbacks import ModelCheckpoint, ReduceLROnPlateau\n",
        "from keras import optimizers\n",
        "from keras.layers import Dropout"
      ],
      "execution_count": 5,
      "outputs": []
    },
    {
      "cell_type": "code",
      "metadata": {
        "id": "L97UeuIYwZmJ",
        "colab": {
          "base_uri": "https://localhost:8080/"
        },
        "outputId": "0997f9b2-7711-4768-c1e5-348fb84d50c1"
      },
      "source": [
        "from google.colab import drive\n",
        "drive.mount('/content/google_drive')\n",
        "project_folder = ('/content/Project_data')"
      ],
      "execution_count": 6,
      "outputs": [
        {
          "output_type": "stream",
          "text": [
            "Mounted at /content/google_drive\n"
          ],
          "name": "stdout"
        }
      ]
    },
    {
      "cell_type": "code",
      "metadata": {
        "id": "In4f7rL5NsOi"
      },
      "source": [
        "# importing shutil module  \r\n",
        "import shutil \r\n",
        "\r\n",
        "# Full path of the archive file \r\n",
        "Project_data = \"/content/google_drive/MyDrive/Project_data.zip\"\r\n",
        "\r\n",
        "# Unpack the archived file  \r\n",
        "shutil.unpack_archive(Project_data)\r\n"
      ],
      "execution_count": 7,
      "outputs": []
    },
    {
      "cell_type": "markdown",
      "metadata": {
        "id": "oV5HaQVMwZmM"
      },
      "source": [
        "##### Plotting"
      ]
    },
    {
      "cell_type": "code",
      "metadata": {
        "id": "5RC-N24NwZmN"
      },
      "source": [
        "def plot(history):\n",
        "    fig, axes = plt.subplots(nrows=1, ncols=2, figsize=(15,4))\n",
        "    axes[0].plot(history.history['loss'])   \n",
        "    axes[0].plot(history.history['val_loss'])\n",
        "    axes[0].legend(['loss','val_loss'])\n",
        "\n",
        "    axes[1].plot(history.history['categorical_accuracy'])   \n",
        "    axes[1].plot(history.history['val_categorical_accuracy'])\n",
        "    axes[1].legend(['categorical_accuracy','val_categorical_accuracy'])"
      ],
      "execution_count": 8,
      "outputs": []
    },
    {
      "cell_type": "markdown",
      "metadata": {
        "id": "hZSeElmCwZmT"
      },
      "source": [
        "## Generator\n",
        "This is one of the most important part of the code. The overall structure of the generator has been given. In the generator, you are going to preprocess the images as you have images of 2 different dimensions as well as create a batch of video frames. You have to experiment with `img_idx` and normalization such that you get high accuracy."
      ]
    },
    {
      "cell_type": "code",
      "metadata": {
        "id": "kLHLEJruwZmT"
      },
      "source": [
        "class ModelBuilder(metaclass= abc.ABCMeta):\n",
        "    \n",
        "    def initialize_path(self,project_folder):\n",
        "        self.train_doc = np.random.permutation(open(project_folder + '/' + 'train.csv').readlines())\n",
        "        self.val_doc = np.random.permutation(open(project_folder + '/' + 'val.csv').readlines())\n",
        "        self.train_path = project_folder + '/' + 'train'\n",
        "        self.val_path =  project_folder + '/' + 'val'\n",
        "        self.num_train_sequences = len(self.train_doc)\n",
        "        self.num_val_sequences = len(self.val_doc)\n",
        "        \n",
        "    def initialize_image_properties(self,image_height=100,image_width=100):\n",
        "        self.image_height=image_height\n",
        "        self.image_width=image_width\n",
        "        self.channels=3\n",
        "        self.num_classes=5\n",
        "        self.total_frames=30\n",
        "          \n",
        "    def initialize_hyperparams(self,frames_to_sample=30,batch_size=20,num_epochs=20):\n",
        "        self.frames_to_sample=frames_to_sample\n",
        "        self.batch_size=batch_size\n",
        "        self.num_epochs=num_epochs\n",
        "        \n",
        "        \n",
        "    def generator(self,source_path, folder_list, augment=False):\n",
        "        img_idx = np.round(np.linspace(0,self.total_frames-1,self.frames_to_sample)).astype(int)\n",
        "        batch_size=self.batch_size\n",
        "        while True:\n",
        "            t = np.random.permutation(folder_list)\n",
        "            num_batches = len(t)//batch_size\n",
        "        \n",
        "            for batch in range(num_batches): \n",
        "                batch_data, batch_labels= self.one_batch_data(source_path,t,batch,batch_size,img_idx,augment)\n",
        "                yield batch_data, batch_labels \n",
        "\n",
        "            remaining_seq=len(t)%batch_size\n",
        "        \n",
        "            if (remaining_seq != 0):\n",
        "                batch_data, batch_labels= self.one_batch_data(source_path,t,num_batches,batch_size,img_idx,augment,remaining_seq)\n",
        "                yield batch_data, batch_labels \n",
        "    \n",
        "    \n",
        "    def one_batch_data(self,source_path,t,batch,batch_size,img_idx,augment,remaining_seq=0):\n",
        "    \n",
        "        seq_len = remaining_seq if remaining_seq else batch_size\n",
        "    \n",
        "        batch_data = np.zeros((seq_len,len(img_idx),self.image_height,self.image_width,self.channels)) \n",
        "        batch_labels = np.zeros((seq_len,self.num_classes)) \n",
        "    \n",
        "        if (augment): batch_data_aug = np.zeros((seq_len,len(img_idx),self.image_height,self.image_width,self.channels))\n",
        "\n",
        "        \n",
        "        for folder in range(seq_len): \n",
        "            imgs = os.listdir(source_path+'/'+ t[folder + (batch*batch_size)].split(';')[0]) \n",
        "            for idx,item in enumerate(img_idx): \n",
        "                image = imread(source_path+'/'+ t[folder + (batch*batch_size)].strip().split(';')[0]+'/'+imgs[item]).astype(np.float32)\n",
        "                image_resized=imresize(image,(self.image_height,self.image_width,3))\n",
        "            \n",
        "\n",
        "                batch_data[folder,idx,:,:,0] = (image_resized[:,:,0])/255\n",
        "                batch_data[folder,idx,:,:,1] = (image_resized[:,:,1])/255\n",
        "                batch_data[folder,idx,:,:,2] = (image_resized[:,:,2])/255\n",
        "            \n",
        "                if (augment):\n",
        "                    shifted = cv2.warpAffine(image, \n",
        "                                             np.float32([[1, 0, np.random.randint(-30,30)],[0, 1, np.random.randint(-30,30)]]), \n",
        "                                            (image.shape[1], image.shape[0]))\n",
        "                    \n",
        "                    gray = cv2.cvtColor(shifted,cv2.COLOR_BGR2GRAY)\n",
        "\n",
        "                    x0, y0 = np.argwhere(gray > 0).min(axis=0)\n",
        "                    x1, y1 = np.argwhere(gray > 0).max(axis=0) \n",
        "                    \n",
        "                    cropped=shifted[x0:x1,y0:y1,:]\n",
        "                    \n",
        "                    image_resized=imresize(cropped,(self.image_height,self.image_width,3))\n",
        "                    \n",
        "                    # shifted = cv2.warpAffine(image_resized, \n",
        "                    # np.float32([[1, 0, np.random.randint(-3,3)],[0, 1, np.random.randint(-3,3)]]), \n",
        "                    # (image_resized.shape[1], image_resized.shape[0]))\n",
        "            \n",
        "                    batch_data_aug[folder,idx,:,:,0] = (image_resized[:,:,0])/255\n",
        "                    batch_data_aug[folder,idx,:,:,1] = (image_resized[:,:,1])/255\n",
        "                    batch_data_aug[folder,idx,:,:,2] = (image_resized[:,:,2])/255\n",
        "                \n",
        "            \n",
        "            batch_labels[folder, int(t[folder + (batch*batch_size)].strip().split(';')[2])] = 1\n",
        "            \n",
        "    \n",
        "        if (augment):\n",
        "            batch_data=np.concatenate([batch_data,batch_data_aug])\n",
        "            batch_labels=np.concatenate([batch_labels,batch_labels])\n",
        "\n",
        "        \n",
        "        return(batch_data,batch_labels)\n",
        "    \n",
        "    \n",
        "    def train_model(self, model, augment_data=False):\n",
        "        train_generator = self.generator(self.train_path, self.train_doc,augment=augment_data)\n",
        "        val_generator = self.generator(self.val_path, self.val_doc)\n",
        "\n",
        "        model_name = 'model_init' + '_' + str(datetime.datetime.now()).replace(' ','').replace(':','_') + '/'\n",
        "    \n",
        "        if not os.path.exists(model_name):\n",
        "            os.mkdir(model_name)\n",
        "        \n",
        "        filepath = model_name + 'model-{epoch:05d}-{loss:.5f}-{categorical_accuracy:.5f}-{val_loss:.5f}-{val_categorical_accuracy:.5f}.h5'\n",
        "\n",
        "        checkpoint = ModelCheckpoint(filepath, monitor='val_loss', verbose=1, save_best_only=False, save_weights_only=False, mode='auto', period=1)\n",
        "        LR = ReduceLROnPlateau(monitor='val_loss', factor=0.2, verbose=1, patience=4)\n",
        "        callbacks_list = [checkpoint, LR]\n",
        "\n",
        "        if (self.num_train_sequences%self.batch_size) == 0:\n",
        "            steps_per_epoch = int(self.num_train_sequences/self.batch_size)\n",
        "        else:\n",
        "            steps_per_epoch = (self.num_train_sequences//self.batch_size) + 1\n",
        "\n",
        "        if (self.num_val_sequences%self.batch_size) == 0:\n",
        "            validation_steps = int(self.num_val_sequences/self.batch_size)\n",
        "        else:\n",
        "            validation_steps = (self.num_val_sequences//self.batch_size) + 1\n",
        "    \n",
        "        history=model.fit_generator(train_generator, steps_per_epoch=steps_per_epoch, epochs=self.num_epochs, verbose=1, \n",
        "                            callbacks=callbacks_list, validation_data=val_generator, \n",
        "                            validation_steps=validation_steps, class_weight=None, workers=1, initial_epoch=0)\n",
        "        return history\n",
        "\n",
        "  \n",
        "    @abc.abstractmethod\n",
        "    def define_model(self):\n",
        "        pass"
      ],
      "execution_count": 9,
      "outputs": []
    },
    {
      "cell_type": "markdown",
      "metadata": {
        "id": "7x1mfWIcwZmW"
      },
      "source": [
        "## Model\n",
        "Here you make the model using different functionalities that Keras provides. Remember to use `Conv3D` and `MaxPooling3D` and not `Conv2D` and `Maxpooling2D` for a 3D convolution model. You would want to use `TimeDistributed` while building a Conv2D + RNN model. Also remember that the last layer is the softmax. Design the network in such a way that the model is able to give good accuracy on the least number of parameters so that it can fit in the memory of the webcam."
      ]
    },
    {
      "cell_type": "markdown",
      "metadata": {
        "id": "vSdWh4d_YKnw"
      },
      "source": [
        "# Type-1-CONV3D- with 5 different-Models:"
      ]
    },
    {
      "cell_type": "code",
      "metadata": {
        "id": "BoS9Sa6cwZmX"
      },
      "source": [
        "class ModelConv3D1(ModelBuilder):\n",
        "\n",
        "    def define_model(self):\n",
        "\n",
        "        model = Sequential()\n",
        "        model.add(Conv3D(16, (3, 3, 3), padding='same',\n",
        "                 input_shape=(self.frames_to_sample,self.image_height,self.image_width,self.channels)))\n",
        "        model.add(Activation('relu'))\n",
        "        model.add(BatchNormalization())\n",
        "        model.add(MaxPooling3D(pool_size=(2, 2, 2)))\n",
        "\n",
        "        model.add(Conv3D(32, (2, 2, 2), padding='same'))\n",
        "        model.add(Activation('relu'))\n",
        "        model.add(BatchNormalization())\n",
        "        model.add(MaxPooling3D(pool_size=(2, 2, 2)))\n",
        "\n",
        "        model.add(Conv3D(64, (2, 2, 2), padding='same'))\n",
        "        model.add(Activation('relu'))\n",
        "        model.add(BatchNormalization())\n",
        "        model.add(MaxPooling3D(pool_size=(2, 2, 2)))\n",
        "\n",
        "        model.add(Conv3D(128, (2, 2, 2), padding='same'))\n",
        "        model.add(Activation('relu'))\n",
        "        model.add(BatchNormalization())\n",
        "        model.add(MaxPooling3D(pool_size=(2, 2, 2)))\n",
        "\n",
        "        model.add(Flatten())\n",
        "        model.add(Dense(128,activation='relu'))\n",
        "        model.add(BatchNormalization())\n",
        "        model.add(Dropout(0.5))\n",
        "\n",
        "        model.add(Dense(64,activation='relu'))\n",
        "        model.add(BatchNormalization())\n",
        "        model.add(Dropout(0.25))\n",
        "\n",
        "\n",
        "        model.add(Dense(self.num_classes,activation='softmax'))\n",
        "\n",
        "        optimiser = optimizers.Adam()\n",
        "        #optimiser = 'sgd'\n",
        "        model.compile(optimizer=optimiser, loss='categorical_crossentropy', metrics=['categorical_accuracy'])\n",
        "        return model"
      ],
      "execution_count": 28,
      "outputs": []
    },
    {
      "cell_type": "markdown",
      "metadata": {
        "id": "M7E8uOpYLjr_"
      },
      "source": [
        "### Experimenting with Image resolution, number of frames to use and batch_size"
      ]
    },
    {
      "cell_type": "markdown",
      "metadata": {
        "id": "sDqtXbyfLjsP"
      },
      "source": [
        "##### So lets trade-off between these parameters"
      ]
    },
    {
      "cell_type": "markdown",
      "metadata": {
        "id": "NlZsxNtSLjsP"
      },
      "source": [
        "##### Below are the experiments to see how training time is affected by image resolution, number of images in sequence and batch size"
      ]
    },
    {
      "cell_type": "markdown",
      "metadata": {
        "id": "VebPb15CLjsP"
      },
      "source": [
        "**Model-1- CNN3D:**\r\n",
        "- Image Height-160, Image-width-160\r\n",
        "- Frames to sample-30,\r\n",
        "- batch size-40\r\n",
        "- epochs -1"
      ]
    },
    {
      "cell_type": "code",
      "metadata": {
        "scrolled": true,
        "id": "ukSIHweVwZma",
        "colab": {
          "base_uri": "https://localhost:8080/"
        },
        "outputId": "bab76d84-6083-4404-f31a-eaacc12f118e"
      },
      "source": [
        "conv_3d1=ModelConv3D1()\n",
        "conv_3d1.initialize_path(project_folder)\n",
        "conv_3d1.initialize_image_properties(image_height=160,image_width=160)\n",
        "conv_3d1.initialize_hyperparams(frames_to_sample=30,batch_size=40,num_epochs=1)\n",
        "conv_3d1_model=conv_3d1.define_model()\n",
        "conv_3d1_model.summary()"
      ],
      "execution_count": 11,
      "outputs": [
        {
          "output_type": "stream",
          "text": [
            "Model: \"sequential\"\n",
            "_________________________________________________________________\n",
            "Layer (type)                 Output Shape              Param #   \n",
            "=================================================================\n",
            "conv3d (Conv3D)              (None, 30, 160, 160, 16)  1312      \n",
            "_________________________________________________________________\n",
            "activation (Activation)      (None, 30, 160, 160, 16)  0         \n",
            "_________________________________________________________________\n",
            "batch_normalization (BatchNo (None, 30, 160, 160, 16)  64        \n",
            "_________________________________________________________________\n",
            "max_pooling3d (MaxPooling3D) (None, 15, 80, 80, 16)    0         \n",
            "_________________________________________________________________\n",
            "conv3d_1 (Conv3D)            (None, 15, 80, 80, 32)    4128      \n",
            "_________________________________________________________________\n",
            "activation_1 (Activation)    (None, 15, 80, 80, 32)    0         \n",
            "_________________________________________________________________\n",
            "batch_normalization_1 (Batch (None, 15, 80, 80, 32)    128       \n",
            "_________________________________________________________________\n",
            "max_pooling3d_1 (MaxPooling3 (None, 7, 40, 40, 32)     0         \n",
            "_________________________________________________________________\n",
            "conv3d_2 (Conv3D)            (None, 7, 40, 40, 64)     16448     \n",
            "_________________________________________________________________\n",
            "activation_2 (Activation)    (None, 7, 40, 40, 64)     0         \n",
            "_________________________________________________________________\n",
            "batch_normalization_2 (Batch (None, 7, 40, 40, 64)     256       \n",
            "_________________________________________________________________\n",
            "max_pooling3d_2 (MaxPooling3 (None, 3, 20, 20, 64)     0         \n",
            "_________________________________________________________________\n",
            "conv3d_3 (Conv3D)            (None, 3, 20, 20, 128)    65664     \n",
            "_________________________________________________________________\n",
            "activation_3 (Activation)    (None, 3, 20, 20, 128)    0         \n",
            "_________________________________________________________________\n",
            "batch_normalization_3 (Batch (None, 3, 20, 20, 128)    512       \n",
            "_________________________________________________________________\n",
            "max_pooling3d_3 (MaxPooling3 (None, 1, 10, 10, 128)    0         \n",
            "_________________________________________________________________\n",
            "flatten (Flatten)            (None, 12800)             0         \n",
            "_________________________________________________________________\n",
            "dense (Dense)                (None, 128)               1638528   \n",
            "_________________________________________________________________\n",
            "batch_normalization_4 (Batch (None, 128)               512       \n",
            "_________________________________________________________________\n",
            "dropout (Dropout)            (None, 128)               0         \n",
            "_________________________________________________________________\n",
            "dense_1 (Dense)              (None, 64)                8256      \n",
            "_________________________________________________________________\n",
            "batch_normalization_5 (Batch (None, 64)                256       \n",
            "_________________________________________________________________\n",
            "dropout_1 (Dropout)          (None, 64)                0         \n",
            "_________________________________________________________________\n",
            "dense_2 (Dense)              (None, 5)                 325       \n",
            "=================================================================\n",
            "Total params: 1,736,389\n",
            "Trainable params: 1,735,525\n",
            "Non-trainable params: 864\n",
            "_________________________________________________________________\n"
          ],
          "name": "stdout"
        }
      ]
    },
    {
      "cell_type": "code",
      "metadata": {
        "colab": {
          "base_uri": "https://localhost:8080/"
        },
        "id": "mNV3HO0qJ1gB",
        "outputId": "19579f67-e59f-4965-f536-1f19f5a73892"
      },
      "source": [
        "conv_3d1.train_model(conv_3d1_model)"
      ],
      "execution_count": 13,
      "outputs": [
        {
          "output_type": "stream",
          "text": [
            "WARNING:tensorflow:`period` argument is deprecated. Please use `save_freq` to specify the frequency in number of batches seen.\n",
            "17/17 [==============================] - 101s 6s/step - loss: 1.9619 - categorical_accuracy: 0.3195 - val_loss: 2.5838 - val_categorical_accuracy: 0.1600\n",
            "\n",
            "Epoch 00001: saving model to model_init_2021-02-1505_26_25.135618/model-00001-1.63758-0.39065-2.58377-0.16000.h5\n"
          ],
          "name": "stdout"
        },
        {
          "output_type": "execute_result",
          "data": {
            "text/plain": [
              "<tensorflow.python.keras.callbacks.History at 0x7fc1ac842f98>"
            ]
          },
          "metadata": {
            "tags": []
          },
          "execution_count": 13
        }
      ]
    },
    {
      "cell_type": "code",
      "metadata": {
        "colab": {
          "base_uri": "https://localhost:8080/"
        },
        "id": "Nfx4EgICKkKa",
        "outputId": "8f0b8979-18a4-43a4-81b4-465e36a8e701"
      },
      "source": [
        "print(\"Memory util is {} Gigs\". format(getsizeof(np.zeros((40,16,30,160,160)))/(1024*1024*1024)))"
      ],
      "execution_count": 14,
      "outputs": [
        {
          "output_type": "stream",
          "text": [
            "Memory util is 3.662109524011612 Gigs\n"
          ],
          "name": "stdout"
        }
      ]
    },
    {
      "cell_type": "markdown",
      "metadata": {
        "id": "otkkJIOEwZme"
      },
      "source": [
        "**Sample Cropping**:"
      ]
    },
    {
      "cell_type": "code",
      "metadata": {
        "id": "0YA5jSnBwZmf",
        "colab": {
          "base_uri": "https://localhost:8080/",
          "height": 222
        },
        "outputId": "cc03dac1-cacd-4a6a-a3e9-cc84a4b32415"
      },
      "source": [
        "test_generator=ModelConv3D1()\n",
        "test_generator.initialize_path(project_folder)\n",
        "test_generator.initialize_image_properties(image_height=160,image_width=160)\n",
        "test_generator.initialize_hyperparams(frames_to_sample=30, batch_size=3, num_epochs=1)\n",
        "\n",
        "g=test_generator.generator(test_generator.val_path,test_generator.val_doc,augment=True)\n",
        "batch_data, batch_labels=next(g)\n",
        "fig, axes = plt.subplots(nrows=1, ncols=2)\n",
        "axes[0].imshow(batch_data[0,15,:,:,:])   \n",
        "axes[1].imshow(batch_data[3,15,:,:,:])   "
      ],
      "execution_count": 23,
      "outputs": [
        {
          "output_type": "execute_result",
          "data": {
            "text/plain": [
              "<matplotlib.image.AxesImage at 0x7fc14c1f2828>"
            ]
          },
          "metadata": {
            "tags": []
          },
          "execution_count": 23
        },
        {
          "output_type": "display_data",
          "data": {
            "image/png": "[encoded data removed]",
            "text/plain": [
              "<Figure size 432x288 with 2 Axes>"
            ]
          },
          "metadata": {
            "tags": [],
            "needs_background": "light"
          }
        }
      ]
    },
    {
      "cell_type": "markdown",
      "metadata": {
        "id": "_5soSfgxZM9E"
      },
      "source": [
        "**Model 2-CNN3D:**\r\n",
        "- image_height=160,\r\n",
        "- image_width=160\r\n",
        "- frames_to_sample=16,\r\n",
        "- batch_size=30,\r\n",
        "- num_epochs=3"
      ]
    },
    {
      "cell_type": "code",
      "metadata": {
        "id": "xfS_hufOwZmt",
        "colab": {
          "base_uri": "https://localhost:8080/"
        },
        "outputId": "2018071a-54b1-40e2-8a83-9154730c3413"
      },
      "source": [
        "conv_3d1=ModelConv3D1()\n",
        "conv_3d1.initialize_path(project_folder)\n",
        "conv_3d1.initialize_image_properties(image_height=160,image_width=160)\n",
        "conv_3d1.initialize_hyperparams(frames_to_sample=16,batch_size=30,num_epochs=3)\n",
        "conv_3d1_model=conv_3d1.define_model()\n",
        "print(\"Total Params:\", conv_3d1_model.count_params())\n",
        "conv_3d1.train_model(conv_3d1_model)"
      ],
      "execution_count": 24,
      "outputs": [
        {
          "output_type": "stream",
          "text": [
            "Total Params: 1736389\n",
            "WARNING:tensorflow:`period` argument is deprecated. Please use `save_freq` to specify the frequency in number of batches seen.\n",
            "Epoch 1/3\n",
            "23/23 [==============================] - 57s 2s/step - loss: 1.9468 - categorical_accuracy: 0.3737 - val_loss: 3.1800 - val_categorical_accuracy: 0.1600\n",
            "\n",
            "Epoch 00001: saving model to model_init_2021-02-1505_45_48.147174/model-00001-1.69550-0.41478-3.17999-0.16000.h5\n",
            "Epoch 2/3\n",
            "23/23 [==============================] - 48s 2s/step - loss: 1.1927 - categorical_accuracy: 0.5386 - val_loss: 6.0623 - val_categorical_accuracy: 0.2300\n",
            "\n",
            "Epoch 00002: saving model to model_init_2021-02-1505_45_48.147174/model-00002-1.11625-0.55958-6.06232-0.23000.h5\n",
            "Epoch 3/3\n",
            "23/23 [==============================] - 49s 2s/step - loss: 0.9148 - categorical_accuracy: 0.6578 - val_loss: 7.6354 - val_categorical_accuracy: 0.1600\n",
            "\n",
            "Epoch 00003: saving model to model_init_2021-02-1505_45_48.147174/model-00003-0.92554-0.64103-7.63540-0.16000.h5\n"
          ],
          "name": "stdout"
        },
        {
          "output_type": "execute_result",
          "data": {
            "text/plain": [
              "<tensorflow.python.keras.callbacks.History at 0x7fc14c137208>"
            ]
          },
          "metadata": {
            "tags": []
          },
          "execution_count": 24
        }
      ]
    },
    {
      "cell_type": "markdown",
      "metadata": {
        "id": "oSXZ_xUAZ5UY"
      },
      "source": [
        "**Model 3-CNN3D:**\r\n",
        "- image_height=100,\r\n",
        "- image_width=100\r\n",
        "- frames_to_sample=30,\r\n",
        "- batch_size=30,\r\n",
        "- num_epochs=2\r\n"
      ]
    },
    {
      "cell_type": "code",
      "metadata": {
        "id": "_IUaP4jfwZmy",
        "colab": {
          "base_uri": "https://localhost:8080/"
        },
        "outputId": "78a5ed68-397b-48de-cf78-ca3dfcdbd2ca"
      },
      "source": [
        "conv_3d1=ModelConv3D1()\n",
        "conv_3d1.initialize_path(project_folder)\n",
        "conv_3d1.initialize_image_properties(image_height=100,image_width=100)\n",
        "conv_3d1.initialize_hyperparams(frames_to_sample=30,batch_size=30,num_epochs=2)\n",
        "conv_3d1_model=conv_3d1.define_model()\n",
        "print(\"Total Params:\", conv_3d1_model.count_params())\n",
        "conv_3d1.train_model(conv_3d1_model)"
      ],
      "execution_count": 25,
      "outputs": [
        {
          "output_type": "stream",
          "text": [
            "Total Params: 687813\n",
            "WARNING:tensorflow:`period` argument is deprecated. Please use `save_freq` to specify the frequency in number of batches seen.\n",
            "Epoch 1/2\n",
            "23/23 [==============================] - 84s 4s/step - loss: 1.7637 - categorical_accuracy: 0.3503 - val_loss: 1.9257 - val_categorical_accuracy: 0.1600\n",
            "\n",
            "Epoch 00001: saving model to model_init_2021-02-1505_57_02.539456/model-00001-1.59052-0.39517-1.92570-0.16000.h5\n",
            "Epoch 2/2\n",
            "23/23 [==============================] - 79s 4s/step - loss: 1.0943 - categorical_accuracy: 0.5762 - val_loss: 2.6685 - val_categorical_accuracy: 0.1800\n",
            "\n",
            "Epoch 00002: saving model to model_init_2021-02-1505_57_02.539456/model-00002-1.11864-0.57164-2.66847-0.18000.h5\n"
          ],
          "name": "stdout"
        },
        {
          "output_type": "execute_result",
          "data": {
            "text/plain": [
              "<tensorflow.python.keras.callbacks.History at 0x7fc1424af198>"
            ]
          },
          "metadata": {
            "tags": []
          },
          "execution_count": 25
        }
      ]
    },
    {
      "cell_type": "markdown",
      "metadata": {
        "id": "x0GLTi2DTWwI"
      },
      "source": [
        "**Model 4-CNN3D:**\r\n",
        "- image_height=100,\r\n",
        "- image_width=100\r\n",
        "- frames_to_sample=30,\r\n",
        "- batch_size=60,\r\n",
        "- num_epochs=2\r\n"
      ]
    },
    {
      "cell_type": "code",
      "metadata": {
        "id": "-C2UyfolwZm1",
        "colab": {
          "base_uri": "https://localhost:8080/"
        },
        "outputId": "e8f4fc49-23ce-4a47-feb2-f7a96ca1241e"
      },
      "source": [
        "conv_3d1=ModelConv3D1()\n",
        "conv_3d1.initialize_path(project_folder)\n",
        "conv_3d1.initialize_image_properties(image_height=100,image_width=100)\n",
        "conv_3d1.initialize_hyperparams(frames_to_sample=30,batch_size=60,num_epochs=2)\n",
        "conv_3d1_model=conv_3d1.define_model()\n",
        "print(\"Total Params:\", conv_3d1_model.count_params())\n",
        "conv_3d1.train_model(conv_3d1_model)"
      ],
      "execution_count": 26,
      "outputs": [
        {
          "output_type": "stream",
          "text": [
            "Total Params: 687813\n",
            "WARNING:tensorflow:`period` argument is deprecated. Please use `save_freq` to specify the frequency in number of batches seen.\n",
            "Epoch 1/2\n",
            "12/12 [==============================] - 84s 7s/step - loss: 2.1142 - categorical_accuracy: 0.2938 - val_loss: 1.9000 - val_categorical_accuracy: 0.2100\n",
            "\n",
            "Epoch 00001: saving model to model_init_2021-02-1506_08_14.892132/model-00001-1.81982-0.35897-1.89995-0.21000.h5\n",
            "Epoch 2/2\n",
            "12/12 [==============================] - 86s 8s/step - loss: 1.3048 - categorical_accuracy: 0.4911 - val_loss: 3.8390 - val_categorical_accuracy: 0.2400\n",
            "\n",
            "Epoch 00002: saving model to model_init_2021-02-1506_08_14.892132/model-00002-1.30516-0.49925-3.83896-0.24000.h5\n"
          ],
          "name": "stdout"
        },
        {
          "output_type": "execute_result",
          "data": {
            "text/plain": [
              "<tensorflow.python.keras.callbacks.History at 0x7fc13c7964e0>"
            ]
          },
          "metadata": {
            "tags": []
          },
          "execution_count": 26
        }
      ]
    },
    {
      "cell_type": "markdown",
      "metadata": {
        "id": "VwmHoZ9vTguo"
      },
      "source": [
        "**Model 5-CNN3D:**\r\n",
        "- image_height=100,\r\n",
        "- image_width=100\r\n",
        "- frames_to_sample=16,\r\n",
        "- batch_size=60,\r\n",
        "- num_epochs=2\r\n"
      ]
    },
    {
      "cell_type": "code",
      "metadata": {
        "id": "byk_z0yDwZm6",
        "colab": {
          "base_uri": "https://localhost:8080/"
        },
        "outputId": "a9d0ce2d-4a04-41ad-9977-1d992264d087"
      },
      "source": [
        "conv_3d1=ModelConv3D1()\n",
        "conv_3d1.initialize_path(project_folder)\n",
        "conv_3d1.initialize_image_properties(image_height=100,image_width=100)\n",
        "conv_3d1.initialize_hyperparams(frames_to_sample=16,batch_size=60,num_epochs=2)\n",
        "conv_3d1_model=conv_3d1.define_model()\n",
        "print(\"Total Params:\", conv_3d1_model.count_params())\n",
        "conv_3d1.train_model(conv_3d1_model)"
      ],
      "execution_count": 27,
      "outputs": [
        {
          "output_type": "stream",
          "text": [
            "Total Params: 687813\n",
            "WARNING:tensorflow:`period` argument is deprecated. Please use `save_freq` to specify the frequency in number of batches seen.\n",
            "Epoch 1/2\n",
            "12/12 [==============================] - 50s 4s/step - loss: 1.8093 - categorical_accuracy: 0.3253 - val_loss: 1.5353 - val_categorical_accuracy: 0.3200\n",
            "\n",
            "Epoch 00001: saving model to model_init_2021-02-1506_11_46.115725/model-00001-1.59675-0.39216-1.53528-0.32000.h5\n",
            "Epoch 2/2\n",
            "12/12 [==============================] - 42s 4s/step - loss: 1.0997 - categorical_accuracy: 0.5742 - val_loss: 2.0025 - val_categorical_accuracy: 0.1300\n",
            "\n",
            "Epoch 00002: saving model to model_init_2021-02-1506_11_46.115725/model-00002-1.13994-0.55807-2.00252-0.13000.h5\n"
          ],
          "name": "stdout"
        },
        {
          "output_type": "execute_result",
          "data": {
            "text/plain": [
              "<tensorflow.python.keras.callbacks.History at 0x7fc13c32e940>"
            ]
          },
          "metadata": {
            "tags": []
          },
          "execution_count": 27
        }
      ]
    },
    {
      "cell_type": "markdown",
      "metadata": {
        "id": "5AYG4fq8wZnm"
      },
      "source": [
        "##### As we see from the above experiments image resolution and number of frames in sequence have more impact on training time than batch_size"
      ]
    },
    {
      "cell_type": "markdown",
      "metadata": {
        "collapsed": true,
        "id": "qiyBE3EywZnn"
      },
      "source": [
        "##### So experimentations are carried with batch size fixed around 15-40 and changing the resolution and number of image per sequence based on the device memory constraints . Models are designed such that their memory foot print is less than 50 MB which corresponds to 4.3 million parameters assuming the datatype size of parameters to be 12 bytes"
      ]
    },
    {
      "cell_type": "markdown",
      "metadata": {
        "id": "cRhBolLjwZno"
      },
      "source": [
        "# Type-2-Conv3D- 2 different models:\r\n",
        "- without DataAugmentation Model\r\n",
        "- with DataAugmentation Model"
      ]
    },
    {
      "cell_type": "code",
      "metadata": {
        "collapsed": true,
        "id": "N4ldRY-vwZnp"
      },
      "source": [
        "class ModelConv3D1(ModelBuilder):\n",
        "    \n",
        "    def define_model(self,filtersize=(3,3,3),dense_neurons=64,dropout=0.25):\n",
        "\n",
        "        model = Sequential()\n",
        "        model.add(Conv3D(16, filtersize, padding='same',\n",
        "                 input_shape=(self.frames_to_sample,self.image_height,self.image_width,self.channels)))\n",
        "        model.add(Activation('relu'))\n",
        "        model.add(BatchNormalization())\n",
        "        model.add(MaxPooling3D(pool_size=(2, 2, 2)))\n",
        "\n",
        "        model.add(Conv3D(32, filtersize, padding='same'))\n",
        "        model.add(Activation('relu'))\n",
        "        model.add(BatchNormalization())\n",
        "        model.add(MaxPooling3D(pool_size=(2, 2, 2)))\n",
        "\n",
        "        model.add(Conv3D(64, filtersize, padding='same'))\n",
        "        model.add(Activation('relu'))\n",
        "        model.add(BatchNormalization())\n",
        "        model.add(MaxPooling3D(pool_size=(2, 2, 2)))\n",
        "\n",
        "        model.add(Conv3D(128, filtersize, padding='same'))\n",
        "        model.add(Activation('relu'))\n",
        "        model.add(BatchNormalization())\n",
        "        model.add(MaxPooling3D(pool_size=(2, 2, 2)))\n",
        "\n",
        "        model.add(Flatten())\n",
        "        model.add(Dense(dense_neurons,activation='relu'))\n",
        "        model.add(BatchNormalization())\n",
        "        model.add(Dropout(dropout))\n",
        "\n",
        "        model.add(Dense(dense_neurons,activation='relu'))\n",
        "        model.add(BatchNormalization())\n",
        "        model.add(Dropout(dropout))\n",
        "\n",
        "\n",
        "        model.add(Dense(self.num_classes,activation='softmax'))\n",
        "\n",
        "        optimiser = optimizers.Adam()\n",
        "        model.compile(optimizer=optimiser, loss='categorical_crossentropy', metrics=['categorical_accuracy'])\n",
        "        return model"
      ],
      "execution_count": 10,
      "outputs": []
    },
    {
      "cell_type": "markdown",
      "metadata": {
        "id": "SKknHO74YgdQ"
      },
      "source": [
        "**Model 6- CONV3D** \r\n",
        "- Base Model- No Data Augmentation \r\n",
        "- (3,3,3) filter\r\n",
        "- Batch Size 40 \r\n",
        "- Epoch 15\r\n",
        "- image_height-160,image_width-160\r\n",
        "- frames_to_sample-20"
      ]
    },
    {
      "cell_type": "code",
      "metadata": {
        "id": "bay1T7ZTwZnt",
        "colab": {
          "base_uri": "https://localhost:8080/"
        },
        "outputId": "f5e12024-8d11-4808-a64e-dc1f4f4bfe16"
      },
      "source": [
        "conv_3d1=ModelConv3D1()\n",
        "conv_3d1.initialize_path(project_folder)\n",
        "conv_3d1.initialize_image_properties(image_height=160,image_width=160)\n",
        "conv_3d1.initialize_hyperparams(frames_to_sample=20,batch_size=40,num_epochs=15)\n",
        "conv_3d1_model=conv_3d1.define_model()\n",
        "conv_3d1_model.summary()"
      ],
      "execution_count": 13,
      "outputs": [
        {
          "output_type": "stream",
          "text": [
            "Model: \"sequential\"\n",
            "_________________________________________________________________\n",
            "Layer (type)                 Output Shape              Param #   \n",
            "=================================================================\n",
            "conv3d (Conv3D)              (None, 20, 160, 160, 16)  1312      \n",
            "_________________________________________________________________\n",
            "activation (Activation)      (None, 20, 160, 160, 16)  0         \n",
            "_________________________________________________________________\n",
            "batch_normalization (BatchNo (None, 20, 160, 160, 16)  64        \n",
            "_________________________________________________________________\n",
            "max_pooling3d (MaxPooling3D) (None, 10, 80, 80, 16)    0         \n",
            "_________________________________________________________________\n",
            "conv3d_1 (Conv3D)            (None, 10, 80, 80, 32)    13856     \n",
            "_________________________________________________________________\n",
            "activation_1 (Activation)    (None, 10, 80, 80, 32)    0         \n",
            "_________________________________________________________________\n",
            "batch_normalization_1 (Batch (None, 10, 80, 80, 32)    128       \n",
            "_________________________________________________________________\n",
            "max_pooling3d_1 (MaxPooling3 (None, 5, 40, 40, 32)     0         \n",
            "_________________________________________________________________\n",
            "conv3d_2 (Conv3D)            (None, 5, 40, 40, 64)     55360     \n",
            "_________________________________________________________________\n",
            "activation_2 (Activation)    (None, 5, 40, 40, 64)     0         \n",
            "_________________________________________________________________\n",
            "batch_normalization_2 (Batch (None, 5, 40, 40, 64)     256       \n",
            "_________________________________________________________________\n",
            "max_pooling3d_2 (MaxPooling3 (None, 2, 20, 20, 64)     0         \n",
            "_________________________________________________________________\n",
            "conv3d_3 (Conv3D)            (None, 2, 20, 20, 128)    221312    \n",
            "_________________________________________________________________\n",
            "activation_3 (Activation)    (None, 2, 20, 20, 128)    0         \n",
            "_________________________________________________________________\n",
            "batch_normalization_3 (Batch (None, 2, 20, 20, 128)    512       \n",
            "_________________________________________________________________\n",
            "max_pooling3d_3 (MaxPooling3 (None, 1, 10, 10, 128)    0         \n",
            "_________________________________________________________________\n",
            "flatten (Flatten)            (None, 12800)             0         \n",
            "_________________________________________________________________\n",
            "dense (Dense)                (None, 64)                819264    \n",
            "_________________________________________________________________\n",
            "batch_normalization_4 (Batch (None, 64)                256       \n",
            "_________________________________________________________________\n",
            "dropout (Dropout)            (None, 64)                0         \n",
            "_________________________________________________________________\n",
            "dense_1 (Dense)              (None, 64)                4160      \n",
            "_________________________________________________________________\n",
            "batch_normalization_5 (Batch (None, 64)                256       \n",
            "_________________________________________________________________\n",
            "dropout_1 (Dropout)          (None, 64)                0         \n",
            "_________________________________________________________________\n",
            "dense_2 (Dense)              (None, 5)                 325       \n",
            "=================================================================\n",
            "Total params: 1,117,061\n",
            "Trainable params: 1,116,325\n",
            "Non-trainable params: 736\n",
            "_________________________________________________________________\n"
          ],
          "name": "stdout"
        }
      ]
    },
    {
      "cell_type": "code",
      "metadata": {
        "id": "BQbLCm--wZny",
        "colab": {
          "base_uri": "https://localhost:8080/"
        },
        "outputId": "9c3668bd-708e-4f7d-9c52-c94f26045c0f"
      },
      "source": [
        "print(\"Total Params:\", conv_3d1_model.count_params())\n",
        "history_model1 = conv_3d1.train_model(conv_3d1_model)"
      ],
      "execution_count": 14,
      "outputs": [
        {
          "output_type": "stream",
          "text": [
            "Total Params: 1117061\n",
            "WARNING:tensorflow:`period` argument is deprecated. Please use `save_freq` to specify the frequency in number of batches seen.\n",
            "Epoch 1/15\n",
            "17/17 [==============================] - 78s 4s/step - loss: 1.9242 - categorical_accuracy: 0.2706 - val_loss: 1.6145 - val_categorical_accuracy: 0.2400\n",
            "\n",
            "Epoch 00001: saving model to model_init_2021-02-1506_32_15.571082/model-00001-1.69602-0.32881-1.61446-0.24000.h5\n",
            "Epoch 2/15\n",
            "17/17 [==============================] - 63s 4s/step - loss: 1.2173 - categorical_accuracy: 0.5283 - val_loss: 8.3230 - val_categorical_accuracy: 0.1500\n",
            "\n",
            "Epoch 00002: saving model to model_init_2021-02-1506_32_15.571082/model-00002-1.13474-0.56561-8.32302-0.15000.h5\n",
            "Epoch 3/15\n",
            "17/17 [==============================] - 64s 4s/step - loss: 0.8377 - categorical_accuracy: 0.6564 - val_loss: 5.8182 - val_categorical_accuracy: 0.2000\n",
            "\n",
            "Epoch 00003: saving model to model_init_2021-02-1506_32_15.571082/model-00003-0.81177-0.66968-5.81820-0.20000.h5\n",
            "Epoch 4/15\n",
            "17/17 [==============================] - 63s 4s/step - loss: 0.6583 - categorical_accuracy: 0.7341 - val_loss: 5.9565 - val_categorical_accuracy: 0.2100\n",
            "\n",
            "Epoch 00004: saving model to model_init_2021-02-1506_32_15.571082/model-00004-0.61555-0.76471-5.95654-0.21000.h5\n",
            "Epoch 5/15\n",
            "17/17 [==============================] - 62s 4s/step - loss: 0.5229 - categorical_accuracy: 0.8346 - val_loss: 6.1752 - val_categorical_accuracy: 0.2400\n",
            "\n",
            "Epoch 00005: saving model to model_init_2021-02-1506_32_15.571082/model-00005-0.53621-0.82202-6.17525-0.24000.h5\n",
            "\n",
            "Epoch 00005: ReduceLROnPlateau reducing learning rate to 0.00020000000949949026.\n",
            "Epoch 6/15\n",
            "17/17 [==============================] - 62s 4s/step - loss: 0.3758 - categorical_accuracy: 0.8674 - val_loss: 6.6081 - val_categorical_accuracy: 0.2000\n",
            "\n",
            "Epoch 00006: saving model to model_init_2021-02-1506_32_15.571082/model-00006-0.36318-0.88537-6.60815-0.20000.h5\n",
            "Epoch 7/15\n",
            "17/17 [==============================] - 62s 4s/step - loss: 0.2804 - categorical_accuracy: 0.9169 - val_loss: 6.4327 - val_categorical_accuracy: 0.2200\n",
            "\n",
            "Epoch 00007: saving model to model_init_2021-02-1506_32_15.571082/model-00007-0.28598-0.91554-6.43270-0.22000.h5\n",
            "Epoch 8/15\n",
            "17/17 [==============================] - 62s 4s/step - loss: 0.2712 - categorical_accuracy: 0.9379 - val_loss: 7.5191 - val_categorical_accuracy: 0.1800\n",
            "\n",
            "Epoch 00008: saving model to model_init_2021-02-1506_32_15.571082/model-00008-0.25661-0.94570-7.51909-0.18000.h5\n",
            "Epoch 9/15\n",
            "17/17 [==============================] - 62s 4s/step - loss: 0.2129 - categorical_accuracy: 0.9598 - val_loss: 6.6633 - val_categorical_accuracy: 0.2400\n",
            "\n",
            "Epoch 00009: saving model to model_init_2021-02-1506_32_15.571082/model-00009-0.21835-0.95626-6.66327-0.24000.h5\n",
            "\n",
            "Epoch 00009: ReduceLROnPlateau reducing learning rate to 4.0000001899898055e-05.\n",
            "Epoch 10/15\n",
            "17/17 [==============================] - 61s 4s/step - loss: 0.2259 - categorical_accuracy: 0.9455 - val_loss: 7.2398 - val_categorical_accuracy: 0.2100\n",
            "\n",
            "Epoch 00010: saving model to model_init_2021-02-1506_32_15.571082/model-00010-0.22891-0.94570-7.23981-0.21000.h5\n",
            "Epoch 11/15\n",
            "17/17 [==============================] - 63s 4s/step - loss: 0.1717 - categorical_accuracy: 0.9707 - val_loss: 7.2119 - val_categorical_accuracy: 0.1900\n",
            "\n",
            "Epoch 00011: saving model to model_init_2021-02-1506_32_15.571082/model-00011-0.19157-0.96078-7.21194-0.19000.h5\n",
            "Epoch 12/15\n",
            "17/17 [==============================] - 62s 4s/step - loss: 0.2001 - categorical_accuracy: 0.9416 - val_loss: 7.2772 - val_categorical_accuracy: 0.2400\n",
            "\n",
            "Epoch 00012: saving model to model_init_2021-02-1506_32_15.571082/model-00012-0.18494-0.95023-7.27719-0.24000.h5\n",
            "Epoch 13/15\n",
            "17/17 [==============================] - 61s 4s/step - loss: 0.1746 - categorical_accuracy: 0.9677 - val_loss: 7.6736 - val_categorical_accuracy: 0.2100\n",
            "\n",
            "Epoch 00013: saving model to model_init_2021-02-1506_32_15.571082/model-00013-0.17636-0.96983-7.67356-0.21000.h5\n",
            "\n",
            "Epoch 00013: ReduceLROnPlateau reducing learning rate to 8.000000525498762e-06.\n",
            "Epoch 14/15\n",
            "17/17 [==============================] - 63s 4s/step - loss: 0.1664 - categorical_accuracy: 0.9696 - val_loss: 7.7800 - val_categorical_accuracy: 0.2100\n",
            "\n",
            "Epoch 00014: saving model to model_init_2021-02-1506_32_15.571082/model-00014-0.17092-0.96983-7.78003-0.21000.h5\n",
            "Epoch 15/15\n",
            "17/17 [==============================] - 62s 4s/step - loss: 0.1948 - categorical_accuracy: 0.9684 - val_loss: 7.5372 - val_categorical_accuracy: 0.2200\n",
            "\n",
            "Epoch 00015: saving model to model_init_2021-02-1506_32_15.571082/model-00015-0.20061-0.95777-7.53720-0.22000.h5\n"
          ],
          "name": "stdout"
        }
      ]
    },
    {
      "cell_type": "code",
      "metadata": {
        "id": "2hEeiVJWwZn0",
        "colab": {
          "base_uri": "https://localhost:8080/",
          "height": 267
        },
        "outputId": "52bd4678-4d5a-4832-d995-17f13710cdc1"
      },
      "source": [
        "plot(history_model1)"
      ],
      "execution_count": 15,
      "outputs": [
        {
          "output_type": "display_data",
          "data": {
            "image/png": "[encoded data removed]",
            "text/plain": [
              "<Figure size 1080x288 with 2 Axes>"
            ]
          },
          "metadata": {
            "tags": [],
            "needs_background": "light"
          }
        }
      ]
    },
    {
      "cell_type": "markdown",
      "metadata": {
        "id": "fosbi1WWwZn3"
      },
      "source": [
        "Model is clearly overfitting. So we need to do data augmentation"
      ]
    },
    {
      "cell_type": "markdown",
      "metadata": {
        "id": "ZDHlmpUpwZn3"
      },
      "source": [
        "**Model 7-Conv3D:**\r\n",
        "- Data Augmentation, \r\n",
        "- (3,3,3) filter \r\n",
        "- 160x160 image resolution\r\n",
        "- frames to sample-20\r\n",
        "- batch size-20\r\n",
        "- epochs-25\r\n",
        "- dense neurons-256\r\n",
        "- dropout-0.5"
      ]
    },
    {
      "cell_type": "code",
      "metadata": {
        "id": "Yae6Jk57wZn4",
        "colab": {
          "base_uri": "https://localhost:8080/"
        },
        "outputId": "aa4ca255-89bf-4222-aaf3-f83e209e3eca"
      },
      "source": [
        "conv_3d2=ModelConv3D1()\n",
        "conv_3d2.initialize_path(project_folder)\n",
        "conv_3d2.initialize_image_properties(image_height=160,image_width=160)\n",
        "conv_3d2.initialize_hyperparams(frames_to_sample=20,batch_size=20,num_epochs=25)\n",
        "conv_3d2_model=conv_3d2.define_model(dense_neurons=256,dropout=0.5)\n",
        "conv_3d2_model.summary()"
      ],
      "execution_count": 16,
      "outputs": [
        {
          "output_type": "stream",
          "text": [
            "Model: \"sequential_1\"\n",
            "_________________________________________________________________\n",
            "Layer (type)                 Output Shape              Param #   \n",
            "=================================================================\n",
            "conv3d_4 (Conv3D)            (None, 20, 160, 160, 16)  1312      \n",
            "_________________________________________________________________\n",
            "activation_4 (Activation)    (None, 20, 160, 160, 16)  0         \n",
            "_________________________________________________________________\n",
            "batch_normalization_6 (Batch (None, 20, 160, 160, 16)  64        \n",
            "_________________________________________________________________\n",
            "max_pooling3d_4 (MaxPooling3 (None, 10, 80, 80, 16)    0         \n",
            "_________________________________________________________________\n",
            "conv3d_5 (Conv3D)            (None, 10, 80, 80, 32)    13856     \n",
            "_________________________________________________________________\n",
            "activation_5 (Activation)    (None, 10, 80, 80, 32)    0         \n",
            "_________________________________________________________________\n",
            "batch_normalization_7 (Batch (None, 10, 80, 80, 32)    128       \n",
            "_________________________________________________________________\n",
            "max_pooling3d_5 (MaxPooling3 (None, 5, 40, 40, 32)     0         \n",
            "_________________________________________________________________\n",
            "conv3d_6 (Conv3D)            (None, 5, 40, 40, 64)     55360     \n",
            "_________________________________________________________________\n",
            "activation_6 (Activation)    (None, 5, 40, 40, 64)     0         \n",
            "_________________________________________________________________\n",
            "batch_normalization_8 (Batch (None, 5, 40, 40, 64)     256       \n",
            "_________________________________________________________________\n",
            "max_pooling3d_6 (MaxPooling3 (None, 2, 20, 20, 64)     0         \n",
            "_________________________________________________________________\n",
            "conv3d_7 (Conv3D)            (None, 2, 20, 20, 128)    221312    \n",
            "_________________________________________________________________\n",
            "activation_7 (Activation)    (None, 2, 20, 20, 128)    0         \n",
            "_________________________________________________________________\n",
            "batch_normalization_9 (Batch (None, 2, 20, 20, 128)    512       \n",
            "_________________________________________________________________\n",
            "max_pooling3d_7 (MaxPooling3 (None, 1, 10, 10, 128)    0         \n",
            "_________________________________________________________________\n",
            "flatten_1 (Flatten)          (None, 12800)             0         \n",
            "_________________________________________________________________\n",
            "dense_3 (Dense)              (None, 256)               3277056   \n",
            "_________________________________________________________________\n",
            "batch_normalization_10 (Batc (None, 256)               1024      \n",
            "_________________________________________________________________\n",
            "dropout_2 (Dropout)          (None, 256)               0         \n",
            "_________________________________________________________________\n",
            "dense_4 (Dense)              (None, 256)               65792     \n",
            "_________________________________________________________________\n",
            "batch_normalization_11 (Batc (None, 256)               1024      \n",
            "_________________________________________________________________\n",
            "dropout_3 (Dropout)          (None, 256)               0         \n",
            "_________________________________________________________________\n",
            "dense_5 (Dense)              (None, 5)                 1285      \n",
            "=================================================================\n",
            "Total params: 3,638,981\n",
            "Trainable params: 3,637,477\n",
            "Non-trainable params: 1,504\n",
            "_________________________________________________________________\n"
          ],
          "name": "stdout"
        }
      ]
    },
    {
      "cell_type": "code",
      "metadata": {
        "id": "xenwDMxUwZn6",
        "colab": {
          "base_uri": "https://localhost:8080/"
        },
        "outputId": "7e9538e3-112b-4500-db9d-fd4f1f4c2e23"
      },
      "source": [
        "print(\"Total Params:\", conv_3d2_model.count_params())\n",
        "history_model2=conv_3d2.train_model(conv_3d2_model,augment_data=True)"
      ],
      "execution_count": 17,
      "outputs": [
        {
          "output_type": "stream",
          "text": [
            "Total Params: 3638981\n",
            "WARNING:tensorflow:`period` argument is deprecated. Please use `save_freq` to specify the frequency in number of batches seen.\n",
            "Epoch 1/25\n",
            "34/34 [==============================] - 121s 4s/step - loss: 2.1090 - categorical_accuracy: 0.3303 - val_loss: 2.3954 - val_categorical_accuracy: 0.1600\n",
            "\n",
            "Epoch 00001: saving model to model_init_2021-02-1506_49_20.968347/model-00001-1.92534-0.37858-2.39542-0.16000.h5\n",
            "Epoch 2/25\n",
            "34/34 [==============================] - 113s 3s/step - loss: 1.5575 - categorical_accuracy: 0.4888 - val_loss: 3.4193 - val_categorical_accuracy: 0.1500\n",
            "\n",
            "Epoch 00002: saving model to model_init_2021-02-1506_49_20.968347/model-00002-1.54927-0.48944-3.41934-0.15000.h5\n",
            "Epoch 3/25\n",
            "34/34 [==============================] - 113s 3s/step - loss: 1.1930 - categorical_accuracy: 0.5672 - val_loss: 3.7884 - val_categorical_accuracy: 0.2200\n",
            "\n",
            "Epoch 00003: saving model to model_init_2021-02-1506_49_20.968347/model-00003-1.24394-0.55505-3.78841-0.22000.h5\n",
            "Epoch 4/25\n",
            "34/34 [==============================] - 114s 3s/step - loss: 1.0367 - categorical_accuracy: 0.5997 - val_loss: 5.8701 - val_categorical_accuracy: 0.1300\n",
            "\n",
            "Epoch 00004: saving model to model_init_2021-02-1506_49_20.968347/model-00004-1.08551-0.60332-5.87006-0.13000.h5\n",
            "Epoch 5/25\n",
            "34/34 [==============================] - 115s 3s/step - loss: 0.8815 - categorical_accuracy: 0.6596 - val_loss: 6.5237 - val_categorical_accuracy: 0.1700\n",
            "\n",
            "Epoch 00005: saving model to model_init_2021-02-1506_49_20.968347/model-00005-0.93640-0.64857-6.52371-0.17000.h5\n",
            "\n",
            "Epoch 00005: ReduceLROnPlateau reducing learning rate to 0.00020000000949949026.\n",
            "Epoch 6/25\n",
            "34/34 [==============================] - 115s 3s/step - loss: 0.7998 - categorical_accuracy: 0.6821 - val_loss: 7.1290 - val_categorical_accuracy: 0.1900\n",
            "\n",
            "Epoch 00006: saving model to model_init_2021-02-1506_49_20.968347/model-00006-0.79199-0.68854-7.12903-0.19000.h5\n",
            "Epoch 7/25\n",
            "34/34 [==============================] - 114s 3s/step - loss: 0.7971 - categorical_accuracy: 0.6784 - val_loss: 6.3599 - val_categorical_accuracy: 0.2200\n",
            "\n",
            "Epoch 00007: saving model to model_init_2021-02-1506_49_20.968347/model-00007-0.80290-0.67873-6.35988-0.22000.h5\n",
            "Epoch 8/25\n",
            "34/34 [==============================] - 113s 3s/step - loss: 0.7212 - categorical_accuracy: 0.7341 - val_loss: 7.2984 - val_categorical_accuracy: 0.2000\n",
            "\n",
            "Epoch 00008: saving model to model_init_2021-02-1506_49_20.968347/model-00008-0.70480-0.73756-7.29836-0.20000.h5\n",
            "Epoch 9/25\n",
            "34/34 [==============================] - 115s 3s/step - loss: 0.6250 - categorical_accuracy: 0.7537 - val_loss: 6.0663 - val_categorical_accuracy: 0.2300\n",
            "\n",
            "Epoch 00009: saving model to model_init_2021-02-1506_49_20.968347/model-00009-0.61885-0.75189-6.06627-0.23000.h5\n",
            "\n",
            "Epoch 00009: ReduceLROnPlateau reducing learning rate to 4.0000001899898055e-05.\n",
            "Epoch 10/25\n",
            "34/34 [==============================] - 113s 3s/step - loss: 0.5839 - categorical_accuracy: 0.7800 - val_loss: 4.9485 - val_categorical_accuracy: 0.3200\n",
            "\n",
            "Epoch 00010: saving model to model_init_2021-02-1506_49_20.968347/model-00010-0.59863-0.76244-4.94848-0.32000.h5\n",
            "Epoch 11/25\n",
            "34/34 [==============================] - 114s 3s/step - loss: 0.5242 - categorical_accuracy: 0.8088 - val_loss: 4.7526 - val_categorical_accuracy: 0.2800\n",
            "\n",
            "Epoch 00011: saving model to model_init_2021-02-1506_49_20.968347/model-00011-0.56368-0.78356-4.75255-0.28000.h5\n",
            "Epoch 12/25\n",
            "34/34 [==============================] - 113s 3s/step - loss: 0.5288 - categorical_accuracy: 0.7867 - val_loss: 3.9759 - val_categorical_accuracy: 0.3200\n",
            "\n",
            "Epoch 00012: saving model to model_init_2021-02-1506_49_20.968347/model-00012-0.56504-0.77677-3.97587-0.32000.h5\n",
            "Epoch 13/25\n",
            "34/34 [==============================] - 113s 3s/step - loss: 0.4827 - categorical_accuracy: 0.8165 - val_loss: 3.9458 - val_categorical_accuracy: 0.2600\n",
            "\n",
            "Epoch 00013: saving model to model_init_2021-02-1506_49_20.968347/model-00013-0.54703-0.79186-3.94581-0.26000.h5\n",
            "\n",
            "Epoch 00013: ReduceLROnPlateau reducing learning rate to 8.000000525498762e-06.\n",
            "Epoch 14/25\n",
            "34/34 [==============================] - 114s 3s/step - loss: 0.5477 - categorical_accuracy: 0.8030 - val_loss: 2.9509 - val_categorical_accuracy: 0.3200\n",
            "\n",
            "Epoch 00014: saving model to model_init_2021-02-1506_49_20.968347/model-00014-0.53057-0.80618-2.95091-0.32000.h5\n",
            "Epoch 15/25\n",
            "34/34 [==============================] - 114s 3s/step - loss: 0.5085 - categorical_accuracy: 0.8044 - val_loss: 2.5489 - val_categorical_accuracy: 0.3600\n",
            "\n",
            "Epoch 00015: saving model to model_init_2021-02-1506_49_20.968347/model-00015-0.51173-0.81222-2.54893-0.36000.h5\n",
            "Epoch 16/25\n",
            "34/34 [==============================] - 114s 3s/step - loss: 0.5798 - categorical_accuracy: 0.7868 - val_loss: 1.9166 - val_categorical_accuracy: 0.4200\n",
            "\n",
            "Epoch 00016: saving model to model_init_2021-02-1506_49_20.968347/model-00016-0.52381-0.80468-1.91657-0.42000.h5\n",
            "Epoch 17/25\n",
            "34/34 [==============================] - 113s 3s/step - loss: 0.4594 - categorical_accuracy: 0.8402 - val_loss: 1.5947 - val_categorical_accuracy: 0.5100\n",
            "\n",
            "Epoch 00017: saving model to model_init_2021-02-1506_49_20.968347/model-00017-0.44750-0.84012-1.59475-0.51000.h5\n",
            "Epoch 18/25\n",
            "34/34 [==============================] - 114s 3s/step - loss: 0.4742 - categorical_accuracy: 0.8354 - val_loss: 1.0034 - val_categorical_accuracy: 0.7000\n",
            "\n",
            "Epoch 00018: saving model to model_init_2021-02-1506_49_20.968347/model-00018-0.48281-0.83258-1.00343-0.70000.h5\n",
            "Epoch 19/25\n",
            "34/34 [==============================] - 113s 3s/step - loss: 0.4459 - categorical_accuracy: 0.8342 - val_loss: 1.0039 - val_categorical_accuracy: 0.6800\n",
            "\n",
            "Epoch 00019: saving model to model_init_2021-02-1506_49_20.968347/model-00019-0.46267-0.82881-1.00393-0.68000.h5\n",
            "Epoch 20/25\n",
            "34/34 [==============================] - 115s 3s/step - loss: 0.5204 - categorical_accuracy: 0.8006 - val_loss: 0.9077 - val_categorical_accuracy: 0.7500\n",
            "\n",
            "Epoch 00020: saving model to model_init_2021-02-1506_49_20.968347/model-00020-0.55234-0.78356-0.90771-0.75000.h5\n",
            "Epoch 21/25\n",
            "34/34 [==============================] - 114s 3s/step - loss: 0.4982 - categorical_accuracy: 0.8095 - val_loss: 0.7546 - val_categorical_accuracy: 0.7400\n",
            "\n",
            "Epoch 00021: saving model to model_init_2021-02-1506_49_20.968347/model-00021-0.51515-0.81146-0.75464-0.74000.h5\n",
            "Epoch 22/25\n",
            "34/34 [==============================] - 113s 3s/step - loss: 0.4658 - categorical_accuracy: 0.8311 - val_loss: 0.5560 - val_categorical_accuracy: 0.8000\n",
            "\n",
            "Epoch 00022: saving model to model_init_2021-02-1506_49_20.968347/model-00022-0.45569-0.83107-0.55603-0.80000.h5\n",
            "Epoch 23/25\n",
            "34/34 [==============================] - 115s 3s/step - loss: 0.4125 - categorical_accuracy: 0.8356 - val_loss: 0.5068 - val_categorical_accuracy: 0.8300\n",
            "\n",
            "Epoch 00023: saving model to model_init_2021-02-1506_49_20.968347/model-00023-0.49311-0.80468-0.50678-0.83000.h5\n",
            "Epoch 24/25\n",
            "34/34 [==============================] - 112s 3s/step - loss: 0.4795 - categorical_accuracy: 0.8217 - val_loss: 0.6555 - val_categorical_accuracy: 0.7800\n",
            "\n",
            "Epoch 00024: saving model to model_init_2021-02-1506_49_20.968347/model-00024-0.50962-0.81297-0.65549-0.78000.h5\n",
            "Epoch 25/25\n",
            "34/34 [==============================] - 114s 3s/step - loss: 0.5393 - categorical_accuracy: 0.8073 - val_loss: 0.5476 - val_categorical_accuracy: 0.8400\n",
            "\n",
            "Epoch 00025: saving model to model_init_2021-02-1506_49_20.968347/model-00025-0.52105-0.81523-0.54764-0.84000.h5\n"
          ],
          "name": "stdout"
        }
      ]
    },
    {
      "cell_type": "code",
      "metadata": {
        "id": "ARGFvmJawZn8",
        "colab": {
          "base_uri": "https://localhost:8080/",
          "height": 265
        },
        "outputId": "439b2df9-23d8-4edf-8924-e8eb22a4c6c7"
      },
      "source": [
        "plot(history_model2)"
      ],
      "execution_count": 18,
      "outputs": [
        {
          "output_type": "display_data",
          "data": {
            "image/png": "[encoded data removed]",
            "text/plain": [
              "<Figure size 1080x288 with 2 Axes>"
            ]
          },
          "metadata": {
            "tags": [],
            "needs_background": "light"
          }
        }
      ]
    },
    {
      "cell_type": "markdown",
      "metadata": {
        "id": "vfr0DfqqwZn-"
      },
      "source": [
        "##### Model is not overfitting and we get a best validation accuracy of 84% and training accuracy of 81%. "
      ]
    },
    {
      "cell_type": "markdown",
      "metadata": {
        "id": "F4ij_vFOwZpo"
      },
      "source": [
        "# Type-3-Models- CNN - LSTM Models"
      ]
    },
    {
      "cell_type": "code",
      "metadata": {
        "collapsed": true,
        "id": "_J6xYvsBwZpo"
      },
      "source": [
        "class RNNCNN1(ModelBuilder):\n",
        "    \n",
        "    def define_model(self,lstm_cells=64,dense_neurons=64,dropout=0.25):\n",
        "\n",
        "        model = Sequential()\n",
        "\n",
        "        model.add(TimeDistributed(Conv2D(16, (3, 3) , padding='same', activation='relu'),\n",
        "                                  input_shape=(self.frames_to_sample,self.image_height,self.image_width,self.channels)))\n",
        "        model.add(TimeDistributed(BatchNormalization()))\n",
        "        model.add(TimeDistributed(MaxPooling2D((2, 2))))\n",
        "        \n",
        "        model.add(TimeDistributed(Conv2D(32, (3, 3) , padding='same', activation='relu')))\n",
        "        model.add(TimeDistributed(BatchNormalization()))\n",
        "        model.add(TimeDistributed(MaxPooling2D((2, 2))))\n",
        "        \n",
        "        model.add(TimeDistributed(Conv2D(64, (3, 3) , padding='same', activation='relu')))\n",
        "        model.add(TimeDistributed(BatchNormalization()))\n",
        "        model.add(TimeDistributed(MaxPooling2D((2, 2))))\n",
        "        \n",
        "        model.add(TimeDistributed(Conv2D(128, (3, 3) , padding='same', activation='relu')))\n",
        "        model.add(TimeDistributed(BatchNormalization()))\n",
        "        model.add(TimeDistributed(MaxPooling2D((2, 2))))\n",
        "        \n",
        "        model.add(TimeDistributed(Conv2D(256, (3, 3) , padding='same', activation='relu')))\n",
        "        model.add(TimeDistributed(BatchNormalization()))\n",
        "        model.add(TimeDistributed(MaxPooling2D((2, 2))))\n",
        "        \n",
        "        #model.add(TimeDistributed(Conv2D(512, (2, 2) , padding='valid', activation='relu')))\n",
        "       # model.add(TimeDistributed(BatchNormalization()))\n",
        "       # model.add(TimeDistributed(MaxPooling2D((2, 2))))\n",
        "\n",
        "        model.add(TimeDistributed(Flatten()))\n",
        "\n",
        "\n",
        "        model.add(LSTM(lstm_cells))\n",
        "        model.add(Dropout(dropout))\n",
        "        \n",
        "        model.add(Dense(dense_neurons,activation='relu'))\n",
        "        model.add(Dropout(dropout))\n",
        "        \n",
        "        model.add(Dense(self.num_classes, activation='softmax'))\n",
        "        optimiser = optimizers.Adam()\n",
        "        model.compile(optimizer=optimiser, loss='categorical_crossentropy', metrics=['categorical_accuracy'])\n",
        "        return model"
      ],
      "execution_count": 19,
      "outputs": []
    },
    {
      "cell_type": "markdown",
      "metadata": {
        "id": "X_qSw9d29GTi"
      },
      "source": [
        "**Model 8-Conv2D-LSTM:** \r\n",
        "- 120X120 image resolution\r\n",
        "- frames to sample-18\r\n",
        "- batch size-20\r\n",
        "- epochs-20\r\n",
        "- dense neurons-128\r\n",
        "- dropout-0.25\r\n",
        "- lstm cells-128"
      ]
    },
    {
      "cell_type": "code",
      "metadata": {
        "id": "f4m8EQyewZpr",
        "colab": {
          "base_uri": "https://localhost:8080/"
        },
        "outputId": "7d17fd6c-6747-40d8-c075-b33c075af84f"
      },
      "source": [
        "rnn_cnn1=RNNCNN1()\n",
        "rnn_cnn1.initialize_path(project_folder)\n",
        "rnn_cnn1.initialize_image_properties(image_height=120,image_width=120)\n",
        "rnn_cnn1.initialize_hyperparams(frames_to_sample=18,batch_size=20,num_epochs=20)\n",
        "rnn_cnn1_model=rnn_cnn1.define_model(lstm_cells=128,dense_neurons=128,dropout=0.25)\n",
        "rnn_cnn1_model.summary()"
      ],
      "execution_count": 20,
      "outputs": [
        {
          "output_type": "stream",
          "text": [
            "Model: \"sequential_2\"\n",
            "_________________________________________________________________\n",
            "Layer (type)                 Output Shape              Param #   \n",
            "=================================================================\n",
            "time_distributed (TimeDistri (None, 18, 120, 120, 16)  448       \n",
            "_________________________________________________________________\n",
            "time_distributed_1 (TimeDist (None, 18, 120, 120, 16)  64        \n",
            "_________________________________________________________________\n",
            "time_distributed_2 (TimeDist (None, 18, 60, 60, 16)    0         \n",
            "_________________________________________________________________\n",
            "time_distributed_3 (TimeDist (None, 18, 60, 60, 32)    4640      \n",
            "_________________________________________________________________\n",
            "time_distributed_4 (TimeDist (None, 18, 60, 60, 32)    128       \n",
            "_________________________________________________________________\n",
            "time_distributed_5 (TimeDist (None, 18, 30, 30, 32)    0         \n",
            "_________________________________________________________________\n",
            "time_distributed_6 (TimeDist (None, 18, 30, 30, 64)    18496     \n",
            "_________________________________________________________________\n",
            "time_distributed_7 (TimeDist (None, 18, 30, 30, 64)    256       \n",
            "_________________________________________________________________\n",
            "time_distributed_8 (TimeDist (None, 18, 15, 15, 64)    0         \n",
            "_________________________________________________________________\n",
            "time_distributed_9 (TimeDist (None, 18, 15, 15, 128)   73856     \n",
            "_________________________________________________________________\n",
            "time_distributed_10 (TimeDis (None, 18, 15, 15, 128)   512       \n",
            "_________________________________________________________________\n",
            "time_distributed_11 (TimeDis (None, 18, 7, 7, 128)     0         \n",
            "_________________________________________________________________\n",
            "time_distributed_12 (TimeDis (None, 18, 7, 7, 256)     295168    \n",
            "_________________________________________________________________\n",
            "time_distributed_13 (TimeDis (None, 18, 7, 7, 256)     1024      \n",
            "_________________________________________________________________\n",
            "time_distributed_14 (TimeDis (None, 18, 3, 3, 256)     0         \n",
            "_________________________________________________________________\n",
            "time_distributed_15 (TimeDis (None, 18, 2304)          0         \n",
            "_________________________________________________________________\n",
            "lstm (LSTM)                  (None, 128)               1245696   \n",
            "_________________________________________________________________\n",
            "dropout_4 (Dropout)          (None, 128)               0         \n",
            "_________________________________________________________________\n",
            "dense_6 (Dense)              (None, 128)               16512     \n",
            "_________________________________________________________________\n",
            "dropout_5 (Dropout)          (None, 128)               0         \n",
            "_________________________________________________________________\n",
            "dense_7 (Dense)              (None, 5)                 645       \n",
            "=================================================================\n",
            "Total params: 1,657,445\n",
            "Trainable params: 1,656,453\n",
            "Non-trainable params: 992\n",
            "_________________________________________________________________\n"
          ],
          "name": "stdout"
        }
      ]
    },
    {
      "cell_type": "code",
      "metadata": {
        "id": "bPtayj1_wZpu",
        "colab": {
          "base_uri": "https://localhost:8080/"
        },
        "outputId": "248df847-592e-4c2c-e632-f0766f876343"
      },
      "source": [
        "print(\"Total Params:\", rnn_cnn1_model.count_params())\n",
        "history_model9=rnn_cnn1.train_model(rnn_cnn1_model,augment_data=True)"
      ],
      "execution_count": 21,
      "outputs": [
        {
          "output_type": "stream",
          "text": [
            "Total Params: 1657445\n",
            "WARNING:tensorflow:`period` argument is deprecated. Please use `save_freq` to specify the frequency in number of batches seen.\n",
            "Epoch 1/20\n",
            "34/34 [==============================] - 93s 3s/step - loss: 1.5241 - categorical_accuracy: 0.3181 - val_loss: 1.6714 - val_categorical_accuracy: 0.2200\n",
            "\n",
            "Epoch 00001: saving model to model_init_2021-02-1507_55_57.336111/model-00001-1.41922-0.37934-1.67141-0.22000.h5\n",
            "Epoch 2/20\n",
            "34/34 [==============================] - 89s 3s/step - loss: 1.1692 - categorical_accuracy: 0.5130 - val_loss: 1.7006 - val_categorical_accuracy: 0.2300\n",
            "\n",
            "Epoch 00002: saving model to model_init_2021-02-1507_55_57.336111/model-00002-1.12171-0.53922-1.70062-0.23000.h5\n",
            "Epoch 3/20\n",
            "34/34 [==============================] - 89s 3s/step - loss: 1.0055 - categorical_accuracy: 0.6027 - val_loss: 2.1315 - val_categorical_accuracy: 0.3000\n",
            "\n",
            "Epoch 00003: saving model to model_init_2021-02-1507_55_57.336111/model-00003-1.00956-0.59351-2.13149-0.30000.h5\n",
            "Epoch 4/20\n",
            "34/34 [==============================] - 88s 3s/step - loss: 0.9224 - categorical_accuracy: 0.6287 - val_loss: 2.7741 - val_categorical_accuracy: 0.1600\n",
            "\n",
            "Epoch 00004: saving model to model_init_2021-02-1507_55_57.336111/model-00004-0.91802-0.64329-2.77411-0.16000.h5\n",
            "Epoch 5/20\n",
            "34/34 [==============================] - 88s 3s/step - loss: 0.7883 - categorical_accuracy: 0.6926 - val_loss: 3.0981 - val_categorical_accuracy: 0.2000\n",
            "\n",
            "Epoch 00005: saving model to model_init_2021-02-1507_55_57.336111/model-00005-0.77632-0.69985-3.09809-0.20000.h5\n",
            "\n",
            "Epoch 00005: ReduceLROnPlateau reducing learning rate to 0.00020000000949949026.\n",
            "Epoch 6/20\n",
            "34/34 [==============================] - 88s 3s/step - loss: 0.6519 - categorical_accuracy: 0.7461 - val_loss: 2.9291 - val_categorical_accuracy: 0.1700\n",
            "\n",
            "Epoch 00006: saving model to model_init_2021-02-1507_55_57.336111/model-00006-0.62373-0.75566-2.92913-0.17000.h5\n",
            "Epoch 7/20\n",
            "34/34 [==============================] - 89s 3s/step - loss: 0.6169 - categorical_accuracy: 0.7573 - val_loss: 2.9773 - val_categorical_accuracy: 0.1500\n",
            "\n",
            "Epoch 00007: saving model to model_init_2021-02-1507_55_57.336111/model-00007-0.55843-0.78884-2.97726-0.15000.h5\n",
            "Epoch 8/20\n",
            "34/34 [==============================] - 87s 3s/step - loss: 0.3962 - categorical_accuracy: 0.8721 - val_loss: 2.8795 - val_categorical_accuracy: 0.1700\n",
            "\n",
            "Epoch 00008: saving model to model_init_2021-02-1507_55_57.336111/model-00008-0.44052-0.84540-2.87945-0.17000.h5\n",
            "Epoch 9/20\n",
            "34/34 [==============================] - 88s 3s/step - loss: 0.4191 - categorical_accuracy: 0.8458 - val_loss: 2.4191 - val_categorical_accuracy: 0.2800\n",
            "\n",
            "Epoch 00009: saving model to model_init_2021-02-1507_55_57.336111/model-00009-0.41406-0.84540-2.41913-0.28000.h5\n",
            "\n",
            "Epoch 00009: ReduceLROnPlateau reducing learning rate to 4.0000001899898055e-05.\n",
            "Epoch 10/20\n",
            "34/34 [==============================] - 88s 3s/step - loss: 0.3797 - categorical_accuracy: 0.8710 - val_loss: 2.6466 - val_categorical_accuracy: 0.2400\n",
            "\n",
            "Epoch 00010: saving model to model_init_2021-02-1507_55_57.336111/model-00010-0.35425-0.88084-2.64665-0.24000.h5\n",
            "Epoch 11/20\n",
            "34/34 [==============================] - 89s 3s/step - loss: 0.3540 - categorical_accuracy: 0.8770 - val_loss: 2.3794 - val_categorical_accuracy: 0.2900\n",
            "\n",
            "Epoch 00011: saving model to model_init_2021-02-1507_55_57.336111/model-00011-0.35787-0.87858-2.37942-0.29000.h5\n",
            "Epoch 12/20\n",
            "34/34 [==============================] - 88s 3s/step - loss: 0.3621 - categorical_accuracy: 0.8795 - val_loss: 2.4849 - val_categorical_accuracy: 0.2900\n",
            "\n",
            "Epoch 00012: saving model to model_init_2021-02-1507_55_57.336111/model-00012-0.32245-0.89140-2.48486-0.29000.h5\n",
            "Epoch 13/20\n",
            "34/34 [==============================] - 88s 3s/step - loss: 0.2913 - categorical_accuracy: 0.8980 - val_loss: 1.6854 - val_categorical_accuracy: 0.4600\n",
            "\n",
            "Epoch 00013: saving model to model_init_2021-02-1507_55_57.336111/model-00013-0.30351-0.89291-1.68539-0.46000.h5\n",
            "\n",
            "Epoch 00013: ReduceLROnPlateau reducing learning rate to 8.000000525498762e-06.\n",
            "Epoch 14/20\n",
            "34/34 [==============================] - 88s 3s/step - loss: 0.3181 - categorical_accuracy: 0.9015 - val_loss: 1.4395 - val_categorical_accuracy: 0.4600\n",
            "\n",
            "Epoch 00014: saving model to model_init_2021-02-1507_55_57.336111/model-00014-0.30875-0.90271-1.43951-0.46000.h5\n",
            "Epoch 15/20\n",
            "34/34 [==============================] - 88s 3s/step - loss: 0.3100 - categorical_accuracy: 0.8865 - val_loss: 1.2536 - val_categorical_accuracy: 0.5200\n",
            "\n",
            "Epoch 00015: saving model to model_init_2021-02-1507_55_57.336111/model-00015-0.30541-0.88462-1.25362-0.52000.h5\n",
            "Epoch 16/20\n",
            "34/34 [==============================] - 88s 3s/step - loss: 0.3197 - categorical_accuracy: 0.8846 - val_loss: 1.0840 - val_categorical_accuracy: 0.5600\n",
            "\n",
            "Epoch 00016: saving model to model_init_2021-02-1507_55_57.336111/model-00016-0.30460-0.89668-1.08398-0.56000.h5\n",
            "Epoch 17/20\n",
            "34/34 [==============================] - 88s 3s/step - loss: 0.2732 - categorical_accuracy: 0.9193 - val_loss: 0.9831 - val_categorical_accuracy: 0.6100\n",
            "\n",
            "Epoch 00017: saving model to model_init_2021-02-1507_55_57.336111/model-00017-0.29740-0.90347-0.98313-0.61000.h5\n",
            "Epoch 18/20\n",
            "34/34 [==============================] - 89s 3s/step - loss: 0.3139 - categorical_accuracy: 0.8987 - val_loss: 0.7096 - val_categorical_accuracy: 0.6900\n",
            "\n",
            "Epoch 00018: saving model to model_init_2021-02-1507_55_57.336111/model-00018-0.29047-0.91327-0.70960-0.69000.h5\n",
            "Epoch 19/20\n",
            "34/34 [==============================] - 90s 3s/step - loss: 0.2692 - categorical_accuracy: 0.9210 - val_loss: 0.8715 - val_categorical_accuracy: 0.6000\n",
            "\n",
            "Epoch 00019: saving model to model_init_2021-02-1507_55_57.336111/model-00019-0.28890-0.90950-0.87152-0.60000.h5\n",
            "Epoch 20/20\n",
            "34/34 [==============================] - 87s 3s/step - loss: 0.3385 - categorical_accuracy: 0.8896 - val_loss: 0.6991 - val_categorical_accuracy: 0.6800\n",
            "\n",
            "Epoch 00020: saving model to model_init_2021-02-1507_55_57.336111/model-00020-0.30791-0.89668-0.69913-0.68000.h5\n"
          ],
          "name": "stdout"
        }
      ]
    },
    {
      "cell_type": "code",
      "metadata": {
        "id": "o_fTjELQwZpw",
        "colab": {
          "base_uri": "https://localhost:8080/",
          "height": 265
        },
        "outputId": "964f77f3-8d84-449f-aa1b-803fe0c2beb4"
      },
      "source": [
        "plot(history_model9)"
      ],
      "execution_count": 22,
      "outputs": [
        {
          "output_type": "display_data",
          "data": {
            "image/png": "[encoded data removed]",
            "text/plain": [
              "<Figure size 1080x288 with 2 Axes>"
            ]
          },
          "metadata": {
            "tags": [],
            "needs_background": "light"
          }
        }
      ]
    },
    {
      "cell_type": "markdown",
      "metadata": {
        "collapsed": true,
        "id": "Oj1hMilHwZpx"
      },
      "source": [
        "##### For CNN - LSTM model we get a best validation accuracy of 68%"
      ]
    },
    {
      "cell_type": "markdown",
      "metadata": {
        "id": "kmP0OWgIwZpy"
      },
      "source": [
        "### As we see more cases of overfitting, lets augment the data with slight rotation as well and run the same set of models again"
      ]
    },
    {
      "cell_type": "markdown",
      "metadata": {
        "id": "3gfZxIY6wZpy"
      },
      "source": [
        "# More Augmentation"
      ]
    },
    {
      "cell_type": "code",
      "metadata": {
        "collapsed": true,
        "id": "DV4p01pIwZpy"
      },
      "source": [
        "class ModelBuilderMoreAugmentation(metaclass= abc.ABCMeta):\n",
        "    \n",
        "    def initialize_path(self,project_folder):\n",
        "        self.train_doc = np.random.permutation(open(project_folder + '/' + 'train.csv').readlines())\n",
        "        self.val_doc = np.random.permutation(open(project_folder + '/' + 'val.csv').readlines())\n",
        "        self.train_path = project_folder + '/' + 'train'\n",
        "        self.val_path =  project_folder + '/' + 'val'\n",
        "        self.num_train_sequences = len(self.train_doc)\n",
        "        self.num_val_sequences = len(self.val_doc)\n",
        "        \n",
        "    def initialize_image_properties(self,image_height=100,image_width=100):\n",
        "        self.image_height=image_height\n",
        "        self.image_width=image_width\n",
        "        self.channels=3\n",
        "        self.num_classes=5\n",
        "        self.total_frames=30\n",
        "          \n",
        "    def initialize_hyperparams(self,frames_to_sample=30,batch_size=20,num_epochs=20):\n",
        "        self.frames_to_sample=frames_to_sample\n",
        "        self.batch_size=batch_size\n",
        "        self.num_epochs=num_epochs\n",
        "        \n",
        "        \n",
        "    def generator(self,source_path, folder_list, augment=False):\n",
        "        img_idx = np.round(np.linspace(0,self.total_frames-1,self.frames_to_sample)).astype(int)\n",
        "        batch_size=self.batch_size\n",
        "        while True:\n",
        "            t = np.random.permutation(folder_list)\n",
        "            num_batches = len(t)//batch_size\n",
        "        \n",
        "            for batch in range(num_batches): \n",
        "                batch_data, batch_labels= self.one_batch_data(source_path,t,batch,batch_size,img_idx,augment)\n",
        "                yield batch_data, batch_labels \n",
        "\n",
        "            remaining_seq=len(t)%batch_size\n",
        "        \n",
        "            if (remaining_seq != 0):\n",
        "                batch_data, batch_labels= self.one_batch_data(source_path,t,num_batches,batch_size,img_idx,augment,remaining_seq)\n",
        "                yield batch_data, batch_labels \n",
        "    \n",
        "    \n",
        "    def one_batch_data(self,source_path,t,batch,batch_size,img_idx,augment,remaining_seq=0):\n",
        "    \n",
        "        seq_len = remaining_seq if remaining_seq else batch_size\n",
        "    \n",
        "        batch_data = np.zeros((seq_len,len(img_idx),self.image_height,self.image_width,self.channels)) \n",
        "        batch_labels = np.zeros((seq_len,self.num_classes)) \n",
        "    \n",
        "        if (augment): batch_data_aug = np.zeros((seq_len,len(img_idx),self.image_height,self.image_width,self.channels))\n",
        "\n",
        "        \n",
        "        for folder in range(seq_len): \n",
        "            imgs = os.listdir(source_path+'/'+ t[folder + (batch*batch_size)].split(';')[0]) \n",
        "            for idx,item in enumerate(img_idx): \n",
        "                image = imread(source_path+'/'+ t[folder + (batch*batch_size)].strip().split(';')[0]+'/'+imgs[item]).astype(np.float32)\n",
        "                image_resized=imresize(image,(self.image_height,self.image_width,3))\n",
        "            \n",
        "\n",
        "                batch_data[folder,idx,:,:,0] = (image_resized[:,:,0])/255\n",
        "                batch_data[folder,idx,:,:,1] = (image_resized[:,:,1])/255\n",
        "                batch_data[folder,idx,:,:,2] = (image_resized[:,:,2])/255\n",
        "            \n",
        "                if (augment):\n",
        "                    shifted = cv2.warpAffine(image, \n",
        "                                             np.float32([[1, 0, np.random.randint(-30,30)],[0, 1, np.random.randint(-30,30)]]), \n",
        "                                            (image.shape[1], image.shape[0]))\n",
        "                    \n",
        "                    gray = cv2.cvtColor(shifted,cv2.COLOR_BGR2GRAY)\n",
        "\n",
        "                    x0, y0 = np.argwhere(gray > 0).min(axis=0)\n",
        "                    x1, y1 = np.argwhere(gray > 0).max(axis=0) \n",
        "                    \n",
        "                    cropped=shifted[x0:x1,y0:y1,:]\n",
        "                    \n",
        "                    image_resized=imresize(cropped,(self.image_height,self.image_width,3))\n",
        "                    \n",
        "                    M = cv2.getRotationMatrix2D((self.image_width//2,self.image_height//2),\n",
        "                                                np.random.randint(-10,10), 1.0)\n",
        "                    rotated = cv2.warpAffine(image_resized, M, (self.image_width, self.image_height))\n",
        "                    \n",
        "                    #shifted = cv2.warpAffine(image_resized, \n",
        "                    #                        np.float32([[1, 0, np.random.randint(-3,3)],[0, 1, np.random.randint(-3,3)]]), \n",
        "                    #                        (image_resized.shape[1], image_resized.shape[0]))\n",
        "            \n",
        "                    batch_data_aug[folder,idx,:,:,0] = (rotated[:,:,0])/255\n",
        "                    batch_data_aug[folder,idx,:,:,1] = (rotated[:,:,1])/255\n",
        "                    batch_data_aug[folder,idx,:,:,2] = (rotated[:,:,2])/255\n",
        "                \n",
        "            \n",
        "            batch_labels[folder, int(t[folder + (batch*batch_size)].strip().split(';')[2])] = 1\n",
        "            \n",
        "    \n",
        "        if (augment):\n",
        "            batch_data=np.concatenate([batch_data,batch_data_aug])\n",
        "            batch_labels=np.concatenate([batch_labels,batch_labels])\n",
        "\n",
        "        \n",
        "        return(batch_data,batch_labels)\n",
        "    \n",
        "    \n",
        "    def train_model(self, model, augment_data=False):\n",
        "        train_generator = self.generator(self.train_path, self.train_doc,augment=augment_data)\n",
        "        val_generator = self.generator(self.val_path, self.val_doc)\n",
        "\n",
        "        model_name = 'model_init' + '_' + str(datetime.datetime.now()).replace(' ','').replace(':','_') + '/'\n",
        "    \n",
        "        if not os.path.exists(model_name):\n",
        "            os.mkdir(model_name)\n",
        "        \n",
        "        filepath = model_name + 'model-{epoch:05d}-{loss:.5f}-{categorical_accuracy:.5f}-{val_loss:.5f}-{val_categorical_accuracy:.5f}.h5'\n",
        "\n",
        "        checkpoint = ModelCheckpoint(filepath, monitor='val_loss', verbose=1, save_best_only=False, save_weights_only=False, mode='auto', period=1)\n",
        "        LR = ReduceLROnPlateau(monitor='val_loss', factor=0.2, verbose=1, patience=4)\n",
        "        callbacks_list = [checkpoint, LR]\n",
        "\n",
        "        if (self.num_train_sequences%self.batch_size) == 0:\n",
        "            steps_per_epoch = int(self.num_train_sequences/self.batch_size)\n",
        "        else:\n",
        "            steps_per_epoch = (self.num_train_sequences//self.batch_size) + 1\n",
        "\n",
        "        if (self.num_val_sequences%self.batch_size) == 0:\n",
        "            validation_steps = int(self.num_val_sequences/self.batch_size)\n",
        "        else:\n",
        "            validation_steps = (self.num_val_sequences//self.batch_size) + 1\n",
        "    \n",
        "        history=model.fit_generator(train_generator, steps_per_epoch=steps_per_epoch, epochs=self.num_epochs, verbose=1, \n",
        "                            callbacks=callbacks_list, validation_data=val_generator, \n",
        "                            validation_steps=validation_steps, class_weight=None, workers=1, initial_epoch=0)\n",
        "        return history\n",
        "\n",
        "        \n",
        "    @abc.abstractmethod\n",
        "    def define_model(self):\n",
        "        pass"
      ],
      "execution_count": 10,
      "outputs": []
    },
    {
      "cell_type": "markdown",
      "metadata": {
        "id": "jYYvWq9gGy9p"
      },
      "source": [
        "# Type-4 Conv3D"
      ]
    },
    {
      "cell_type": "markdown",
      "metadata": {
        "id": "ZzepjWGlwZp2"
      },
      "source": [
        "**Model 9-Conv3D:** \r\n",
        "- Data Augmentation\r\n",
        "- (3,3,3) filter size\r\n",
        "- 160X160 image resolution\r\n",
        "- frames to sample-20\r\n",
        "- batch size-20\r\n",
        "- epochs-30\r\n",
        "- dense neurons-256\r\n",
        "- dropout-0.50\r\n"
      ]
    },
    {
      "cell_type": "code",
      "metadata": {
        "collapsed": true,
        "id": "4cjhcuYbwZp2"
      },
      "source": [
        "class ModelConv3D10(ModelBuilderMoreAugmentation):\n",
        "    \n",
        "    def define_model(self,filtersize=(3,3,3),dense_neurons=64,dropout=0.25):\n",
        "\n",
        "        model = Sequential()\n",
        "        model.add(Conv3D(16, filtersize, padding='same',\n",
        "                 input_shape=(self.frames_to_sample,self.image_height,self.image_width,self.channels)))\n",
        "        model.add(Activation('relu'))\n",
        "        model.add(BatchNormalization())\n",
        "        model.add(MaxPooling3D(pool_size=(2, 2, 2)))\n",
        "\n",
        "        model.add(Conv3D(32, filtersize, padding='same'))\n",
        "        model.add(Activation('relu'))\n",
        "        model.add(BatchNormalization())\n",
        "        model.add(MaxPooling3D(pool_size=(2, 2, 2)))\n",
        "\n",
        "        model.add(Conv3D(64, filtersize, padding='same'))\n",
        "        model.add(Activation('relu'))\n",
        "        model.add(BatchNormalization())\n",
        "        model.add(MaxPooling3D(pool_size=(2, 2, 2)))\n",
        "\n",
        "        model.add(Conv3D(128, filtersize, padding='same'))\n",
        "        model.add(Activation('relu'))\n",
        "        model.add(BatchNormalization())\n",
        "        model.add(MaxPooling3D(pool_size=(2, 2, 2)))\n",
        "\n",
        "        model.add(Flatten())\n",
        "        model.add(Dense(dense_neurons,activation='relu'))\n",
        "        model.add(BatchNormalization())\n",
        "        model.add(Dropout(dropout))\n",
        "\n",
        "        model.add(Dense(dense_neurons,activation='relu'))\n",
        "        model.add(BatchNormalization())\n",
        "        model.add(Dropout(dropout))\n",
        "\n",
        "        model.add(Dense(self.num_classes,activation='softmax'))\n",
        "\n",
        "        optimiser = optimizers.Adam(lr=0.0002)\n",
        "        model.compile(optimizer=optimiser, loss='categorical_crossentropy', metrics=['categorical_accuracy'])\n",
        "        return model"
      ],
      "execution_count": 24,
      "outputs": []
    },
    {
      "cell_type": "code",
      "metadata": {
        "id": "MtWohmQ1wZp-",
        "colab": {
          "base_uri": "https://localhost:8080/"
        },
        "outputId": "56ca8932-e1b6-4624-d04a-10174c4ef766"
      },
      "source": [
        "conv_3d10=ModelConv3D10()\n",
        "conv_3d10.initialize_path(project_folder)\n",
        "conv_3d10.initialize_image_properties(image_height=160,image_width=160)\n",
        "conv_3d10.initialize_hyperparams(frames_to_sample=20,batch_size=20,num_epochs=30)\n",
        "conv_3d10_model=conv_3d10.define_model(dense_neurons=256,dropout=0.5)\n",
        "conv_3d10_model.summary()"
      ],
      "execution_count": 25,
      "outputs": [
        {
          "output_type": "stream",
          "text": [
            "Model: \"sequential_3\"\n",
            "_________________________________________________________________\n",
            "Layer (type)                 Output Shape              Param #   \n",
            "=================================================================\n",
            "conv3d_8 (Conv3D)            (None, 20, 160, 160, 16)  1312      \n",
            "_________________________________________________________________\n",
            "activation_8 (Activation)    (None, 20, 160, 160, 16)  0         \n",
            "_________________________________________________________________\n",
            "batch_normalization_17 (Batc (None, 20, 160, 160, 16)  64        \n",
            "_________________________________________________________________\n",
            "max_pooling3d_8 (MaxPooling3 (None, 10, 80, 80, 16)    0         \n",
            "_________________________________________________________________\n",
            "conv3d_9 (Conv3D)            (None, 10, 80, 80, 32)    13856     \n",
            "_________________________________________________________________\n",
            "activation_9 (Activation)    (None, 10, 80, 80, 32)    0         \n",
            "_________________________________________________________________\n",
            "batch_normalization_18 (Batc (None, 10, 80, 80, 32)    128       \n",
            "_________________________________________________________________\n",
            "max_pooling3d_9 (MaxPooling3 (None, 5, 40, 40, 32)     0         \n",
            "_________________________________________________________________\n",
            "conv3d_10 (Conv3D)           (None, 5, 40, 40, 64)     55360     \n",
            "_________________________________________________________________\n",
            "activation_10 (Activation)   (None, 5, 40, 40, 64)     0         \n",
            "_________________________________________________________________\n",
            "batch_normalization_19 (Batc (None, 5, 40, 40, 64)     256       \n",
            "_________________________________________________________________\n",
            "max_pooling3d_10 (MaxPooling (None, 2, 20, 20, 64)     0         \n",
            "_________________________________________________________________\n",
            "conv3d_11 (Conv3D)           (None, 2, 20, 20, 128)    221312    \n",
            "_________________________________________________________________\n",
            "activation_11 (Activation)   (None, 2, 20, 20, 128)    0         \n",
            "_________________________________________________________________\n",
            "batch_normalization_20 (Batc (None, 2, 20, 20, 128)    512       \n",
            "_________________________________________________________________\n",
            "max_pooling3d_11 (MaxPooling (None, 1, 10, 10, 128)    0         \n",
            "_________________________________________________________________\n",
            "flatten_3 (Flatten)          (None, 12800)             0         \n",
            "_________________________________________________________________\n",
            "dense_8 (Dense)              (None, 256)               3277056   \n",
            "_________________________________________________________________\n",
            "batch_normalization_21 (Batc (None, 256)               1024      \n",
            "_________________________________________________________________\n",
            "dropout_6 (Dropout)          (None, 256)               0         \n",
            "_________________________________________________________________\n",
            "dense_9 (Dense)              (None, 256)               65792     \n",
            "_________________________________________________________________\n",
            "batch_normalization_22 (Batc (None, 256)               1024      \n",
            "_________________________________________________________________\n",
            "dropout_7 (Dropout)          (None, 256)               0         \n",
            "_________________________________________________________________\n",
            "dense_10 (Dense)             (None, 5)                 1285      \n",
            "=================================================================\n",
            "Total params: 3,638,981\n",
            "Trainable params: 3,637,477\n",
            "Non-trainable params: 1,504\n",
            "_________________________________________________________________\n"
          ],
          "name": "stdout"
        }
      ]
    },
    {
      "cell_type": "code",
      "metadata": {
        "id": "40gR8g-mwZqA",
        "colab": {
          "base_uri": "https://localhost:8080/"
        },
        "outputId": "3a40860e-7b0e-4491-ee8f-f0f46b555cf7"
      },
      "source": [
        "print(\"Total Params:\", conv_3d10_model.count_params())\n",
        "history_model10=conv_3d10.train_model(conv_3d10_model,augment_data=True)"
      ],
      "execution_count": 26,
      "outputs": [
        {
          "output_type": "stream",
          "text": [
            "Total Params: 3638981\n",
            "WARNING:tensorflow:`period` argument is deprecated. Please use `save_freq` to specify the frequency in number of batches seen.\n",
            "Epoch 1/30\n",
            "34/34 [==============================] - 119s 4s/step - loss: 2.4440 - categorical_accuracy: 0.2863 - val_loss: 2.3721 - val_categorical_accuracy: 0.1600\n",
            "\n",
            "Epoch 00001: saving model to model_init_2021-02-1509_18_49.715691/model-00001-2.16905-0.33937-2.37208-0.16000.h5\n",
            "Epoch 2/30\n",
            "34/34 [==============================] - 118s 4s/step - loss: 1.4793 - categorical_accuracy: 0.4911 - val_loss: 2.5595 - val_categorical_accuracy: 0.1900\n",
            "\n",
            "Epoch 00002: saving model to model_init_2021-02-1509_18_49.715691/model-00002-1.48950-0.49095-2.55948-0.19000.h5\n",
            "Epoch 3/30\n",
            "34/34 [==============================] - 118s 4s/step - loss: 1.3716 - categorical_accuracy: 0.5153 - val_loss: 2.7951 - val_categorical_accuracy: 0.1700\n",
            "\n",
            "Epoch 00003: saving model to model_init_2021-02-1509_18_49.715691/model-00003-1.35061-0.51961-2.79506-0.17000.h5\n",
            "Epoch 4/30\n",
            "34/34 [==============================] - 118s 4s/step - loss: 1.0995 - categorical_accuracy: 0.6272 - val_loss: 3.9122 - val_categorical_accuracy: 0.2100\n",
            "\n",
            "Epoch 00004: saving model to model_init_2021-02-1509_18_49.715691/model-00004-1.14926-0.60558-3.91218-0.21000.h5\n",
            "Epoch 5/30\n",
            "34/34 [==============================] - 117s 4s/step - loss: 1.0257 - categorical_accuracy: 0.6305 - val_loss: 4.6442 - val_categorical_accuracy: 0.1600\n",
            "\n",
            "Epoch 00005: saving model to model_init_2021-02-1509_18_49.715691/model-00005-1.03295-0.63650-4.64417-0.16000.h5\n",
            "\n",
            "Epoch 00005: ReduceLROnPlateau reducing learning rate to 3.9999998989515007e-05.\n",
            "Epoch 6/30\n",
            "34/34 [==============================] - 118s 4s/step - loss: 0.9395 - categorical_accuracy: 0.6648 - val_loss: 5.1307 - val_categorical_accuracy: 0.2400\n",
            "\n",
            "Epoch 00006: saving model to model_init_2021-02-1509_18_49.715691/model-00006-0.97151-0.64480-5.13071-0.24000.h5\n",
            "Epoch 7/30\n",
            "34/34 [==============================] - 119s 4s/step - loss: 0.8773 - categorical_accuracy: 0.6575 - val_loss: 5.7647 - val_categorical_accuracy: 0.1900\n",
            "\n",
            "Epoch 00007: saving model to model_init_2021-02-1509_18_49.715691/model-00007-0.89364-0.67195-5.76468-0.19000.h5\n",
            "Epoch 8/30\n",
            "34/34 [==============================] - 119s 4s/step - loss: 0.8385 - categorical_accuracy: 0.6818 - val_loss: 6.4729 - val_categorical_accuracy: 0.1600\n",
            "\n",
            "Epoch 00008: saving model to model_init_2021-02-1509_18_49.715691/model-00008-0.83583-0.69005-6.47293-0.16000.h5\n",
            "Epoch 9/30\n",
            "34/34 [==============================] - 118s 4s/step - loss: 0.8273 - categorical_accuracy: 0.6984 - val_loss: 5.5806 - val_categorical_accuracy: 0.2400\n",
            "\n",
            "Epoch 00009: saving model to model_init_2021-02-1509_18_49.715691/model-00009-0.80748-0.70739-5.58060-0.24000.h5\n",
            "\n",
            "Epoch 00009: ReduceLROnPlateau reducing learning rate to 7.999999797903002e-06.\n",
            "Epoch 10/30\n",
            "34/34 [==============================] - 119s 4s/step - loss: 0.7997 - categorical_accuracy: 0.7041 - val_loss: 5.3349 - val_categorical_accuracy: 0.2600\n",
            "\n",
            "Epoch 00010: saving model to model_init_2021-02-1509_18_49.715691/model-00010-0.78521-0.71267-5.33485-0.26000.h5\n",
            "Epoch 11/30\n",
            "34/34 [==============================] - 118s 4s/step - loss: 0.7739 - categorical_accuracy: 0.7107 - val_loss: 4.7818 - val_categorical_accuracy: 0.3100\n",
            "\n",
            "Epoch 00011: saving model to model_init_2021-02-1509_18_49.715691/model-00011-0.79176-0.70814-4.78179-0.31000.h5\n",
            "Epoch 12/30\n",
            "34/34 [==============================] - 118s 4s/step - loss: 0.8962 - categorical_accuracy: 0.6801 - val_loss: 4.0996 - val_categorical_accuracy: 0.3400\n",
            "\n",
            "Epoch 00012: saving model to model_init_2021-02-1509_18_49.715691/model-00012-0.85006-0.69306-4.09962-0.34000.h5\n",
            "Epoch 13/30\n",
            "34/34 [==============================] - 118s 4s/step - loss: 0.7762 - categorical_accuracy: 0.7226 - val_loss: 3.5051 - val_categorical_accuracy: 0.3300\n",
            "\n",
            "Epoch 00013: saving model to model_init_2021-02-1509_18_49.715691/model-00013-0.75798-0.71870-3.50515-0.33000.h5\n",
            "\n",
            "Epoch 00013: ReduceLROnPlateau reducing learning rate to 1.5999999959603884e-06.\n",
            "Epoch 14/30\n",
            "34/34 [==============================] - 119s 4s/step - loss: 0.7712 - categorical_accuracy: 0.7150 - val_loss: 2.6085 - val_categorical_accuracy: 0.3400\n",
            "\n",
            "Epoch 00014: saving model to model_init_2021-02-1509_18_49.715691/model-00014-0.79449-0.71116-2.60852-0.34000.h5\n",
            "Epoch 15/30\n",
            "34/34 [==============================] - 119s 4s/step - loss: 0.7561 - categorical_accuracy: 0.7103 - val_loss: 2.3377 - val_categorical_accuracy: 0.3900\n",
            "\n",
            "Epoch 00015: saving model to model_init_2021-02-1509_18_49.715691/model-00015-0.80482-0.70664-2.33771-0.39000.h5\n",
            "Epoch 16/30\n",
            "34/34 [==============================] - 119s 4s/step - loss: 0.7608 - categorical_accuracy: 0.7138 - val_loss: 1.7730 - val_categorical_accuracy: 0.4500\n",
            "\n",
            "Epoch 00016: saving model to model_init_2021-02-1509_18_49.715691/model-00016-0.74836-0.71719-1.77303-0.45000.h5\n",
            "Epoch 17/30\n",
            "34/34 [==============================] - 117s 4s/step - loss: 0.7094 - categorical_accuracy: 0.7200 - val_loss: 1.3509 - val_categorical_accuracy: 0.5500\n",
            "\n",
            "Epoch 00017: saving model to model_init_2021-02-1509_18_49.715691/model-00017-0.72784-0.73077-1.35091-0.55000.h5\n",
            "Epoch 18/30\n",
            "34/34 [==============================] - 118s 4s/step - loss: 0.7695 - categorical_accuracy: 0.7435 - val_loss: 1.3290 - val_categorical_accuracy: 0.6500\n",
            "\n",
            "Epoch 00018: saving model to model_init_2021-02-1509_18_49.715691/model-00018-0.73988-0.73680-1.32899-0.65000.h5\n",
            "Epoch 19/30\n",
            "34/34 [==============================] - 118s 4s/step - loss: 0.7937 - categorical_accuracy: 0.7286 - val_loss: 1.0233 - val_categorical_accuracy: 0.6900\n",
            "\n",
            "Epoch 00019: saving model to model_init_2021-02-1509_18_49.715691/model-00019-0.78137-0.73228-1.02333-0.69000.h5\n",
            "Epoch 20/30\n",
            "34/34 [==============================] - 118s 4s/step - loss: 0.7507 - categorical_accuracy: 0.7307 - val_loss: 0.8258 - val_categorical_accuracy: 0.7800\n",
            "\n",
            "Epoch 00020: saving model to model_init_2021-02-1509_18_49.715691/model-00020-0.75301-0.72097-0.82582-0.78000.h5\n",
            "Epoch 21/30\n",
            "34/34 [==============================] - 119s 4s/step - loss: 0.7736 - categorical_accuracy: 0.6980 - val_loss: 0.8547 - val_categorical_accuracy: 0.7400\n",
            "\n",
            "Epoch 00021: saving model to model_init_2021-02-1509_18_49.715691/model-00021-0.79403-0.70211-0.85475-0.74000.h5\n",
            "Epoch 22/30\n",
            "34/34 [==============================] - 117s 4s/step - loss: 0.7044 - categorical_accuracy: 0.7368 - val_loss: 0.7642 - val_categorical_accuracy: 0.7800\n",
            "\n",
            "Epoch 00022: saving model to model_init_2021-02-1509_18_49.715691/model-00022-0.73794-0.73077-0.76422-0.78000.h5\n",
            "Epoch 23/30\n",
            "34/34 [==============================] - 119s 4s/step - loss: 0.7359 - categorical_accuracy: 0.7203 - val_loss: 0.8867 - val_categorical_accuracy: 0.7400\n",
            "\n",
            "Epoch 00023: saving model to model_init_2021-02-1509_18_49.715691/model-00023-0.77396-0.70965-0.88669-0.74000.h5\n",
            "Epoch 24/30\n",
            "34/34 [==============================] - 117s 4s/step - loss: 0.7396 - categorical_accuracy: 0.7467 - val_loss: 0.8481 - val_categorical_accuracy: 0.7200\n",
            "\n",
            "Epoch 00024: saving model to model_init_2021-02-1509_18_49.715691/model-00024-0.73292-0.73680-0.84809-0.72000.h5\n",
            "Epoch 25/30\n",
            "34/34 [==============================] - 118s 4s/step - loss: 0.8104 - categorical_accuracy: 0.7077 - val_loss: 0.8124 - val_categorical_accuracy: 0.7600\n",
            "\n",
            "Epoch 00025: saving model to model_init_2021-02-1509_18_49.715691/model-00025-0.75816-0.71719-0.81239-0.76000.h5\n",
            "Epoch 26/30\n",
            "34/34 [==============================] - 118s 4s/step - loss: 0.7127 - categorical_accuracy: 0.7516 - val_loss: 0.7720 - val_categorical_accuracy: 0.7500\n",
            "\n",
            "Epoch 00026: saving model to model_init_2021-02-1509_18_49.715691/model-00026-0.73574-0.74057-0.77204-0.75000.h5\n",
            "\n",
            "Epoch 00026: ReduceLROnPlateau reducing learning rate to 3.200000037395512e-07.\n",
            "Epoch 27/30\n",
            "34/34 [==============================] - 118s 4s/step - loss: 0.7407 - categorical_accuracy: 0.7260 - val_loss: 0.8779 - val_categorical_accuracy: 0.7200\n",
            "\n",
            "Epoch 00027: saving model to model_init_2021-02-1509_18_49.715691/model-00027-0.79482-0.71719-0.87795-0.72000.h5\n",
            "Epoch 28/30\n",
            "34/34 [==============================] - 119s 4s/step - loss: 0.7049 - categorical_accuracy: 0.7223 - val_loss: 0.7977 - val_categorical_accuracy: 0.7000\n",
            "\n",
            "Epoch 00028: saving model to model_init_2021-02-1509_18_49.715691/model-00028-0.77371-0.70814-0.79770-0.70000.h5\n",
            "Epoch 29/30\n",
            "34/34 [==============================] - 118s 4s/step - loss: 0.6953 - categorical_accuracy: 0.7546 - val_loss: 0.6992 - val_categorical_accuracy: 0.7500\n",
            "\n",
            "Epoch 00029: saving model to model_init_2021-02-1509_18_49.715691/model-00029-0.71066-0.74434-0.69916-0.75000.h5\n",
            "Epoch 30/30\n",
            "34/34 [==============================] - 117s 4s/step - loss: 0.7063 - categorical_accuracy: 0.7518 - val_loss: 0.7470 - val_categorical_accuracy: 0.7400\n",
            "\n",
            "Epoch 00030: saving model to model_init_2021-02-1509_18_49.715691/model-00030-0.70135-0.75490-0.74698-0.74000.h5\n"
          ],
          "name": "stdout"
        }
      ]
    },
    {
      "cell_type": "code",
      "metadata": {
        "id": "Mcq3Ei2pwZqC",
        "colab": {
          "base_uri": "https://localhost:8080/",
          "height": 266
        },
        "outputId": "6e9d2d6a-2de6-494b-8961-286bdd9df50a"
      },
      "source": [
        "plot(history_model10)"
      ],
      "execution_count": 29,
      "outputs": [
        {
          "output_type": "display_data",
          "data": {
            "image/png": "[encoded data removed]",
            "text/plain": [
              "<Figure size 1080x288 with 2 Axes>"
            ]
          },
          "metadata": {
            "tags": [],
            "needs_background": "light"
          }
        }
      ]
    },
    {
      "cell_type": "markdown",
      "metadata": {
        "id": "EVrcL5i0G-w-"
      },
      "source": [
        "# Type-5 Conv3D:"
      ]
    },
    {
      "cell_type": "code",
      "metadata": {
        "collapsed": true,
        "id": "witf-5lLwZqE"
      },
      "source": [
        "class ModelConv3D11(ModelBuilderMoreAugmentation):\n",
        "    def define_model(self,filtersize=(3,3,3),dense_neurons=64,dropout=0.25):\n",
        "        model = Sequential()\n",
        "        model.add(Conv3D(16, filtersize, padding='same', input_shape=(self.frames_to_sample,self.image_height,self.image_width,self.channels)))\n",
        "        model.add(Activation('relu'))\n",
        "        model.add(BatchNormalization())\n",
        "        model.add(MaxPooling3D(pool_size=(2, 2, 2)))\n",
        "\n",
        "        model.add(Conv3D(32, filtersize, padding='same'))\n",
        "        model.add(Activation('relu'))\n",
        "        model.add(BatchNormalization())\n",
        "        model.add(MaxPooling3D(pool_size=(2, 2, 2)))\n",
        "\n",
        "        model.add(Conv3D(64, filtersize, padding='same'))\n",
        "        model.add(Activation('relu'))\n",
        "        model.add(BatchNormalization())\n",
        "        model.add(MaxPooling3D(pool_size=(2, 2, 2)))\n",
        "\n",
        "        model.add(Conv3D(128, filtersize, padding='same'))\n",
        "        model.add(Activation('relu'))\n",
        "        model.add(BatchNormalization())\n",
        "        model.add(MaxPooling3D(pool_size=(2, 2, 2)))\n",
        "\n",
        "        model.add(Flatten())\n",
        "        model.add(Dense(dense_neurons,activation='relu'))\n",
        "        model.add(BatchNormalization())\n",
        "        model.add(Dropout(dropout))\n",
        "\n",
        "        model.add(Dense(dense_neurons,activation='relu'))\n",
        "        model.add(BatchNormalization())\n",
        "        model.add(Dropout(dropout))\n",
        "\n",
        "        model.add(Dense(self.num_classes,activation='softmax'))\n",
        "\n",
        "        optimiser = optimizers.Adam(lr=0.0002)\n",
        "        model.compile(optimizer=optimiser, loss='categorical_crossentropy', metrics=['categorical_accuracy'])\n",
        "        return model"
      ],
      "execution_count": 27,
      "outputs": []
    },
    {
      "cell_type": "markdown",
      "metadata": {
        "id": "HVixAdtHL9UX"
      },
      "source": [
        "**Model 10-Conv3D:** \r\n",
        "- Data Augmentation\r\n",
        "- (2,2,2) filter size\r\n",
        "- 120X120 image resolution\r\n",
        "- frames to sample-16\r\n",
        "- batch size-30\r\n",
        "- epochs-30\r\n",
        "- dense neurons-256\r\n",
        "- dropout-0.50\r\n"
      ]
    },
    {
      "cell_type": "code",
      "metadata": {
        "id": "w2-969mQwZqG",
        "colab": {
          "base_uri": "https://localhost:8080/"
        },
        "outputId": "e0a5ee36-b61d-425a-c2ed-54af44832ef3"
      },
      "source": [
        "conv_3d11=ModelConv3D11()\n",
        "conv_3d11.initialize_path(project_folder)\n",
        "conv_3d11.initialize_image_properties(image_height=120,image_width=120)\n",
        "conv_3d11.initialize_hyperparams(frames_to_sample=16,batch_size=30,num_epochs=30)\n",
        "conv_3d11_model=conv_3d11.define_model(filtersize=(2,2,2),dense_neurons=256,dropout=0.5)\n",
        "conv_3d11_model.summary()"
      ],
      "execution_count": 28,
      "outputs": [
        {
          "output_type": "stream",
          "text": [
            "Model: \"sequential_4\"\n",
            "_________________________________________________________________\n",
            "Layer (type)                 Output Shape              Param #   \n",
            "=================================================================\n",
            "conv3d_12 (Conv3D)           (None, 16, 120, 120, 16)  400       \n",
            "_________________________________________________________________\n",
            "activation_12 (Activation)   (None, 16, 120, 120, 16)  0         \n",
            "_________________________________________________________________\n",
            "batch_normalization_23 (Batc (None, 16, 120, 120, 16)  64        \n",
            "_________________________________________________________________\n",
            "max_pooling3d_12 (MaxPooling (None, 8, 60, 60, 16)     0         \n",
            "_________________________________________________________________\n",
            "conv3d_13 (Conv3D)           (None, 8, 60, 60, 32)     4128      \n",
            "_________________________________________________________________\n",
            "activation_13 (Activation)   (None, 8, 60, 60, 32)     0         \n",
            "_________________________________________________________________\n",
            "batch_normalization_24 (Batc (None, 8, 60, 60, 32)     128       \n",
            "_________________________________________________________________\n",
            "max_pooling3d_13 (MaxPooling (None, 4, 30, 30, 32)     0         \n",
            "_________________________________________________________________\n",
            "conv3d_14 (Conv3D)           (None, 4, 30, 30, 64)     16448     \n",
            "_________________________________________________________________\n",
            "activation_14 (Activation)   (None, 4, 30, 30, 64)     0         \n",
            "_________________________________________________________________\n",
            "batch_normalization_25 (Batc (None, 4, 30, 30, 64)     256       \n",
            "_________________________________________________________________\n",
            "max_pooling3d_14 (MaxPooling (None, 2, 15, 15, 64)     0         \n",
            "_________________________________________________________________\n",
            "conv3d_15 (Conv3D)           (None, 2, 15, 15, 128)    65664     \n",
            "_________________________________________________________________\n",
            "activation_15 (Activation)   (None, 2, 15, 15, 128)    0         \n",
            "_________________________________________________________________\n",
            "batch_normalization_26 (Batc (None, 2, 15, 15, 128)    512       \n",
            "_________________________________________________________________\n",
            "max_pooling3d_15 (MaxPooling (None, 1, 7, 7, 128)      0         \n",
            "_________________________________________________________________\n",
            "flatten_4 (Flatten)          (None, 6272)              0         \n",
            "_________________________________________________________________\n",
            "dense_11 (Dense)             (None, 256)               1605888   \n",
            "_________________________________________________________________\n",
            "batch_normalization_27 (Batc (None, 256)               1024      \n",
            "_________________________________________________________________\n",
            "dropout_8 (Dropout)          (None, 256)               0         \n",
            "_________________________________________________________________\n",
            "dense_12 (Dense)             (None, 256)               65792     \n",
            "_________________________________________________________________\n",
            "batch_normalization_28 (Batc (None, 256)               1024      \n",
            "_________________________________________________________________\n",
            "dropout_9 (Dropout)          (None, 256)               0         \n",
            "_________________________________________________________________\n",
            "dense_13 (Dense)             (None, 5)                 1285      \n",
            "=================================================================\n",
            "Total params: 1,762,613\n",
            "Trainable params: 1,761,109\n",
            "Non-trainable params: 1,504\n",
            "_________________________________________________________________\n"
          ],
          "name": "stdout"
        }
      ]
    },
    {
      "cell_type": "code",
      "metadata": {
        "id": "WydhcrNlwZqI",
        "colab": {
          "base_uri": "https://localhost:8080/"
        },
        "outputId": "ab37b5a8-6b35-4741-ed06-cc6e8f2b47e6"
      },
      "source": [
        "print(\"Total Params:\", conv_3d11_model.count_params())\n",
        "history_model11=conv_3d11.train_model(conv_3d11_model,augment_data=True)"
      ],
      "execution_count": 30,
      "outputs": [
        {
          "output_type": "stream",
          "text": [
            "Total Params: 1762613\n",
            "WARNING:tensorflow:`period` argument is deprecated. Please use `save_freq` to specify the frequency in number of batches seen.\n",
            "Epoch 1/30\n",
            "23/23 [==============================] - 88s 4s/step - loss: 2.5002 - categorical_accuracy: 0.2363 - val_loss: 1.7992 - val_categorical_accuracy: 0.1600\n",
            "\n",
            "Epoch 00001: saving model to model_init_2021-02-1510_22_26.827201/model-00001-2.31455-0.28281-1.79918-0.16000.h5\n",
            "Epoch 2/30\n",
            "23/23 [==============================] - 82s 4s/step - loss: 1.7170 - categorical_accuracy: 0.4244 - val_loss: 2.5623 - val_categorical_accuracy: 0.1500\n",
            "\n",
            "Epoch 00002: saving model to model_init_2021-02-1510_22_26.827201/model-00002-1.61895-0.44193-2.56234-0.15000.h5\n",
            "Epoch 3/30\n",
            "23/23 [==============================] - 83s 4s/step - loss: 1.4136 - categorical_accuracy: 0.4836 - val_loss: 3.7914 - val_categorical_accuracy: 0.1500\n",
            "\n",
            "Epoch 00003: saving model to model_init_2021-02-1510_22_26.827201/model-00003-1.35568-0.50830-3.79142-0.15000.h5\n",
            "Epoch 4/30\n",
            "23/23 [==============================] - 80s 4s/step - loss: 1.2122 - categorical_accuracy: 0.5553 - val_loss: 4.4693 - val_categorical_accuracy: 0.1700\n",
            "\n",
            "Epoch 00004: saving model to model_init_2021-02-1510_22_26.827201/model-00004-1.23787-0.54600-4.46928-0.17000.h5\n",
            "Epoch 5/30\n",
            "23/23 [==============================] - 82s 4s/step - loss: 1.0656 - categorical_accuracy: 0.6043 - val_loss: 5.7155 - val_categorical_accuracy: 0.1600\n",
            "\n",
            "Epoch 00005: saving model to model_init_2021-02-1510_22_26.827201/model-00005-1.06913-0.61086-5.71546-0.16000.h5\n",
            "\n",
            "Epoch 00005: ReduceLROnPlateau reducing learning rate to 3.9999998989515007e-05.\n",
            "Epoch 6/30\n",
            "23/23 [==============================] - 81s 4s/step - loss: 1.0942 - categorical_accuracy: 0.6257 - val_loss: 6.8850 - val_categorical_accuracy: 0.1500\n",
            "\n",
            "Epoch 00006: saving model to model_init_2021-02-1510_22_26.827201/model-00006-1.09322-0.61614-6.88499-0.15000.h5\n",
            "Epoch 7/30\n",
            "23/23 [==============================] - 81s 4s/step - loss: 1.0120 - categorical_accuracy: 0.6299 - val_loss: 7.0499 - val_categorical_accuracy: 0.1800\n",
            "\n",
            "Epoch 00007: saving model to model_init_2021-02-1510_22_26.827201/model-00007-1.01792-0.62821-7.04990-0.18000.h5\n",
            "Epoch 8/30\n",
            "23/23 [==============================] - 81s 4s/step - loss: 1.0396 - categorical_accuracy: 0.6221 - val_loss: 7.7514 - val_categorical_accuracy: 0.1600\n",
            "\n",
            "Epoch 00008: saving model to model_init_2021-02-1510_22_26.827201/model-00008-1.06436-0.62971-7.75139-0.16000.h5\n",
            "Epoch 9/30\n",
            "23/23 [==============================] - 81s 4s/step - loss: 0.9658 - categorical_accuracy: 0.6402 - val_loss: 7.8711 - val_categorical_accuracy: 0.1600\n",
            "\n",
            "Epoch 00009: saving model to model_init_2021-02-1510_22_26.827201/model-00009-0.95506-0.63952-7.87108-0.16000.h5\n",
            "\n",
            "Epoch 00009: ReduceLROnPlateau reducing learning rate to 7.999999797903002e-06.\n",
            "Epoch 10/30\n",
            "23/23 [==============================] - 81s 4s/step - loss: 1.0164 - categorical_accuracy: 0.6244 - val_loss: 7.6694 - val_categorical_accuracy: 0.1600\n",
            "\n",
            "Epoch 00010: saving model to model_init_2021-02-1510_22_26.827201/model-00010-0.99806-0.63499-7.66942-0.16000.h5\n",
            "Epoch 11/30\n",
            "23/23 [==============================] - 82s 4s/step - loss: 0.8828 - categorical_accuracy: 0.6833 - val_loss: 6.6657 - val_categorical_accuracy: 0.1700\n",
            "\n",
            "Epoch 00011: saving model to model_init_2021-02-1510_22_26.827201/model-00011-0.92304-0.65988-6.66568-0.17000.h5\n",
            "Epoch 12/30\n",
            "23/23 [==============================] - 80s 4s/step - loss: 0.9875 - categorical_accuracy: 0.6290 - val_loss: 6.3883 - val_categorical_accuracy: 0.1800\n",
            "\n",
            "Epoch 00012: saving model to model_init_2021-02-1510_22_26.827201/model-00012-0.98706-0.63725-6.38830-0.18000.h5\n",
            "Epoch 13/30\n",
            "23/23 [==============================] - 82s 4s/step - loss: 0.9721 - categorical_accuracy: 0.6672 - val_loss: 5.7013 - val_categorical_accuracy: 0.1800\n",
            "\n",
            "Epoch 00013: saving model to model_init_2021-02-1510_22_26.827201/model-00013-0.93885-0.65611-5.70129-0.18000.h5\n",
            "\n",
            "Epoch 00013: ReduceLROnPlateau reducing learning rate to 1.5999999959603884e-06.\n",
            "Epoch 14/30\n",
            "23/23 [==============================] - 82s 4s/step - loss: 0.9359 - categorical_accuracy: 0.6684 - val_loss: 4.7887 - val_categorical_accuracy: 0.2000\n",
            "\n",
            "Epoch 00014: saving model to model_init_2021-02-1510_22_26.827201/model-00014-0.95868-0.65158-4.78871-0.20000.h5\n",
            "Epoch 15/30\n",
            "23/23 [==============================] - 82s 4s/step - loss: 0.9545 - categorical_accuracy: 0.6529 - val_loss: 4.3831 - val_categorical_accuracy: 0.1800\n",
            "\n",
            "Epoch 00015: saving model to model_init_2021-02-1510_22_26.827201/model-00015-0.95814-0.65158-4.38311-0.18000.h5\n",
            "Epoch 16/30\n",
            "23/23 [==============================] - 80s 4s/step - loss: 0.9101 - categorical_accuracy: 0.6769 - val_loss: 3.9775 - val_categorical_accuracy: 0.2200\n",
            "\n",
            "Epoch 00016: saving model to model_init_2021-02-1510_22_26.827201/model-00016-0.91603-0.66968-3.97751-0.22000.h5\n",
            "Epoch 17/30\n",
            "23/23 [==============================] - 82s 4s/step - loss: 0.9706 - categorical_accuracy: 0.6371 - val_loss: 3.4523 - val_categorical_accuracy: 0.2500\n",
            "\n",
            "Epoch 00017: saving model to model_init_2021-02-1510_22_26.827201/model-00017-0.91187-0.66591-3.45225-0.25000.h5\n",
            "\n",
            "Epoch 00017: ReduceLROnPlateau reducing learning rate to 3.200000037395512e-07.\n",
            "Epoch 18/30\n",
            "23/23 [==============================] - 82s 4s/step - loss: 0.8840 - categorical_accuracy: 0.6598 - val_loss: 2.9393 - val_categorical_accuracy: 0.2900\n",
            "\n",
            "Epoch 00018: saving model to model_init_2021-02-1510_22_26.827201/model-00018-0.91729-0.65385-2.93928-0.29000.h5\n",
            "Epoch 19/30\n",
            "23/23 [==============================] - 82s 4s/step - loss: 0.8499 - categorical_accuracy: 0.6735 - val_loss: 2.4250 - val_categorical_accuracy: 0.3200\n",
            "\n",
            "Epoch 00019: saving model to model_init_2021-02-1510_22_26.827201/model-00019-0.89887-0.65460-2.42501-0.32000.h5\n",
            "Epoch 20/30\n",
            "23/23 [==============================] - 81s 4s/step - loss: 0.8947 - categorical_accuracy: 0.6706 - val_loss: 2.3651 - val_categorical_accuracy: 0.3200\n",
            "\n",
            "Epoch 00020: saving model to model_init_2021-02-1510_22_26.827201/model-00020-0.92290-0.65611-2.36510-0.32000.h5\n",
            "Epoch 21/30\n",
            "23/23 [==============================] - 82s 4s/step - loss: 0.9456 - categorical_accuracy: 0.6528 - val_loss: 1.9778 - val_categorical_accuracy: 0.3600\n",
            "\n",
            "Epoch 00021: saving model to model_init_2021-02-1510_22_26.827201/model-00021-0.96351-0.65988-1.97784-0.36000.h5\n",
            "\n",
            "Epoch 00021: ReduceLROnPlateau reducing learning rate to 6.399999961104187e-08.\n",
            "Epoch 22/30\n",
            "23/23 [==============================] - 82s 4s/step - loss: 0.8075 - categorical_accuracy: 0.6867 - val_loss: 1.6453 - val_categorical_accuracy: 0.4900\n",
            "\n",
            "Epoch 00022: saving model to model_init_2021-02-1510_22_26.827201/model-00022-0.89981-0.65913-1.64528-0.49000.h5\n",
            "Epoch 23/30\n",
            "23/23 [==============================] - 81s 4s/step - loss: 0.9976 - categorical_accuracy: 0.6369 - val_loss: 1.4130 - val_categorical_accuracy: 0.5000\n",
            "\n",
            "Epoch 00023: saving model to model_init_2021-02-1510_22_26.827201/model-00023-0.97739-0.64857-1.41302-0.50000.h5\n",
            "Epoch 24/30\n",
            "23/23 [==============================] - 81s 4s/step - loss: 0.9017 - categorical_accuracy: 0.6864 - val_loss: 1.4177 - val_categorical_accuracy: 0.5400\n",
            "\n",
            "Epoch 00024: saving model to model_init_2021-02-1510_22_26.827201/model-00024-0.89925-0.68175-1.41772-0.54000.h5\n",
            "Epoch 25/30\n",
            "23/23 [==============================] - 82s 4s/step - loss: 0.8488 - categorical_accuracy: 0.6798 - val_loss: 1.2354 - val_categorical_accuracy: 0.5900\n",
            "\n",
            "Epoch 00025: saving model to model_init_2021-02-1510_22_26.827201/model-00025-0.89782-0.67044-1.23543-0.59000.h5\n",
            "Epoch 26/30\n",
            "23/23 [==============================] - 82s 4s/step - loss: 0.9240 - categorical_accuracy: 0.6447 - val_loss: 1.0850 - val_categorical_accuracy: 0.6500\n",
            "\n",
            "Epoch 00026: saving model to model_init_2021-02-1510_22_26.827201/model-00026-0.92329-0.65762-1.08500-0.65000.h5\n",
            "Epoch 27/30\n",
            "23/23 [==============================] - 83s 4s/step - loss: 0.9095 - categorical_accuracy: 0.6582 - val_loss: 1.0381 - val_categorical_accuracy: 0.7000\n",
            "\n",
            "Epoch 00027: saving model to model_init_2021-02-1510_22_26.827201/model-00027-0.89662-0.66968-1.03807-0.70000.h5\n",
            "Epoch 28/30\n",
            "23/23 [==============================] - 81s 4s/step - loss: 0.8546 - categorical_accuracy: 0.6904 - val_loss: 0.9464 - val_categorical_accuracy: 0.7100\n",
            "\n",
            "Epoch 00028: saving model to model_init_2021-02-1510_22_26.827201/model-00028-0.91374-0.67345-0.94644-0.71000.h5\n",
            "Epoch 29/30\n",
            "23/23 [==============================] - 81s 4s/step - loss: 0.9134 - categorical_accuracy: 0.6597 - val_loss: 0.9363 - val_categorical_accuracy: 0.7100\n",
            "\n",
            "Epoch 00029: saving model to model_init_2021-02-1510_22_26.827201/model-00029-0.92873-0.66742-0.93633-0.71000.h5\n",
            "Epoch 30/30\n",
            "23/23 [==============================] - 82s 4s/step - loss: 0.9054 - categorical_accuracy: 0.6749 - val_loss: 0.7770 - val_categorical_accuracy: 0.7400\n",
            "\n",
            "Epoch 00030: saving model to model_init_2021-02-1510_22_26.827201/model-00030-0.91406-0.67195-0.77697-0.74000.h5\n"
          ],
          "name": "stdout"
        }
      ]
    },
    {
      "cell_type": "code",
      "metadata": {
        "id": "wAzEduFpwZqL",
        "colab": {
          "base_uri": "https://localhost:8080/",
          "height": 265
        },
        "outputId": "52ea27d7-33db-46d8-9f08-57c5b8e55565"
      },
      "source": [
        "plot(history_model11)"
      ],
      "execution_count": 31,
      "outputs": [
        {
          "output_type": "display_data",
          "data": {
            "image/png": "[encoded data removed]",
            "text/plain": [
              "<Figure size 1080x288 with 2 Axes>"
            ]
          },
          "metadata": {
            "tags": [],
            "needs_background": "light"
          }
        }
      ]
    },
    {
      "cell_type": "markdown",
      "metadata": {
        "id": "DfA8HLO2HYkY"
      },
      "source": [
        "# Type-6 Conv3D:"
      ]
    },
    {
      "cell_type": "code",
      "metadata": {
        "collapsed": true,
        "id": "5--qEzG4wZqN"
      },
      "source": [
        "class ModelConv3D12(ModelBuilderMoreAugmentation):\n",
        "    def define_model(self,filtersize=(3,3,3),dense_neurons=64,dropout=0.25):\n",
        "        model = Sequential()\n",
        "        model.add(Conv3D(16, filtersize, padding='same',\n",
        "                 input_shape=(self.frames_to_sample,self.image_height,self.image_width,self.channels)))\n",
        "        model.add(Activation('relu'))\n",
        "        model.add(BatchNormalization())\n",
        "        \n",
        "        model.add(Conv3D(16, filtersize, padding='same',\n",
        "                 input_shape=(self.frames_to_sample,self.image_height,self.image_width,self.channels)))\n",
        "        model.add(Activation('relu'))\n",
        "        model.add(BatchNormalization())\n",
        "        \n",
        "        model.add(MaxPooling3D(pool_size=(2, 2, 2)))\n",
        "\n",
        "        model.add(Conv3D(32, filtersize, padding='same'))\n",
        "        model.add(Activation('relu'))\n",
        "        model.add(BatchNormalization())\n",
        "        \n",
        "        model.add(Conv3D(32, filtersize, padding='same'))\n",
        "        model.add(Activation('relu'))\n",
        "        model.add(BatchNormalization())\n",
        "        \n",
        "        model.add(MaxPooling3D(pool_size=(2, 2, 2)))\n",
        "\n",
        "        model.add(Conv3D(64, filtersize, padding='same'))\n",
        "        model.add(Activation('relu'))\n",
        "        model.add(BatchNormalization())\n",
        "        \n",
        "        model.add(Conv3D(64, filtersize, padding='same'))\n",
        "        model.add(Activation('relu'))\n",
        "        model.add(BatchNormalization())\n",
        "        \n",
        "        model.add(MaxPooling3D(pool_size=(2, 2, 2)))\n",
        "\n",
        "        model.add(Conv3D(128, filtersize, padding='same'))\n",
        "        model.add(Activation('relu'))\n",
        "        model.add(BatchNormalization())\n",
        "        \n",
        "        model.add(Conv3D(128, filtersize, padding='same'))\n",
        "        model.add(Activation('relu'))\n",
        "        model.add(BatchNormalization())\n",
        "        \n",
        "        model.add(MaxPooling3D(pool_size=(2, 2, 2)))\n",
        "        \n",
        "\n",
        "        model.add(Flatten())\n",
        "        model.add(Dense(dense_neurons,activation='relu'))\n",
        "        model.add(BatchNormalization())\n",
        "        model.add(Dropout(dropout))\n",
        "\n",
        "        model.add(Dense(dense_neurons,activation='relu'))\n",
        "        model.add(BatchNormalization())\n",
        "        model.add(Dropout(dropout))\n",
        "\n",
        "\n",
        "        model.add(Dense(self.num_classes,activation='softmax'))\n",
        "\n",
        "        optimiser = optimizers.Adam(lr=0.0002)\n",
        "        model.compile(optimizer=optimiser, loss='categorical_crossentropy', metrics=['categorical_accuracy'])\n",
        "        return model"
      ],
      "execution_count": 32,
      "outputs": []
    },
    {
      "cell_type": "markdown",
      "metadata": {
        "id": "Hg8gbgV6L1kk"
      },
      "source": [
        "**Model 11-Conv3D: Adding more layers** \r\n",
        "- Data Augmentation\r\n",
        "- (3,3,3) filter size\r\n",
        "- 120X120 image resolution\r\n",
        "- frames to sample-16\r\n",
        "- batch size-20\r\n",
        "- epochs-30\r\n",
        "- dense neurons-256\r\n",
        "- dropout-0.50\r\n"
      ]
    },
    {
      "cell_type": "code",
      "metadata": {
        "id": "EIcXnZIxwZqR",
        "colab": {
          "base_uri": "https://localhost:8080/"
        },
        "outputId": "4c4beb15-dcdd-4338-b91c-7f67e32a5aec"
      },
      "source": [
        "conv_3d12=ModelConv3D12()\n",
        "conv_3d12.initialize_path(project_folder)\n",
        "conv_3d12.initialize_image_properties(image_height=120,image_width=120)\n",
        "conv_3d12.initialize_hyperparams(frames_to_sample=16,batch_size=20,num_epochs=30)\n",
        "conv_3d12_model=conv_3d12.define_model(filtersize=(3,3,3),dense_neurons=256,dropout=0.5)\n",
        "conv_3d12_model.summary()"
      ],
      "execution_count": 33,
      "outputs": [
        {
          "output_type": "stream",
          "text": [
            "Model: \"sequential_5\"\n",
            "_________________________________________________________________\n",
            "Layer (type)                 Output Shape              Param #   \n",
            "=================================================================\n",
            "conv3d_16 (Conv3D)           (None, 16, 120, 120, 16)  1312      \n",
            "_________________________________________________________________\n",
            "activation_16 (Activation)   (None, 16, 120, 120, 16)  0         \n",
            "_________________________________________________________________\n",
            "batch_normalization_29 (Batc (None, 16, 120, 120, 16)  64        \n",
            "_________________________________________________________________\n",
            "conv3d_17 (Conv3D)           (None, 16, 120, 120, 16)  6928      \n",
            "_________________________________________________________________\n",
            "activation_17 (Activation)   (None, 16, 120, 120, 16)  0         \n",
            "_________________________________________________________________\n",
            "batch_normalization_30 (Batc (None, 16, 120, 120, 16)  64        \n",
            "_________________________________________________________________\n",
            "max_pooling3d_16 (MaxPooling (None, 8, 60, 60, 16)     0         \n",
            "_________________________________________________________________\n",
            "conv3d_18 (Conv3D)           (None, 8, 60, 60, 32)     13856     \n",
            "_________________________________________________________________\n",
            "activation_18 (Activation)   (None, 8, 60, 60, 32)     0         \n",
            "_________________________________________________________________\n",
            "batch_normalization_31 (Batc (None, 8, 60, 60, 32)     128       \n",
            "_________________________________________________________________\n",
            "conv3d_19 (Conv3D)           (None, 8, 60, 60, 32)     27680     \n",
            "_________________________________________________________________\n",
            "activation_19 (Activation)   (None, 8, 60, 60, 32)     0         \n",
            "_________________________________________________________________\n",
            "batch_normalization_32 (Batc (None, 8, 60, 60, 32)     128       \n",
            "_________________________________________________________________\n",
            "max_pooling3d_17 (MaxPooling (None, 4, 30, 30, 32)     0         \n",
            "_________________________________________________________________\n",
            "conv3d_20 (Conv3D)           (None, 4, 30, 30, 64)     55360     \n",
            "_________________________________________________________________\n",
            "activation_20 (Activation)   (None, 4, 30, 30, 64)     0         \n",
            "_________________________________________________________________\n",
            "batch_normalization_33 (Batc (None, 4, 30, 30, 64)     256       \n",
            "_________________________________________________________________\n",
            "conv3d_21 (Conv3D)           (None, 4, 30, 30, 64)     110656    \n",
            "_________________________________________________________________\n",
            "activation_21 (Activation)   (None, 4, 30, 30, 64)     0         \n",
            "_________________________________________________________________\n",
            "batch_normalization_34 (Batc (None, 4, 30, 30, 64)     256       \n",
            "_________________________________________________________________\n",
            "max_pooling3d_18 (MaxPooling (None, 2, 15, 15, 64)     0         \n",
            "_________________________________________________________________\n",
            "conv3d_22 (Conv3D)           (None, 2, 15, 15, 128)    221312    \n",
            "_________________________________________________________________\n",
            "activation_22 (Activation)   (None, 2, 15, 15, 128)    0         \n",
            "_________________________________________________________________\n",
            "batch_normalization_35 (Batc (None, 2, 15, 15, 128)    512       \n",
            "_________________________________________________________________\n",
            "conv3d_23 (Conv3D)           (None, 2, 15, 15, 128)    442496    \n",
            "_________________________________________________________________\n",
            "activation_23 (Activation)   (None, 2, 15, 15, 128)    0         \n",
            "_________________________________________________________________\n",
            "batch_normalization_36 (Batc (None, 2, 15, 15, 128)    512       \n",
            "_________________________________________________________________\n",
            "max_pooling3d_19 (MaxPooling (None, 1, 7, 7, 128)      0         \n",
            "_________________________________________________________________\n",
            "flatten_5 (Flatten)          (None, 6272)              0         \n",
            "_________________________________________________________________\n",
            "dense_14 (Dense)             (None, 256)               1605888   \n",
            "_________________________________________________________________\n",
            "batch_normalization_37 (Batc (None, 256)               1024      \n",
            "_________________________________________________________________\n",
            "dropout_10 (Dropout)         (None, 256)               0         \n",
            "_________________________________________________________________\n",
            "dense_15 (Dense)             (None, 256)               65792     \n",
            "_________________________________________________________________\n",
            "batch_normalization_38 (Batc (None, 256)               1024      \n",
            "_________________________________________________________________\n",
            "dropout_11 (Dropout)         (None, 256)               0         \n",
            "_________________________________________________________________\n",
            "dense_16 (Dense)             (None, 5)                 1285      \n",
            "=================================================================\n",
            "Total params: 2,556,533\n",
            "Trainable params: 2,554,549\n",
            "Non-trainable params: 1,984\n",
            "_________________________________________________________________\n"
          ],
          "name": "stdout"
        }
      ]
    },
    {
      "cell_type": "code",
      "metadata": {
        "id": "RtlTR3KzwZqV",
        "colab": {
          "base_uri": "https://localhost:8080/"
        },
        "outputId": "e8869000-302e-4250-9fd6-14306686874f"
      },
      "source": [
        "print(\"Total Params:\", conv_3d12_model.count_params())\n",
        "history_model12=conv_3d12.train_model(conv_3d12_model,augment_data=True)"
      ],
      "execution_count": 34,
      "outputs": [
        {
          "output_type": "stream",
          "text": [
            "Total Params: 2556533\n",
            "WARNING:tensorflow:`period` argument is deprecated. Please use `save_freq` to specify the frequency in number of batches seen.\n",
            "Epoch 1/30\n",
            "34/34 [==============================] - 92s 3s/step - loss: 2.4264 - categorical_accuracy: 0.2460 - val_loss: 2.3436 - val_categorical_accuracy: 0.2100\n",
            "\n",
            "Epoch 00001: saving model to model_init_2021-02-1511_24_38.867805/model-00001-2.15649-0.31599-2.34357-0.21000.h5\n",
            "Epoch 2/30\n",
            "34/34 [==============================] - 89s 3s/step - loss: 1.6126 - categorical_accuracy: 0.4543 - val_loss: 3.3460 - val_categorical_accuracy: 0.1700\n",
            "\n",
            "Epoch 00002: saving model to model_init_2021-02-1511_24_38.867805/model-00002-1.59470-0.45324-3.34596-0.17000.h5\n",
            "Epoch 3/30\n",
            "34/34 [==============================] - 89s 3s/step - loss: 1.4118 - categorical_accuracy: 0.5339 - val_loss: 4.1150 - val_categorical_accuracy: 0.2100\n",
            "\n",
            "Epoch 00003: saving model to model_init_2021-02-1511_24_38.867805/model-00003-1.42385-0.53092-4.11505-0.21000.h5\n",
            "Epoch 4/30\n",
            "34/34 [==============================] - 88s 3s/step - loss: 1.2773 - categorical_accuracy: 0.5684 - val_loss: 4.7233 - val_categorical_accuracy: 0.1100\n",
            "\n",
            "Epoch 00004: saving model to model_init_2021-02-1511_24_38.867805/model-00004-1.34005-0.54676-4.72329-0.11000.h5\n",
            "Epoch 5/30\n",
            "34/34 [==============================] - 88s 3s/step - loss: 1.0578 - categorical_accuracy: 0.6136 - val_loss: 5.3777 - val_categorical_accuracy: 0.2000\n",
            "\n",
            "Epoch 00005: saving model to model_init_2021-02-1511_24_38.867805/model-00005-1.08910-0.60784-5.37767-0.20000.h5\n",
            "\n",
            "Epoch 00005: ReduceLROnPlateau reducing learning rate to 3.9999998989515007e-05.\n",
            "Epoch 6/30\n",
            "34/34 [==============================] - 88s 3s/step - loss: 1.0610 - categorical_accuracy: 0.6537 - val_loss: 5.6202 - val_categorical_accuracy: 0.1800\n",
            "\n",
            "Epoch 00006: saving model to model_init_2021-02-1511_24_38.867805/model-00006-1.03455-0.64480-5.62021-0.18000.h5\n",
            "Epoch 7/30\n",
            "34/34 [==============================] - 90s 3s/step - loss: 0.9708 - categorical_accuracy: 0.6620 - val_loss: 5.6046 - val_categorical_accuracy: 0.2100\n",
            "\n",
            "Epoch 00007: saving model to model_init_2021-02-1511_24_38.867805/model-00007-0.93799-0.67722-5.60457-0.21000.h5\n",
            "Epoch 8/30\n",
            "34/34 [==============================] - 87s 3s/step - loss: 0.8852 - categorical_accuracy: 0.6741 - val_loss: 6.3319 - val_categorical_accuracy: 0.2200\n",
            "\n",
            "Epoch 00008: saving model to model_init_2021-02-1511_24_38.867805/model-00008-0.84529-0.68929-6.33186-0.22000.h5\n",
            "Epoch 9/30\n",
            "34/34 [==============================] - 89s 3s/step - loss: 0.9004 - categorical_accuracy: 0.6661 - val_loss: 5.7946 - val_categorical_accuracy: 0.2900\n",
            "\n",
            "Epoch 00009: saving model to model_init_2021-02-1511_24_38.867805/model-00009-0.86254-0.67873-5.79461-0.29000.h5\n",
            "\n",
            "Epoch 00009: ReduceLROnPlateau reducing learning rate to 7.999999797903002e-06.\n",
            "Epoch 10/30\n",
            "34/34 [==============================] - 89s 3s/step - loss: 0.7623 - categorical_accuracy: 0.7408 - val_loss: 5.4113 - val_categorical_accuracy: 0.2900\n",
            "\n",
            "Epoch 00010: saving model to model_init_2021-02-1511_24_38.867805/model-00010-0.75823-0.73303-5.41133-0.29000.h5\n",
            "Epoch 11/30\n",
            "34/34 [==============================] - 89s 3s/step - loss: 0.8441 - categorical_accuracy: 0.6823 - val_loss: 5.2769 - val_categorical_accuracy: 0.3200\n",
            "\n",
            "Epoch 00011: saving model to model_init_2021-02-1511_24_38.867805/model-00011-0.88595-0.67345-5.27687-0.32000.h5\n",
            "Epoch 12/30\n",
            "34/34 [==============================] - 88s 3s/step - loss: 0.8395 - categorical_accuracy: 0.6884 - val_loss: 4.5525 - val_categorical_accuracy: 0.3500\n",
            "\n",
            "Epoch 00012: saving model to model_init_2021-02-1511_24_38.867805/model-00012-0.81421-0.69608-4.55254-0.35000.h5\n",
            "Epoch 13/30\n",
            "34/34 [==============================] - 88s 3s/step - loss: 0.7924 - categorical_accuracy: 0.7111 - val_loss: 4.2339 - val_categorical_accuracy: 0.3200\n",
            "\n",
            "Epoch 00013: saving model to model_init_2021-02-1511_24_38.867805/model-00013-0.78520-0.71342-4.23393-0.32000.h5\n",
            "\n",
            "Epoch 00013: ReduceLROnPlateau reducing learning rate to 1.5999999959603884e-06.\n",
            "Epoch 14/30\n",
            "34/34 [==============================] - 88s 3s/step - loss: 0.7808 - categorical_accuracy: 0.7274 - val_loss: 3.4493 - val_categorical_accuracy: 0.3600\n",
            "\n",
            "Epoch 00014: saving model to model_init_2021-02-1511_24_38.867805/model-00014-0.80118-0.71644-3.44926-0.36000.h5\n",
            "Epoch 15/30\n",
            "34/34 [==============================] - 88s 3s/step - loss: 0.8429 - categorical_accuracy: 0.6818 - val_loss: 2.4647 - val_categorical_accuracy: 0.4100\n",
            "\n",
            "Epoch 00015: saving model to model_init_2021-02-1511_24_38.867805/model-00015-0.85509-0.68477-2.46469-0.41000.h5\n",
            "Epoch 16/30\n",
            "34/34 [==============================] - 89s 3s/step - loss: 0.8503 - categorical_accuracy: 0.6987 - val_loss: 2.1804 - val_categorical_accuracy: 0.4300\n",
            "\n",
            "Epoch 00016: saving model to model_init_2021-02-1511_24_38.867805/model-00016-0.83839-0.69080-2.18041-0.43000.h5\n",
            "Epoch 17/30\n",
            "34/34 [==============================] - 90s 3s/step - loss: 0.8227 - categorical_accuracy: 0.7056 - val_loss: 1.6049 - val_categorical_accuracy: 0.5100\n",
            "\n",
            "Epoch 00017: saving model to model_init_2021-02-1511_24_38.867805/model-00017-0.81526-0.71041-1.60492-0.51000.h5\n",
            "Epoch 18/30\n",
            "34/34 [==============================] - 88s 3s/step - loss: 0.7112 - categorical_accuracy: 0.7541 - val_loss: 1.3730 - val_categorical_accuracy: 0.6300\n",
            "\n",
            "Epoch 00018: saving model to model_init_2021-02-1511_24_38.867805/model-00018-0.73322-0.73303-1.37305-0.63000.h5\n",
            "Epoch 19/30\n",
            "34/34 [==============================] - 88s 3s/step - loss: 0.8711 - categorical_accuracy: 0.6766 - val_loss: 1.1740 - val_categorical_accuracy: 0.5800\n",
            "\n",
            "Epoch 00019: saving model to model_init_2021-02-1511_24_38.867805/model-00019-0.89347-0.67722-1.17404-0.58000.h5\n",
            "Epoch 20/30\n",
            "34/34 [==============================] - 89s 3s/step - loss: 0.8496 - categorical_accuracy: 0.7041 - val_loss: 0.9292 - val_categorical_accuracy: 0.6500\n",
            "\n",
            "Epoch 00020: saving model to model_init_2021-02-1511_24_38.867805/model-00020-0.81891-0.71342-0.92919-0.65000.h5\n",
            "Epoch 21/30\n",
            "34/34 [==============================] - 88s 3s/step - loss: 0.7967 - categorical_accuracy: 0.7212 - val_loss: 0.8749 - val_categorical_accuracy: 0.6600\n",
            "\n",
            "Epoch 00021: saving model to model_init_2021-02-1511_24_38.867805/model-00021-0.77263-0.72775-0.87491-0.66000.h5\n",
            "Epoch 22/30\n",
            "34/34 [==============================] - 89s 3s/step - loss: 0.8596 - categorical_accuracy: 0.6824 - val_loss: 0.8385 - val_categorical_accuracy: 0.6400\n",
            "\n",
            "Epoch 00022: saving model to model_init_2021-02-1511_24_38.867805/model-00022-0.82342-0.70136-0.83849-0.64000.h5\n",
            "Epoch 23/30\n",
            "34/34 [==============================] - 88s 3s/step - loss: 0.7670 - categorical_accuracy: 0.7178 - val_loss: 0.8364 - val_categorical_accuracy: 0.6600\n",
            "\n",
            "Epoch 00023: saving model to model_init_2021-02-1511_24_38.867805/model-00023-0.76335-0.72549-0.83643-0.66000.h5\n",
            "Epoch 24/30\n",
            "34/34 [==============================] - 89s 3s/step - loss: 0.8216 - categorical_accuracy: 0.7061 - val_loss: 0.7729 - val_categorical_accuracy: 0.7100\n",
            "\n",
            "Epoch 00024: saving model to model_init_2021-02-1511_24_38.867805/model-00024-0.76604-0.72549-0.77292-0.71000.h5\n",
            "Epoch 25/30\n",
            "34/34 [==============================] - 88s 3s/step - loss: 0.6714 - categorical_accuracy: 0.7412 - val_loss: 0.6751 - val_categorical_accuracy: 0.7600\n",
            "\n",
            "Epoch 00025: saving model to model_init_2021-02-1511_24_38.867805/model-00025-0.68972-0.74510-0.67506-0.76000.h5\n",
            "Epoch 26/30\n",
            "34/34 [==============================] - 88s 3s/step - loss: 0.7918 - categorical_accuracy: 0.6966 - val_loss: 0.7186 - val_categorical_accuracy: 0.7500\n",
            "\n",
            "Epoch 00026: saving model to model_init_2021-02-1511_24_38.867805/model-00026-0.81213-0.70136-0.71855-0.75000.h5\n",
            "Epoch 27/30\n",
            "34/34 [==============================] - 89s 3s/step - loss: 0.8367 - categorical_accuracy: 0.6990 - val_loss: 0.6779 - val_categorical_accuracy: 0.7300\n",
            "\n",
            "Epoch 00027: saving model to model_init_2021-02-1511_24_38.867805/model-00027-0.79150-0.71569-0.67793-0.73000.h5\n",
            "Epoch 28/30\n",
            "34/34 [==============================] - 89s 3s/step - loss: 0.7770 - categorical_accuracy: 0.7048 - val_loss: 0.5534 - val_categorical_accuracy: 0.8100\n",
            "\n",
            "Epoch 00028: saving model to model_init_2021-02-1511_24_38.867805/model-00028-0.80117-0.70965-0.55342-0.81000.h5\n",
            "Epoch 29/30\n",
            "34/34 [==============================] - 89s 3s/step - loss: 0.7840 - categorical_accuracy: 0.7275 - val_loss: 0.7494 - val_categorical_accuracy: 0.7100\n",
            "\n",
            "Epoch 00029: saving model to model_init_2021-02-1511_24_38.867805/model-00029-0.83604-0.70060-0.74938-0.71000.h5\n",
            "Epoch 30/30\n",
            "34/34 [==============================] - 89s 3s/step - loss: 0.7845 - categorical_accuracy: 0.7147 - val_loss: 0.6220 - val_categorical_accuracy: 0.8000\n",
            "\n",
            "Epoch 00030: saving model to model_init_2021-02-1511_24_38.867805/model-00030-0.82376-0.70739-0.62195-0.80000.h5\n"
          ],
          "name": "stdout"
        }
      ]
    },
    {
      "cell_type": "code",
      "metadata": {
        "id": "6hbgMyczwZqY",
        "colab": {
          "base_uri": "https://localhost:8080/",
          "height": 265
        },
        "outputId": "504e3865-fd1f-4dcd-fab1-c85ab3b90791"
      },
      "source": [
        "plot(history_model12)"
      ],
      "execution_count": 35,
      "outputs": [
        {
          "output_type": "display_data",
          "data": {
            "image/png": "[encoded data removed]",
            "text/plain": [
              "<Figure size 1080x288 with 2 Axes>"
            ]
          },
          "metadata": {
            "tags": [],
            "needs_background": "light"
          }
        }
      ]
    },
    {
      "cell_type": "markdown",
      "metadata": {
        "id": "lW5Tg2uXHiRI"
      },
      "source": [
        "# Type-7 Conv3D:"
      ]
    },
    {
      "cell_type": "code",
      "metadata": {
        "collapsed": true,
        "id": "xM4jIQXYwZqe"
      },
      "source": [
        "class ModelConv3D13(ModelBuilderMoreAugmentation):\n",
        "    \n",
        "    def define_model(self,filtersize=(3,3,3),dense_neurons=64,dropout=0.25):\n",
        "\n",
        "        model = Sequential()\n",
        "        model.add(Conv3D(16, filtersize, padding='same',\n",
        "                 input_shape=(self.frames_to_sample,self.image_height,self.image_width,self.channels)))\n",
        "        model.add(Activation('relu'))\n",
        "        model.add(BatchNormalization())\n",
        "        \n",
        "        model.add(Conv3D(16, filtersize, padding='same',\n",
        "                 input_shape=(self.frames_to_sample,self.image_height,self.image_width,self.channels)))\n",
        "        model.add(Activation('relu'))\n",
        "        model.add(BatchNormalization())\n",
        "        \n",
        "        model.add(MaxPooling3D(pool_size=(2, 2, 2)))\n",
        "        model.add(Dropout(dropout))\n",
        "\n",
        "        model.add(Conv3D(32, filtersize, padding='same'))\n",
        "        model.add(Activation('relu'))\n",
        "        model.add(BatchNormalization())\n",
        "        \n",
        "        model.add(Conv3D(32, filtersize, padding='same'))\n",
        "        model.add(Activation('relu'))\n",
        "        model.add(BatchNormalization())\n",
        "        \n",
        "        model.add(MaxPooling3D(pool_size=(2, 2, 2)))\n",
        "        model.add(Dropout(dropout))\n",
        "\n",
        "        model.add(Conv3D(64, filtersize, padding='same'))\n",
        "        model.add(Activation('relu'))\n",
        "        model.add(BatchNormalization())\n",
        "        \n",
        "        model.add(Conv3D(64, filtersize, padding='same'))\n",
        "        model.add(Activation('relu'))\n",
        "        model.add(BatchNormalization())\n",
        "        \n",
        "        model.add(MaxPooling3D(pool_size=(2, 2, 2)))\n",
        "        model.add(Dropout(dropout))\n",
        "\n",
        "        model.add(Conv3D(128, filtersize, padding='same'))\n",
        "        model.add(Activation('relu'))\n",
        "        model.add(BatchNormalization())\n",
        "        \n",
        "        model.add(Conv3D(128, filtersize, padding='same'))\n",
        "        model.add(Activation('relu'))\n",
        "        model.add(BatchNormalization())\n",
        "        \n",
        "        model.add(MaxPooling3D(pool_size=(2, 2, 2)))\n",
        "        model.add(Dropout(dropout))\n",
        "        \n",
        "        model.add(Flatten())\n",
        "        model.add(Dense(dense_neurons,activation='relu'))\n",
        "        model.add(BatchNormalization())\n",
        "        model.add(Dropout(dropout))\n",
        "\n",
        "        model.add(Dense(dense_neurons,activation='relu'))\n",
        "        model.add(BatchNormalization())\n",
        "        model.add(Dropout(dropout))\n",
        "\n",
        "\n",
        "        model.add(Dense(self.num_classes,activation='softmax'))\n",
        "\n",
        "        optimiser = optimizers.Adam(lr=0.0002)\n",
        "        model.compile(optimizer=optimiser, loss='categorical_crossentropy', metrics=['categorical_accuracy'])\n",
        "        return model"
      ],
      "execution_count": 37,
      "outputs": []
    },
    {
      "cell_type": "markdown",
      "metadata": {
        "id": "lW7PXPpHLvKh"
      },
      "source": [
        "**Model 12-Conv3D: Adding Dropouts** \r\n",
        "- Data Augmentation\r\n",
        "- (3,3,3) filter size\r\n",
        "- 120X120 image resolution\r\n",
        "- frames to sample-16\r\n",
        "- batch size-20\r\n",
        "- epochs-25\r\n",
        "- dense neurons-256\r\n",
        "- dropout-0.25\r\n"
      ]
    },
    {
      "cell_type": "code",
      "metadata": {
        "id": "oxo_LWGfwZqg",
        "colab": {
          "base_uri": "https://localhost:8080/"
        },
        "outputId": "b4cbbdf3-96ce-4767-e35f-17dfc60d60e6"
      },
      "source": [
        "conv_3d13=ModelConv3D13()\n",
        "conv_3d13.initialize_path(project_folder)\n",
        "conv_3d13.initialize_image_properties(image_height=120,image_width=120)\n",
        "conv_3d13.initialize_hyperparams(frames_to_sample=16,batch_size=20,num_epochs=25)\n",
        "conv_3d13_model=conv_3d13.define_model(filtersize=(3,3,3),dense_neurons=256,dropout=0.25)\n",
        "conv_3d13_model.summary()"
      ],
      "execution_count": 38,
      "outputs": [
        {
          "output_type": "stream",
          "text": [
            "Model: \"sequential_6\"\n",
            "_________________________________________________________________\n",
            "Layer (type)                 Output Shape              Param #   \n",
            "=================================================================\n",
            "conv3d_24 (Conv3D)           (None, 16, 120, 120, 16)  1312      \n",
            "_________________________________________________________________\n",
            "activation_24 (Activation)   (None, 16, 120, 120, 16)  0         \n",
            "_________________________________________________________________\n",
            "batch_normalization_39 (Batc (None, 16, 120, 120, 16)  64        \n",
            "_________________________________________________________________\n",
            "conv3d_25 (Conv3D)           (None, 16, 120, 120, 16)  6928      \n",
            "_________________________________________________________________\n",
            "activation_25 (Activation)   (None, 16, 120, 120, 16)  0         \n",
            "_________________________________________________________________\n",
            "batch_normalization_40 (Batc (None, 16, 120, 120, 16)  64        \n",
            "_________________________________________________________________\n",
            "max_pooling3d_20 (MaxPooling (None, 8, 60, 60, 16)     0         \n",
            "_________________________________________________________________\n",
            "dropout_12 (Dropout)         (None, 8, 60, 60, 16)     0         \n",
            "_________________________________________________________________\n",
            "conv3d_26 (Conv3D)           (None, 8, 60, 60, 32)     13856     \n",
            "_________________________________________________________________\n",
            "activation_26 (Activation)   (None, 8, 60, 60, 32)     0         \n",
            "_________________________________________________________________\n",
            "batch_normalization_41 (Batc (None, 8, 60, 60, 32)     128       \n",
            "_________________________________________________________________\n",
            "conv3d_27 (Conv3D)           (None, 8, 60, 60, 32)     27680     \n",
            "_________________________________________________________________\n",
            "activation_27 (Activation)   (None, 8, 60, 60, 32)     0         \n",
            "_________________________________________________________________\n",
            "batch_normalization_42 (Batc (None, 8, 60, 60, 32)     128       \n",
            "_________________________________________________________________\n",
            "max_pooling3d_21 (MaxPooling (None, 4, 30, 30, 32)     0         \n",
            "_________________________________________________________________\n",
            "dropout_13 (Dropout)         (None, 4, 30, 30, 32)     0         \n",
            "_________________________________________________________________\n",
            "conv3d_28 (Conv3D)           (None, 4, 30, 30, 64)     55360     \n",
            "_________________________________________________________________\n",
            "activation_28 (Activation)   (None, 4, 30, 30, 64)     0         \n",
            "_________________________________________________________________\n",
            "batch_normalization_43 (Batc (None, 4, 30, 30, 64)     256       \n",
            "_________________________________________________________________\n",
            "conv3d_29 (Conv3D)           (None, 4, 30, 30, 64)     110656    \n",
            "_________________________________________________________________\n",
            "activation_29 (Activation)   (None, 4, 30, 30, 64)     0         \n",
            "_________________________________________________________________\n",
            "batch_normalization_44 (Batc (None, 4, 30, 30, 64)     256       \n",
            "_________________________________________________________________\n",
            "max_pooling3d_22 (MaxPooling (None, 2, 15, 15, 64)     0         \n",
            "_________________________________________________________________\n",
            "dropout_14 (Dropout)         (None, 2, 15, 15, 64)     0         \n",
            "_________________________________________________________________\n",
            "conv3d_30 (Conv3D)           (None, 2, 15, 15, 128)    221312    \n",
            "_________________________________________________________________\n",
            "activation_30 (Activation)   (None, 2, 15, 15, 128)    0         \n",
            "_________________________________________________________________\n",
            "batch_normalization_45 (Batc (None, 2, 15, 15, 128)    512       \n",
            "_________________________________________________________________\n",
            "conv3d_31 (Conv3D)           (None, 2, 15, 15, 128)    442496    \n",
            "_________________________________________________________________\n",
            "activation_31 (Activation)   (None, 2, 15, 15, 128)    0         \n",
            "_________________________________________________________________\n",
            "batch_normalization_46 (Batc (None, 2, 15, 15, 128)    512       \n",
            "_________________________________________________________________\n",
            "max_pooling3d_23 (MaxPooling (None, 1, 7, 7, 128)      0         \n",
            "_________________________________________________________________\n",
            "dropout_15 (Dropout)         (None, 1, 7, 7, 128)      0         \n",
            "_________________________________________________________________\n",
            "flatten_6 (Flatten)          (None, 6272)              0         \n",
            "_________________________________________________________________\n",
            "dense_17 (Dense)             (None, 256)               1605888   \n",
            "_________________________________________________________________\n",
            "batch_normalization_47 (Batc (None, 256)               1024      \n",
            "_________________________________________________________________\n",
            "dropout_16 (Dropout)         (None, 256)               0         \n",
            "_________________________________________________________________\n",
            "dense_18 (Dense)             (None, 256)               65792     \n",
            "_________________________________________________________________\n",
            "batch_normalization_48 (Batc (None, 256)               1024      \n",
            "_________________________________________________________________\n",
            "dropout_17 (Dropout)         (None, 256)               0         \n",
            "_________________________________________________________________\n",
            "dense_19 (Dense)             (None, 5)                 1285      \n",
            "=================================================================\n",
            "Total params: 2,556,533\n",
            "Trainable params: 2,554,549\n",
            "Non-trainable params: 1,984\n",
            "_________________________________________________________________\n"
          ],
          "name": "stdout"
        }
      ]
    },
    {
      "cell_type": "code",
      "metadata": {
        "id": "UkBbi2BZwZqj",
        "colab": {
          "base_uri": "https://localhost:8080/"
        },
        "outputId": "31d324ef-3940-4e8c-c901-f1971a813a33"
      },
      "source": [
        "print(\"Total Params:\", conv_3d13_model.count_params())\n",
        "history_model13=conv_3d13.train_model(conv_3d13_model,augment_data=True)"
      ],
      "execution_count": 39,
      "outputs": [
        {
          "output_type": "stream",
          "text": [
            "Total Params: 2556533\n",
            "WARNING:tensorflow:`period` argument is deprecated. Please use `save_freq` to specify the frequency in number of batches seen.\n",
            "Epoch 1/25\n",
            "34/34 [==============================] - 92s 3s/step - loss: 2.1658 - categorical_accuracy: 0.2372 - val_loss: 2.4423 - val_categorical_accuracy: 0.1600\n",
            "\n",
            "Epoch 00001: saving model to model_init_2021-02-1512_23_30.349824/model-00001-1.97744-0.30015-2.44234-0.16000.h5\n",
            "Epoch 2/25\n",
            "34/34 [==============================] - 88s 3s/step - loss: 1.5859 - categorical_accuracy: 0.4202 - val_loss: 3.7912 - val_categorical_accuracy: 0.1700\n",
            "\n",
            "Epoch 00002: saving model to model_init_2021-02-1512_23_30.349824/model-00002-1.55553-0.41931-3.79119-0.17000.h5\n",
            "Epoch 3/25\n",
            "34/34 [==============================] - 95s 3s/step - loss: 1.3616 - categorical_accuracy: 0.4889 - val_loss: 5.2010 - val_categorical_accuracy: 0.1600\n",
            "\n",
            "Epoch 00003: saving model to model_init_2021-02-1512_23_30.349824/model-00003-1.39582-0.48341-5.20096-0.16000.h5\n",
            "Epoch 4/25\n",
            "34/34 [==============================] - 95s 3s/step - loss: 1.2073 - categorical_accuracy: 0.5460 - val_loss: 5.4385 - val_categorical_accuracy: 0.1200\n",
            "\n",
            "Epoch 00004: saving model to model_init_2021-02-1512_23_30.349824/model-00004-1.26463-0.52262-5.43853-0.12000.h5\n",
            "Epoch 5/25\n",
            "34/34 [==============================] - 90s 3s/step - loss: 1.2104 - categorical_accuracy: 0.5121 - val_loss: 5.7302 - val_categorical_accuracy: 0.1700\n",
            "\n",
            "Epoch 00005: saving model to model_init_2021-02-1512_23_30.349824/model-00005-1.17475-0.52941-5.73020-0.17000.h5\n",
            "\n",
            "Epoch 00005: ReduceLROnPlateau reducing learning rate to 3.9999998989515007e-05.\n",
            "Epoch 6/25\n",
            "34/34 [==============================] - 89s 3s/step - loss: 1.1027 - categorical_accuracy: 0.5718 - val_loss: 5.8836 - val_categorical_accuracy: 0.1600\n",
            "\n",
            "Epoch 00006: saving model to model_init_2021-02-1512_23_30.349824/model-00006-1.11283-0.57014-5.88360-0.16000.h5\n",
            "Epoch 7/25\n",
            "34/34 [==============================] - 90s 3s/step - loss: 1.0891 - categorical_accuracy: 0.5452 - val_loss: 6.2275 - val_categorical_accuracy: 0.1400\n",
            "\n",
            "Epoch 00007: saving model to model_init_2021-02-1512_23_30.349824/model-00007-1.05110-0.58069-6.22745-0.14000.h5\n",
            "Epoch 8/25\n",
            "34/34 [==============================] - 88s 3s/step - loss: 0.9892 - categorical_accuracy: 0.6072 - val_loss: 6.0140 - val_categorical_accuracy: 0.1600\n",
            "\n",
            "Epoch 00008: saving model to model_init_2021-02-1512_23_30.349824/model-00008-0.99724-0.60633-6.01395-0.16000.h5\n",
            "Epoch 9/25\n",
            "34/34 [==============================] - 90s 3s/step - loss: 1.0056 - categorical_accuracy: 0.6093 - val_loss: 5.9417 - val_categorical_accuracy: 0.1800\n",
            "\n",
            "Epoch 00009: saving model to model_init_2021-02-1512_23_30.349824/model-00009-1.00693-0.61916-5.94166-0.18000.h5\n",
            "\n",
            "Epoch 00009: ReduceLROnPlateau reducing learning rate to 7.999999797903002e-06.\n",
            "Epoch 10/25\n",
            "34/34 [==============================] - 89s 3s/step - loss: 0.9330 - categorical_accuracy: 0.6413 - val_loss: 6.3413 - val_categorical_accuracy: 0.2000\n",
            "\n",
            "Epoch 00010: saving model to model_init_2021-02-1512_23_30.349824/model-00010-0.93857-0.64027-6.34131-0.20000.h5\n",
            "Epoch 11/25\n",
            "34/34 [==============================] - 90s 3s/step - loss: 0.9842 - categorical_accuracy: 0.6026 - val_loss: 5.8375 - val_categorical_accuracy: 0.2500\n",
            "\n",
            "Epoch 00011: saving model to model_init_2021-02-1512_23_30.349824/model-00011-0.96868-0.61840-5.83752-0.25000.h5\n",
            "Epoch 12/25\n",
            "34/34 [==============================] - 89s 3s/step - loss: 0.9049 - categorical_accuracy: 0.6321 - val_loss: 5.7428 - val_categorical_accuracy: 0.2500\n",
            "\n",
            "Epoch 00012: saving model to model_init_2021-02-1512_23_30.349824/model-00012-0.91807-0.64706-5.74278-0.25000.h5\n",
            "Epoch 13/25\n",
            "34/34 [==============================] - 90s 3s/step - loss: 1.0315 - categorical_accuracy: 0.6116 - val_loss: 4.7552 - val_categorical_accuracy: 0.3400\n",
            "\n",
            "Epoch 00013: saving model to model_init_2021-02-1512_23_30.349824/model-00013-0.99959-0.61237-4.75518-0.34000.h5\n",
            "\n",
            "Epoch 00013: ReduceLROnPlateau reducing learning rate to 1.5999999959603884e-06.\n",
            "Epoch 14/25\n",
            "34/34 [==============================] - 89s 3s/step - loss: 0.9672 - categorical_accuracy: 0.6130 - val_loss: 5.1531 - val_categorical_accuracy: 0.2900\n",
            "\n",
            "Epoch 00014: saving model to model_init_2021-02-1512_23_30.349824/model-00014-0.93648-0.63499-5.15312-0.29000.h5\n",
            "Epoch 15/25\n",
            "34/34 [==============================] - 90s 3s/step - loss: 0.9398 - categorical_accuracy: 0.6318 - val_loss: 5.0698 - val_categorical_accuracy: 0.2800\n",
            "\n",
            "Epoch 00015: saving model to model_init_2021-02-1512_23_30.349824/model-00015-0.91942-0.64027-5.06981-0.28000.h5\n",
            "Epoch 16/25\n",
            "34/34 [==============================] - 89s 3s/step - loss: 0.9714 - categorical_accuracy: 0.6338 - val_loss: 4.8162 - val_categorical_accuracy: 0.3100\n",
            "\n",
            "Epoch 00016: saving model to model_init_2021-02-1512_23_30.349824/model-00016-0.95553-0.62971-4.81624-0.31000.h5\n",
            "Epoch 17/25\n",
            "34/34 [==============================] - 89s 3s/step - loss: 0.9024 - categorical_accuracy: 0.6461 - val_loss: 4.1730 - val_categorical_accuracy: 0.3500\n",
            "\n",
            "Epoch 00017: saving model to model_init_2021-02-1512_23_30.349824/model-00017-0.92968-0.63273-4.17295-0.35000.h5\n",
            "\n",
            "Epoch 00017: ReduceLROnPlateau reducing learning rate to 3.200000037395512e-07.\n",
            "Epoch 18/25\n",
            "34/34 [==============================] - 89s 3s/step - loss: 0.9494 - categorical_accuracy: 0.6291 - val_loss: 4.5792 - val_categorical_accuracy: 0.2900\n",
            "\n",
            "Epoch 00018: saving model to model_init_2021-02-1512_23_30.349824/model-00018-0.93962-0.64480-4.57918-0.29000.h5\n",
            "Epoch 19/25\n",
            "34/34 [==============================] - 90s 3s/step - loss: 0.9705 - categorical_accuracy: 0.6104 - val_loss: 3.9973 - val_categorical_accuracy: 0.3100\n",
            "\n",
            "Epoch 00019: saving model to model_init_2021-02-1512_23_30.349824/model-00019-0.94657-0.62971-3.99727-0.31000.h5\n",
            "Epoch 20/25\n",
            "34/34 [==============================] - 89s 3s/step - loss: 0.9215 - categorical_accuracy: 0.6257 - val_loss: 4.1700 - val_categorical_accuracy: 0.2500\n",
            "\n",
            "Epoch 00020: saving model to model_init_2021-02-1512_23_30.349824/model-00020-0.97365-0.62443-4.16997-0.25000.h5\n",
            "Epoch 21/25\n",
            "34/34 [==============================] - 90s 3s/step - loss: 0.9632 - categorical_accuracy: 0.6164 - val_loss: 4.0561 - val_categorical_accuracy: 0.2900\n",
            "\n",
            "Epoch 00021: saving model to model_init_2021-02-1512_23_30.349824/model-00021-0.95152-0.63424-4.05611-0.29000.h5\n",
            "\n",
            "Epoch 00021: ReduceLROnPlateau reducing learning rate to 6.399999961104187e-08.\n",
            "Epoch 22/25\n",
            "34/34 [==============================] - 90s 3s/step - loss: 0.9250 - categorical_accuracy: 0.6533 - val_loss: 3.8725 - val_categorical_accuracy: 0.2900\n",
            "\n",
            "Epoch 00022: saving model to model_init_2021-02-1512_23_30.349824/model-00022-0.91870-0.65535-3.87247-0.29000.h5\n",
            "Epoch 23/25\n",
            "34/34 [==============================] - 89s 3s/step - loss: 0.9746 - categorical_accuracy: 0.6107 - val_loss: 4.1287 - val_categorical_accuracy: 0.2500\n",
            "\n",
            "Epoch 00023: saving model to model_init_2021-02-1512_23_30.349824/model-00023-0.98216-0.61237-4.12869-0.25000.h5\n",
            "Epoch 24/25\n",
            "34/34 [==============================] - 89s 3s/step - loss: 0.9313 - categorical_accuracy: 0.6381 - val_loss: 3.1839 - val_categorical_accuracy: 0.3500\n",
            "\n",
            "Epoch 00024: saving model to model_init_2021-02-1512_23_30.349824/model-00024-0.94460-0.64178-3.18389-0.35000.h5\n",
            "Epoch 25/25\n",
            "34/34 [==============================] - 89s 3s/step - loss: 0.9164 - categorical_accuracy: 0.6491 - val_loss: 3.5468 - val_categorical_accuracy: 0.2700\n",
            "\n",
            "Epoch 00025: saving model to model_init_2021-02-1512_23_30.349824/model-00025-0.93187-0.64103-3.54675-0.27000.h5\n",
            "\n",
            "Epoch 00025: ReduceLROnPlateau reducing learning rate to 1.2799999637991278e-08.\n"
          ],
          "name": "stdout"
        }
      ]
    },
    {
      "cell_type": "code",
      "metadata": {
        "id": "PmLbT6tWwZql",
        "colab": {
          "base_uri": "https://localhost:8080/",
          "height": 265
        },
        "outputId": "b2b2682b-9a44-4069-b143-1f2bbe6928e2"
      },
      "source": [
        "plot(history_model13)"
      ],
      "execution_count": 40,
      "outputs": [
        {
          "output_type": "display_data",
          "data": {
            "image/png": "[encoded data removed]",
            "text/plain": [
              "<Figure size 1080x288 with 2 Axes>"
            ]
          },
          "metadata": {
            "tags": [],
            "needs_background": "light"
          }
        }
      ]
    },
    {
      "cell_type": "markdown",
      "metadata": {
        "id": "QPk4If-rwZrJ"
      },
      "source": [
        "# Type-8 Conv2D-LSTM with GRU:"
      ]
    },
    {
      "cell_type": "code",
      "metadata": {
        "collapsed": true,
        "id": "EItyV9rcwZrK"
      },
      "source": [
        "class RNNCNN2(ModelBuilderMoreAugmentation):\n",
        "    \n",
        "    def define_model(self,lstm_cells=64,dense_neurons=64,dropout=0.25):\n",
        "\n",
        "        model = Sequential()\n",
        "\n",
        "        model.add(TimeDistributed(Conv2D(16, (3, 3) , padding='same', activation='relu'),\n",
        "                                  input_shape=(self.frames_to_sample,self.image_height,self.image_width,self.channels)))\n",
        "        model.add(TimeDistributed(BatchNormalization()))\n",
        "        model.add(TimeDistributed(MaxPooling2D((2, 2))))\n",
        "        \n",
        "        model.add(TimeDistributed(Conv2D(32, (3, 3) , padding='same', activation='relu')))\n",
        "        model.add(TimeDistributed(BatchNormalization()))\n",
        "        model.add(TimeDistributed(MaxPooling2D((2, 2))))\n",
        "        \n",
        "        model.add(TimeDistributed(Conv2D(64, (3, 3) , padding='same', activation='relu')))\n",
        "        model.add(TimeDistributed(BatchNormalization()))\n",
        "        model.add(TimeDistributed(MaxPooling2D((2, 2))))\n",
        "        \n",
        "        model.add(TimeDistributed(Conv2D(128, (3, 3) , padding='same', activation='relu')))\n",
        "        model.add(TimeDistributed(BatchNormalization()))\n",
        "        model.add(TimeDistributed(MaxPooling2D((2, 2))))\n",
        "        \n",
        "\n",
        "        model.add(TimeDistributed(Flatten()))\n",
        "\n",
        "\n",
        "        model.add(GRU(lstm_cells))\n",
        "        model.add(Dropout(dropout))\n",
        "        \n",
        "        model.add(Dense(dense_neurons,activation='relu'))\n",
        "        model.add(Dropout(dropout))\n",
        "        \n",
        "        model.add(Dense(self.num_classes, activation='softmax'))\n",
        "        optimiser = optimizers.Adam(lr=0.0002)\n",
        "        model.compile(optimizer=optimiser, loss='categorical_crossentropy', metrics=['categorical_accuracy'])\n",
        "        return model"
      ],
      "execution_count": 41,
      "outputs": []
    },
    {
      "cell_type": "markdown",
      "metadata": {
        "id": "-03aARzdJNWv"
      },
      "source": [
        "**Model 13-Conv2D-LSTM with GRU:** \r\n",
        "- Data Augmentation\r\n",
        "- 120X120 image resolution\r\n",
        "- frames to sample-18\r\n",
        "- batch size-20\r\n",
        "- epochs-20\r\n",
        "- dense neurons-128\r\n",
        "- lstm-cells-128\r\n",
        "- dropout-0.25\r\n"
      ]
    },
    {
      "cell_type": "code",
      "metadata": {
        "id": "Lcs0oCsmwZrM",
        "colab": {
          "base_uri": "https://localhost:8080/"
        },
        "outputId": "a963206b-7109-4cb8-e24a-d82e2eca0e42"
      },
      "source": [
        "rnn_cnn2=RNNCNN2()\n",
        "rnn_cnn2.initialize_path(project_folder)\n",
        "rnn_cnn2.initialize_image_properties(image_height=120,image_width=120)\n",
        "rnn_cnn2.initialize_hyperparams(frames_to_sample=18,batch_size=20,num_epochs=20)\n",
        "rnn_cnn2_model=rnn_cnn2.define_model(lstm_cells=128,dense_neurons=128,dropout=0.25)\n",
        "rnn_cnn2_model.summary()"
      ],
      "execution_count": 42,
      "outputs": [
        {
          "output_type": "stream",
          "text": [
            "Model: \"sequential_7\"\n",
            "_________________________________________________________________\n",
            "Layer (type)                 Output Shape              Param #   \n",
            "=================================================================\n",
            "time_distributed_16 (TimeDis (None, 18, 120, 120, 16)  448       \n",
            "_________________________________________________________________\n",
            "time_distributed_17 (TimeDis (None, 18, 120, 120, 16)  64        \n",
            "_________________________________________________________________\n",
            "time_distributed_18 (TimeDis (None, 18, 60, 60, 16)    0         \n",
            "_________________________________________________________________\n",
            "time_distributed_19 (TimeDis (None, 18, 60, 60, 32)    4640      \n",
            "_________________________________________________________________\n",
            "time_distributed_20 (TimeDis (None, 18, 60, 60, 32)    128       \n",
            "_________________________________________________________________\n",
            "time_distributed_21 (TimeDis (None, 18, 30, 30, 32)    0         \n",
            "_________________________________________________________________\n",
            "time_distributed_22 (TimeDis (None, 18, 30, 30, 64)    18496     \n",
            "_________________________________________________________________\n",
            "time_distributed_23 (TimeDis (None, 18, 30, 30, 64)    256       \n",
            "_________________________________________________________________\n",
            "time_distributed_24 (TimeDis (None, 18, 15, 15, 64)    0         \n",
            "_________________________________________________________________\n",
            "time_distributed_25 (TimeDis (None, 18, 15, 15, 128)   73856     \n",
            "_________________________________________________________________\n",
            "time_distributed_26 (TimeDis (None, 18, 15, 15, 128)   512       \n",
            "_________________________________________________________________\n",
            "time_distributed_27 (TimeDis (None, 18, 7, 7, 128)     0         \n",
            "_________________________________________________________________\n",
            "time_distributed_28 (TimeDis (None, 18, 6272)          0         \n",
            "_________________________________________________________________\n",
            "gru (GRU)                    (None, 128)               2458368   \n",
            "_________________________________________________________________\n",
            "dropout_18 (Dropout)         (None, 128)               0         \n",
            "_________________________________________________________________\n",
            "dense_20 (Dense)             (None, 128)               16512     \n",
            "_________________________________________________________________\n",
            "dropout_19 (Dropout)         (None, 128)               0         \n",
            "_________________________________________________________________\n",
            "dense_21 (Dense)             (None, 5)                 645       \n",
            "=================================================================\n",
            "Total params: 2,573,925\n",
            "Trainable params: 2,573,445\n",
            "Non-trainable params: 480\n",
            "_________________________________________________________________\n"
          ],
          "name": "stdout"
        }
      ]
    },
    {
      "cell_type": "code",
      "metadata": {
        "id": "Hjw1zQGMwZrN",
        "colab": {
          "base_uri": "https://localhost:8080/"
        },
        "outputId": "8bc6f0b4-1e68-45f3-c0ed-1f307dcd2856"
      },
      "source": [
        "print(\"Total Params:\", rnn_cnn2_model.count_params())\n",
        "history_model17=rnn_cnn2.train_model(rnn_cnn2_model,augment_data=True)"
      ],
      "execution_count": 43,
      "outputs": [
        {
          "output_type": "stream",
          "text": [
            "Total Params: 2573925\n",
            "WARNING:tensorflow:`period` argument is deprecated. Please use `save_freq` to specify the frequency in number of batches seen.\n",
            "Epoch 1/20\n",
            "34/34 [==============================] - 102s 3s/step - loss: 1.6045 - categorical_accuracy: 0.3089 - val_loss: 1.6441 - val_categorical_accuracy: 0.2200\n",
            "\n",
            "Epoch 00001: saving model to model_init_2021-02-1513_18_44.176225/model-00001-1.47497-0.37707-1.64414-0.22000.h5\n",
            "Epoch 2/20\n",
            "34/34 [==============================] - 101s 3s/step - loss: 1.0536 - categorical_accuracy: 0.5816 - val_loss: 1.8834 - val_categorical_accuracy: 0.2200\n",
            "\n",
            "Epoch 00002: saving model to model_init_2021-02-1513_18_44.176225/model-00002-1.05127-0.58673-1.88342-0.22000.h5\n",
            "Epoch 3/20\n",
            "34/34 [==============================] - 101s 3s/step - loss: 0.8807 - categorical_accuracy: 0.6634 - val_loss: 2.2454 - val_categorical_accuracy: 0.2300\n",
            "\n",
            "Epoch 00003: saving model to model_init_2021-02-1513_18_44.176225/model-00003-0.83340-0.68854-2.24545-0.23000.h5\n",
            "Epoch 4/20\n",
            "34/34 [==============================] - 101s 3s/step - loss: 0.6819 - categorical_accuracy: 0.7491 - val_loss: 2.8426 - val_categorical_accuracy: 0.2000\n",
            "\n",
            "Epoch 00004: saving model to model_init_2021-02-1513_18_44.176225/model-00004-0.66466-0.76471-2.84261-0.20000.h5\n",
            "Epoch 5/20\n",
            "34/34 [==============================] - 101s 3s/step - loss: 0.5776 - categorical_accuracy: 0.7982 - val_loss: 3.0158 - val_categorical_accuracy: 0.2100\n",
            "\n",
            "Epoch 00005: saving model to model_init_2021-02-1513_18_44.176225/model-00005-0.57539-0.79186-3.01575-0.21000.h5\n",
            "\n",
            "Epoch 00005: ReduceLROnPlateau reducing learning rate to 3.9999998989515007e-05.\n",
            "Epoch 6/20\n",
            "34/34 [==============================] - 101s 3s/step - loss: 0.4418 - categorical_accuracy: 0.8712 - val_loss: 3.1427 - val_categorical_accuracy: 0.2100\n",
            "\n",
            "Epoch 00006: saving model to model_init_2021-02-1513_18_44.176225/model-00006-0.42648-0.87029-3.14272-0.21000.h5\n",
            "Epoch 7/20\n",
            "34/34 [==============================] - 101s 3s/step - loss: 0.3819 - categorical_accuracy: 0.8755 - val_loss: 3.0615 - val_categorical_accuracy: 0.2400\n",
            "\n",
            "Epoch 00007: saving model to model_init_2021-02-1513_18_44.176225/model-00007-0.37660-0.88084-3.06149-0.24000.h5\n",
            "Epoch 8/20\n",
            "34/34 [==============================] - 101s 3s/step - loss: 0.3454 - categorical_accuracy: 0.8987 - val_loss: 3.5597 - val_categorical_accuracy: 0.1600\n",
            "\n",
            "Epoch 00008: saving model to model_init_2021-02-1513_18_44.176225/model-00008-0.34332-0.89367-3.55968-0.16000.h5\n",
            "Epoch 9/20\n",
            "34/34 [==============================] - 100s 3s/step - loss: 0.3321 - categorical_accuracy: 0.9086 - val_loss: 3.3113 - val_categorical_accuracy: 0.2400\n",
            "\n",
            "Epoch 00009: saving model to model_init_2021-02-1513_18_44.176225/model-00009-0.34561-0.89065-3.31128-0.24000.h5\n",
            "\n",
            "Epoch 00009: ReduceLROnPlateau reducing learning rate to 7.999999797903002e-06.\n",
            "Epoch 10/20\n",
            "34/34 [==============================] - 102s 3s/step - loss: 0.2961 - categorical_accuracy: 0.9154 - val_loss: 3.0175 - val_categorical_accuracy: 0.2900\n",
            "\n",
            "Epoch 00010: saving model to model_init_2021-02-1513_18_44.176225/model-00010-0.31418-0.90422-3.01745-0.29000.h5\n",
            "Epoch 11/20\n",
            "34/34 [==============================] - 102s 3s/step - loss: 0.2920 - categorical_accuracy: 0.9149 - val_loss: 2.9692 - val_categorical_accuracy: 0.3100\n",
            "\n",
            "Epoch 00011: saving model to model_init_2021-02-1513_18_44.176225/model-00011-0.28991-0.92308-2.96924-0.31000.h5\n",
            "Epoch 12/20\n",
            "34/34 [==============================] - 102s 3s/step - loss: 0.3158 - categorical_accuracy: 0.9035 - val_loss: 2.6347 - val_categorical_accuracy: 0.3500\n",
            "\n",
            "Epoch 00012: saving model to model_init_2021-02-1513_18_44.176225/model-00012-0.29933-0.91554-2.63465-0.35000.h5\n",
            "Epoch 13/20\n",
            "34/34 [==============================] - 100s 3s/step - loss: 0.3037 - categorical_accuracy: 0.9072 - val_loss: 2.3839 - val_categorical_accuracy: 0.3800\n",
            "\n",
            "Epoch 00013: saving model to model_init_2021-02-1513_18_44.176225/model-00013-0.28837-0.91855-2.38394-0.38000.h5\n",
            "\n",
            "Epoch 00013: ReduceLROnPlateau reducing learning rate to 1.5999999959603884e-06.\n",
            "Epoch 14/20\n",
            "34/34 [==============================] - 102s 3s/step - loss: 0.2894 - categorical_accuracy: 0.9251 - val_loss: 1.9540 - val_categorical_accuracy: 0.4700\n",
            "\n",
            "Epoch 00014: saving model to model_init_2021-02-1513_18_44.176225/model-00014-0.29309-0.91855-1.95405-0.47000.h5\n",
            "Epoch 15/20\n",
            "34/34 [==============================] - 101s 3s/step - loss: 0.2827 - categorical_accuracy: 0.9221 - val_loss: 1.5074 - val_categorical_accuracy: 0.5500\n",
            "\n",
            "Epoch 00015: saving model to model_init_2021-02-1513_18_44.176225/model-00015-0.27743-0.92836-1.50736-0.55000.h5\n",
            "Epoch 16/20\n",
            "34/34 [==============================] - 100s 3s/step - loss: 0.2667 - categorical_accuracy: 0.9346 - val_loss: 1.3575 - val_categorical_accuracy: 0.5400\n",
            "\n",
            "Epoch 00016: saving model to model_init_2021-02-1513_18_44.176225/model-00016-0.27195-0.93288-1.35747-0.54000.h5\n",
            "Epoch 17/20\n",
            "34/34 [==============================] - 102s 3s/step - loss: 0.2529 - categorical_accuracy: 0.9274 - val_loss: 1.1082 - val_categorical_accuracy: 0.6100\n",
            "\n",
            "Epoch 00017: saving model to model_init_2021-02-1513_18_44.176225/model-00017-0.26544-0.92609-1.10818-0.61000.h5\n",
            "Epoch 18/20\n",
            "34/34 [==============================] - 101s 3s/step - loss: 0.2661 - categorical_accuracy: 0.9300 - val_loss: 1.0009 - val_categorical_accuracy: 0.6000\n",
            "\n",
            "Epoch 00018: saving model to model_init_2021-02-1513_18_44.176225/model-00018-0.28216-0.92308-1.00093-0.60000.h5\n",
            "Epoch 19/20\n",
            "34/34 [==============================] - 101s 3s/step - loss: 0.3013 - categorical_accuracy: 0.9051 - val_loss: 0.9823 - val_categorical_accuracy: 0.6200\n",
            "\n",
            "Epoch 00019: saving model to model_init_2021-02-1513_18_44.176225/model-00019-0.28013-0.92157-0.98233-0.62000.h5\n",
            "Epoch 20/20\n",
            "34/34 [==============================] - 102s 3s/step - loss: 0.2342 - categorical_accuracy: 0.9457 - val_loss: 0.8364 - val_categorical_accuracy: 0.7300\n",
            "\n",
            "Epoch 00020: saving model to model_init_2021-02-1513_18_44.176225/model-00020-0.26377-0.93288-0.83638-0.73000.h5\n"
          ],
          "name": "stdout"
        }
      ]
    },
    {
      "cell_type": "code",
      "metadata": {
        "id": "eWZBA0JbwZrO",
        "colab": {
          "base_uri": "https://localhost:8080/",
          "height": 265
        },
        "outputId": "0ced761f-c7d3-4481-c813-30b5fba45bd6"
      },
      "source": [
        "plot(history_model17)"
      ],
      "execution_count": 44,
      "outputs": [
        {
          "output_type": "display_data",
          "data": {
            "image/png": "[encoded data removed]",
            "text/plain": [
              "<Figure size 1080x288 with 2 Axes>"
            ]
          },
          "metadata": {
            "tags": [],
            "needs_background": "light"
          }
        }
      ]
    },
    {
      "cell_type": "markdown",
      "metadata": {
        "collapsed": true,
        "id": "nZU87WXswZrQ"
      },
      "source": [
        "### We see that overfitting is considerably less when we do more augmentation. However there is not much improvement on accuracy"
      ]
    },
    {
      "cell_type": "markdown",
      "metadata": {
        "collapsed": true,
        "id": "iOSDI0pywZrQ"
      },
      "source": [
        "# Type-9 Transfer Learning with Mobilenet"
      ]
    },
    {
      "cell_type": "code",
      "metadata": {
        "collapsed": true,
        "id": "8nAjufTKwZrR"
      },
      "source": [
        "from keras.applications import mobilenet"
      ],
      "execution_count": 46,
      "outputs": []
    },
    {
      "cell_type": "code",
      "metadata": {
        "id": "kb-UrhvYwZrU",
        "colab": {
          "base_uri": "https://localhost:8080/"
        },
        "outputId": "5e62896a-82bc-4247-c145-bb0d8168eb41"
      },
      "source": [
        "mobilenet_transfer = mobilenet.MobileNet(weights='imagenet', include_top=False)\n",
        "\n",
        "class RNNCNN_TL(ModelBuilderMoreAugmentation):\n",
        "    \n",
        "    def define_model(self,lstm_cells=64,dense_neurons=64,dropout=0.25):\n",
        "        \n",
        "        model = Sequential()\n",
        "        model.add(TimeDistributed(mobilenet_transfer,input_shape=(self.frames_to_sample,self.image_height,self.image_width,self.channels)))\n",
        "        \n",
        "        \n",
        "        for layer in model.layers:\n",
        "            layer.trainable = False\n",
        "        \n",
        "        \n",
        "        model.add(TimeDistributed(BatchNormalization()))\n",
        "        model.add(TimeDistributed(MaxPooling2D((2, 2))))\n",
        "        model.add(TimeDistributed(Flatten()))\n",
        "\n",
        "        model.add(LSTM(lstm_cells))\n",
        "        model.add(Dropout(dropout))\n",
        "        \n",
        "        model.add(Dense(dense_neurons,activation='relu'))\n",
        "        model.add(Dropout(dropout))\n",
        "        \n",
        "        model.add(Dense(self.num_classes, activation='softmax'))\n",
        "        \n",
        "        \n",
        "        optimiser = optimizers.Adam()\n",
        "        model.compile(optimizer=optimiser, loss='categorical_crossentropy', metrics=['categorical_accuracy'])\n",
        "        return model"
      ],
      "execution_count": 47,
      "outputs": [
        {
          "output_type": "stream",
          "text": [
            "WARNING:tensorflow:`input_shape` is undefined or non-square, or `rows` is not in [128, 160, 192, 224]. Weights for input shape (224, 224) will be loaded as the default.\n",
            "Downloading data from https://storage.googleapis.com/tensorflow/keras-applications/mobilenet/mobilenet_1_0_224_tf_no_top.h5\n",
            "17227776/17225924 [==============================] - 0s 0us/step\n"
          ],
          "name": "stdout"
        }
      ]
    },
    {
      "cell_type": "markdown",
      "metadata": {
        "id": "_lUjyvv8J-w4"
      },
      "source": [
        "**Model 14-Transfer Learning using Mobilenet:** \r\n",
        "- Data Augmentation\r\n",
        "- 120X120 image resolution\r\n",
        "- frames to sample-16\r\n",
        "- batch size-5\r\n",
        "- epochs-20\r\n",
        "- dense neurons-128\r\n",
        "- lstm-cells-128\r\n",
        "- dropout-0.25\r\n",
        "\r\n"
      ]
    },
    {
      "cell_type": "code",
      "metadata": {
        "id": "OsywpLDVwZrX",
        "colab": {
          "base_uri": "https://localhost:8080/"
        },
        "outputId": "b066a751-4c13-459d-b3bd-a3d3b4d24a66"
      },
      "source": [
        "rnn_cnn_tl=RNNCNN_TL()\n",
        "rnn_cnn_tl.initialize_path(project_folder)\n",
        "rnn_cnn_tl.initialize_image_properties(image_height=120,image_width=120)\n",
        "rnn_cnn_tl.initialize_hyperparams(frames_to_sample=16,batch_size=5,num_epochs=20)\n",
        "rnn_cnn_tl_model=rnn_cnn_tl.define_model(lstm_cells=128,dense_neurons=128,dropout=0.25)\n",
        "rnn_cnn_tl_model.summary()"
      ],
      "execution_count": 48,
      "outputs": [
        {
          "output_type": "stream",
          "text": [
            "Model: \"sequential_8\"\n",
            "_________________________________________________________________\n",
            "Layer (type)                 Output Shape              Param #   \n",
            "=================================================================\n",
            "time_distributed_29 (TimeDis (None, 16, 3, 3, 1024)    3228864   \n",
            "_________________________________________________________________\n",
            "time_distributed_30 (TimeDis (None, 16, 3, 3, 1024)    4096      \n",
            "_________________________________________________________________\n",
            "time_distributed_31 (TimeDis (None, 16, 1, 1, 1024)    0         \n",
            "_________________________________________________________________\n",
            "time_distributed_32 (TimeDis (None, 16, 1024)          0         \n",
            "_________________________________________________________________\n",
            "lstm_1 (LSTM)                (None, 128)               590336    \n",
            "_________________________________________________________________\n",
            "dropout_20 (Dropout)         (None, 128)               0         \n",
            "_________________________________________________________________\n",
            "dense_22 (Dense)             (None, 128)               16512     \n",
            "_________________________________________________________________\n",
            "dropout_21 (Dropout)         (None, 128)               0         \n",
            "_________________________________________________________________\n",
            "dense_23 (Dense)             (None, 5)                 645       \n",
            "=================================================================\n",
            "Total params: 3,840,453\n",
            "Trainable params: 609,541\n",
            "Non-trainable params: 3,230,912\n",
            "_________________________________________________________________\n"
          ],
          "name": "stdout"
        }
      ]
    },
    {
      "cell_type": "code",
      "metadata": {
        "id": "GIBob5sjwZrY",
        "colab": {
          "base_uri": "https://localhost:8080/"
        },
        "outputId": "a40aace2-0495-4715-d003-5986bd246617"
      },
      "source": [
        "print(\"Total Params:\", rnn_cnn_tl_model.count_params())\n",
        "history_model18=rnn_cnn_tl.train_model(rnn_cnn_tl_model,augment_data=True)"
      ],
      "execution_count": 49,
      "outputs": [
        {
          "output_type": "stream",
          "text": [
            "Total Params: 3840453\n",
            "WARNING:tensorflow:`period` argument is deprecated. Please use `save_freq` to specify the frequency in number of batches seen.\n",
            "Epoch 1/20\n",
            "133/133 [==============================] - 96s 698ms/step - loss: 1.4609 - categorical_accuracy: 0.3689 - val_loss: 0.9251 - val_categorical_accuracy: 0.6700\n",
            "\n",
            "Epoch 00001: saving model to model_init_2021-02-1514_09_35.410932/model-00001-1.32826-0.44268-0.92513-0.67000.h5\n",
            "Epoch 2/20\n",
            "133/133 [==============================] - 92s 693ms/step - loss: 0.8796 - categorical_accuracy: 0.6646 - val_loss: 0.7725 - val_categorical_accuracy: 0.6300\n",
            "\n",
            "Epoch 00002: saving model to model_init_2021-02-1514_09_35.410932/model-00002-0.86476-0.67345-0.77247-0.63000.h5\n",
            "Epoch 3/20\n",
            "133/133 [==============================] - 90s 682ms/step - loss: 0.6093 - categorical_accuracy: 0.7664 - val_loss: 0.6446 - val_categorical_accuracy: 0.7500\n",
            "\n",
            "Epoch 00003: saving model to model_init_2021-02-1514_09_35.410932/model-00003-0.60525-0.76395-0.64461-0.75000.h5\n",
            "Epoch 4/20\n",
            "133/133 [==============================] - 89s 676ms/step - loss: 0.5034 - categorical_accuracy: 0.8277 - val_loss: 0.6680 - val_categorical_accuracy: 0.7800\n",
            "\n",
            "Epoch 00004: saving model to model_init_2021-02-1514_09_35.410932/model-00004-0.49896-0.82278-0.66798-0.78000.h5\n",
            "Epoch 5/20\n",
            "133/133 [==============================] - 90s 685ms/step - loss: 0.3809 - categorical_accuracy: 0.8655 - val_loss: 0.6390 - val_categorical_accuracy: 0.7300\n",
            "\n",
            "Epoch 00005: saving model to model_init_2021-02-1514_09_35.410932/model-00005-0.42542-0.85143-0.63904-0.73000.h5\n",
            "Epoch 6/20\n",
            "133/133 [==============================] - 90s 679ms/step - loss: 0.3572 - categorical_accuracy: 0.8748 - val_loss: 0.6185 - val_categorical_accuracy: 0.7800\n",
            "\n",
            "Epoch 00006: saving model to model_init_2021-02-1514_09_35.410932/model-00006-0.35835-0.87858-0.61854-0.78000.h5\n",
            "Epoch 7/20\n",
            "133/133 [==============================] - 90s 679ms/step - loss: 0.2246 - categorical_accuracy: 0.9179 - val_loss: 0.7869 - val_categorical_accuracy: 0.7400\n",
            "\n",
            "Epoch 00007: saving model to model_init_2021-02-1514_09_35.410932/model-00007-0.27251-0.90121-0.78691-0.74000.h5\n",
            "Epoch 8/20\n",
            "133/133 [==============================] - 89s 674ms/step - loss: 0.1745 - categorical_accuracy: 0.9411 - val_loss: 0.6489 - val_categorical_accuracy: 0.7400\n",
            "\n",
            "Epoch 00008: saving model to model_init_2021-02-1514_09_35.410932/model-00008-0.19693-0.93137-0.64892-0.74000.h5\n",
            "Epoch 9/20\n",
            "133/133 [==============================] - 90s 680ms/step - loss: 0.1820 - categorical_accuracy: 0.9349 - val_loss: 0.7214 - val_categorical_accuracy: 0.7500\n",
            "\n",
            "Epoch 00009: saving model to model_init_2021-02-1514_09_35.410932/model-00009-0.20508-0.92459-0.72137-0.75000.h5\n",
            "Epoch 10/20\n",
            "133/133 [==============================] - 89s 676ms/step - loss: 0.1849 - categorical_accuracy: 0.9407 - val_loss: 0.6812 - val_categorical_accuracy: 0.7900\n",
            "\n",
            "Epoch 00010: saving model to model_init_2021-02-1514_09_35.410932/model-00010-0.19211-0.93514-0.68124-0.79000.h5\n",
            "\n",
            "Epoch 00010: ReduceLROnPlateau reducing learning rate to 0.00020000000949949026.\n",
            "Epoch 11/20\n",
            "133/133 [==============================] - 89s 674ms/step - loss: 0.1094 - categorical_accuracy: 0.9608 - val_loss: 0.6839 - val_categorical_accuracy: 0.7200\n",
            "\n",
            "Epoch 00011: saving model to model_init_2021-02-1514_09_35.410932/model-00011-0.12270-0.95777-0.68393-0.72000.h5\n",
            "Epoch 12/20\n",
            "133/133 [==============================] - 90s 680ms/step - loss: 0.1305 - categorical_accuracy: 0.9532 - val_loss: 0.7296 - val_categorical_accuracy: 0.7300\n",
            "\n",
            "Epoch 00012: saving model to model_init_2021-02-1514_09_35.410932/model-00012-0.11623-0.95626-0.72959-0.73000.h5\n",
            "Epoch 13/20\n",
            "133/133 [==============================] - 89s 676ms/step - loss: 0.0592 - categorical_accuracy: 0.9849 - val_loss: 0.5864 - val_categorical_accuracy: 0.7900\n",
            "\n",
            "Epoch 00013: saving model to model_init_2021-02-1514_09_35.410932/model-00013-0.06451-0.97888-0.58638-0.79000.h5\n",
            "Epoch 14/20\n",
            "133/133 [==============================] - 89s 676ms/step - loss: 0.0685 - categorical_accuracy: 0.9787 - val_loss: 0.5360 - val_categorical_accuracy: 0.8400\n",
            "\n",
            "Epoch 00014: saving model to model_init_2021-02-1514_09_35.410932/model-00014-0.08916-0.97134-0.53604-0.84000.h5\n",
            "Epoch 15/20\n",
            "133/133 [==============================] - 90s 682ms/step - loss: 0.0710 - categorical_accuracy: 0.9813 - val_loss: 0.8149 - val_categorical_accuracy: 0.7300\n",
            "\n",
            "Epoch 00015: saving model to model_init_2021-02-1514_09_35.410932/model-00015-0.07667-0.97587-0.81489-0.73000.h5\n",
            "Epoch 16/20\n",
            "133/133 [==============================] - 90s 679ms/step - loss: 0.0769 - categorical_accuracy: 0.9790 - val_loss: 0.6385 - val_categorical_accuracy: 0.8100\n",
            "\n",
            "Epoch 00016: saving model to model_init_2021-02-1514_09_35.410932/model-00016-0.06970-0.97813-0.63849-0.81000.h5\n",
            "Epoch 17/20\n",
            "133/133 [==============================] - 90s 681ms/step - loss: 0.0652 - categorical_accuracy: 0.9777 - val_loss: 0.6590 - val_categorical_accuracy: 0.8100\n",
            "\n",
            "Epoch 00017: saving model to model_init_2021-02-1514_09_35.410932/model-00017-0.07542-0.97587-0.65903-0.81000.h5\n",
            "Epoch 18/20\n",
            "133/133 [==============================] - 90s 678ms/step - loss: 0.0479 - categorical_accuracy: 0.9909 - val_loss: 0.6082 - val_categorical_accuracy: 0.8200\n",
            "\n",
            "Epoch 00018: saving model to model_init_2021-02-1514_09_35.410932/model-00018-0.05302-0.98718-0.60821-0.82000.h5\n",
            "\n",
            "Epoch 00018: ReduceLROnPlateau reducing learning rate to 4.0000001899898055e-05.\n",
            "Epoch 19/20\n",
            "133/133 [==============================] - 90s 684ms/step - loss: 0.0414 - categorical_accuracy: 0.9847 - val_loss: 0.6719 - val_categorical_accuracy: 0.8100\n",
            "\n",
            "Epoch 00019: saving model to model_init_2021-02-1514_09_35.410932/model-00019-0.05136-0.98190-0.67190-0.81000.h5\n",
            "Epoch 20/20\n",
            "133/133 [==============================] - 90s 681ms/step - loss: 0.0373 - categorical_accuracy: 0.9871 - val_loss: 0.6280 - val_categorical_accuracy: 0.8300\n",
            "\n",
            "Epoch 00020: saving model to model_init_2021-02-1514_09_35.410932/model-00020-0.04719-0.98190-0.62801-0.83000.h5\n"
          ],
          "name": "stdout"
        }
      ]
    },
    {
      "cell_type": "code",
      "metadata": {
        "id": "s9vNvPTmwZra",
        "colab": {
          "base_uri": "https://localhost:8080/",
          "height": 265
        },
        "outputId": "3e49e85d-a16e-499c-9d66-afee8edb9dff"
      },
      "source": [
        "plot(history_model18)"
      ],
      "execution_count": 50,
      "outputs": [
        {
          "output_type": "display_data",
          "data": {
            "image/png": "[encoded data removed]",
            "text/plain": [
              "<Figure size 1080x288 with 2 Axes>"
            ]
          },
          "metadata": {
            "tags": [],
            "needs_background": "light"
          }
        }
      ]
    },
    {
      "cell_type": "markdown",
      "metadata": {
        "collapsed": true,
        "id": "CQIXiFk0wZrb"
      },
      "source": [
        "##### We are not training the mobilenet weights and we see validation accuracy is very poor. Let's train them as well and observe if there is performance improvement"
      ]
    },
    {
      "cell_type": "markdown",
      "metadata": {
        "id": "8rRWsdXKwZrb"
      },
      "source": [
        "# Type-10 Transfer Learning with GRU and training all weights"
      ]
    },
    {
      "cell_type": "code",
      "metadata": {
        "id": "16XSKrVQwZrc",
        "colab": {
          "base_uri": "https://localhost:8080/"
        },
        "outputId": "be45c9d6-6395-4090-c41b-720e24019840"
      },
      "source": [
        "from keras.applications import mobilenet\n",
        "\n",
        "mobilenet_transfer = mobilenet.MobileNet(weights='imagenet', include_top=False)\n",
        "\n",
        "class RNNCNN_TL2(ModelBuilderMoreAugmentation):\n",
        "    \n",
        "    def define_model(self,gru_cells=64,dense_neurons=64,dropout=0.25):\n",
        "        \n",
        "        model = Sequential()\n",
        "        model.add(TimeDistributed(mobilenet_transfer,input_shape=(self.frames_to_sample,self.image_height,self.image_width,self.channels)))\n",
        " \n",
        "        \n",
        "        model.add(TimeDistributed(BatchNormalization()))\n",
        "        model.add(TimeDistributed(MaxPooling2D((2, 2))))\n",
        "        model.add(TimeDistributed(Flatten()))\n",
        "\n",
        "        model.add(GRU(gru_cells))\n",
        "        model.add(Dropout(dropout))\n",
        "        \n",
        "        model.add(Dense(dense_neurons,activation='relu'))\n",
        "        model.add(Dropout(dropout))\n",
        "        \n",
        "        model.add(Dense(self.num_classes, activation='softmax'))\n",
        "        \n",
        "        \n",
        "        optimiser = optimizers.Adam()\n",
        "        model.compile(optimizer=optimiser, loss='categorical_crossentropy', metrics=['categorical_accuracy'])\n",
        "        return model"
      ],
      "execution_count": 11,
      "outputs": [
        {
          "output_type": "stream",
          "text": [
            "WARNING:tensorflow:`input_shape` is undefined or non-square, or `rows` is not in [128, 160, 192, 224]. Weights for input shape (224, 224) will be loaded as the default.\n",
            "Downloading data from https://storage.googleapis.com/tensorflow/keras-applications/mobilenet/mobilenet_1_0_224_tf_no_top.h5\n",
            "17227776/17225924 [==============================] - 0s 0us/step\n"
          ],
          "name": "stdout"
        }
      ]
    },
    {
      "cell_type": "markdown",
      "metadata": {
        "id": "aNUE3OsAKZhI"
      },
      "source": [
        "**Model 15-Transfer Learning with GRU using all weights:** \r\n",
        "- Data Augmentation\r\n",
        "- 120X120 image resolution\r\n",
        "- frames to sample-16\r\n",
        "- batch size-5\r\n",
        "- epochs-20\r\n",
        "- dense neurons-128\r\n",
        "- gru-cells-128\r\n",
        "- dropout-0.25\r\n",
        "\r\n"
      ]
    },
    {
      "cell_type": "code",
      "metadata": {
        "id": "bZqsnyw8wZrf",
        "colab": {
          "base_uri": "https://localhost:8080/"
        },
        "outputId": "1cdb7489-8472-4623-e22f-47072a905c81"
      },
      "source": [
        "rnn_cnn_tl2=RNNCNN_TL2()\n",
        "rnn_cnn_tl2.initialize_path(project_folder)\n",
        "rnn_cnn_tl2.initialize_image_properties(image_height=120,image_width=120)\n",
        "rnn_cnn_tl2.initialize_hyperparams(frames_to_sample=16,batch_size=5,num_epochs=20)\n",
        "rnn_cnn_tl2_model=rnn_cnn_tl2.define_model(gru_cells=128,dense_neurons=128,dropout=0.25)\n",
        "rnn_cnn_tl2_model.summary()"
      ],
      "execution_count": 12,
      "outputs": [
        {
          "output_type": "stream",
          "text": [
            "Model: \"sequential\"\n",
            "_________________________________________________________________\n",
            "Layer (type)                 Output Shape              Param #   \n",
            "=================================================================\n",
            "time_distributed (TimeDistri (None, 16, 3, 3, 1024)    3228864   \n",
            "_________________________________________________________________\n",
            "time_distributed_1 (TimeDist (None, 16, 3, 3, 1024)    4096      \n",
            "_________________________________________________________________\n",
            "time_distributed_2 (TimeDist (None, 16, 1, 1, 1024)    0         \n",
            "_________________________________________________________________\n",
            "time_distributed_3 (TimeDist (None, 16, 1024)          0         \n",
            "_________________________________________________________________\n",
            "gru (GRU)                    (None, 128)               443136    \n",
            "_________________________________________________________________\n",
            "dropout (Dropout)            (None, 128)               0         \n",
            "_________________________________________________________________\n",
            "dense (Dense)                (None, 128)               16512     \n",
            "_________________________________________________________________\n",
            "dropout_1 (Dropout)          (None, 128)               0         \n",
            "_________________________________________________________________\n",
            "dense_1 (Dense)              (None, 5)                 645       \n",
            "=================================================================\n",
            "Total params: 3,693,253\n",
            "Trainable params: 3,669,317\n",
            "Non-trainable params: 23,936\n",
            "_________________________________________________________________\n"
          ],
          "name": "stdout"
        }
      ]
    },
    {
      "cell_type": "code",
      "metadata": {
        "id": "gdi5EcrMwZrg",
        "colab": {
          "base_uri": "https://localhost:8080/"
        },
        "outputId": "b1931210-d609-4016-c312-d047dab563d2"
      },
      "source": [
        "print(\"Total Params:\", rnn_cnn_tl2_model.count_params())\n",
        "history_model19=rnn_cnn_tl2.train_model(rnn_cnn_tl2_model,augment_data=True)"
      ],
      "execution_count": 13,
      "outputs": [
        {
          "output_type": "stream",
          "text": [
            "Total Params: 3693253\n",
            "WARNING:tensorflow:`period` argument is deprecated. Please use `save_freq` to specify the frequency in number of batches seen.\n",
            "Epoch 1/20\n",
            "133/133 [==============================] - 104s 700ms/step - loss: 1.4180 - categorical_accuracy: 0.4147 - val_loss: 0.6529 - val_categorical_accuracy: 0.7600\n",
            "\n",
            "Epoch 00001: saving model to model_init_2021-02-1515_23_10.385604/model-00001-1.18090-0.52640-0.65290-0.76000.h5\n",
            "Epoch 2/20\n",
            "133/133 [==============================] - 90s 676ms/step - loss: 0.6051 - categorical_accuracy: 0.7474 - val_loss: 0.8455 - val_categorical_accuracy: 0.6800\n",
            "\n",
            "Epoch 00002: saving model to model_init_2021-02-1515_23_10.385604/model-00002-0.62118-0.75490-0.84545-0.68000.h5\n",
            "Epoch 3/20\n",
            "133/133 [==============================] - 90s 680ms/step - loss: 0.5089 - categorical_accuracy: 0.8263 - val_loss: 0.2872 - val_categorical_accuracy: 0.8700\n",
            "\n",
            "Epoch 00003: saving model to model_init_2021-02-1515_23_10.385604/model-00003-0.47282-0.83183-0.28724-0.87000.h5\n",
            "Epoch 4/20\n",
            "133/133 [==============================] - 89s 672ms/step - loss: 0.4135 - categorical_accuracy: 0.8444 - val_loss: 0.3075 - val_categorical_accuracy: 0.8700\n",
            "\n",
            "Epoch 00004: saving model to model_init_2021-02-1515_23_10.385604/model-00004-0.39165-0.87029-0.30746-0.87000.h5\n",
            "Epoch 5/20\n",
            "133/133 [==============================] - 88s 661ms/step - loss: 0.2560 - categorical_accuracy: 0.9184 - val_loss: 0.3769 - val_categorical_accuracy: 0.8800\n",
            "\n",
            "Epoch 00005: saving model to model_init_2021-02-1515_23_10.385604/model-00005-0.32352-0.89291-0.37690-0.88000.h5\n",
            "Epoch 6/20\n",
            "133/133 [==============================] - 89s 668ms/step - loss: 0.2422 - categorical_accuracy: 0.9304 - val_loss: 0.5637 - val_categorical_accuracy: 0.8600\n",
            "\n",
            "Epoch 00006: saving model to model_init_2021-02-1515_23_10.385604/model-00006-0.26469-0.92232-0.56365-0.86000.h5\n",
            "Epoch 7/20\n",
            "133/133 [==============================] - 88s 664ms/step - loss: 0.2009 - categorical_accuracy: 0.9392 - val_loss: 0.4003 - val_categorical_accuracy: 0.8600\n",
            "\n",
            "Epoch 00007: saving model to model_init_2021-02-1515_23_10.385604/model-00007-0.21430-0.93590-0.40027-0.86000.h5\n",
            "\n",
            "Epoch 00007: ReduceLROnPlateau reducing learning rate to 0.00020000000949949026.\n",
            "Epoch 8/20\n",
            "133/133 [==============================] - 89s 668ms/step - loss: 0.2533 - categorical_accuracy: 0.9151 - val_loss: 0.1507 - val_categorical_accuracy: 0.9700\n",
            "\n",
            "Epoch 00008: saving model to model_init_2021-02-1515_23_10.385604/model-00008-0.17940-0.94042-0.15070-0.97000.h5\n",
            "Epoch 9/20\n",
            "133/133 [==============================] - 89s 668ms/step - loss: 0.0667 - categorical_accuracy: 0.9846 - val_loss: 0.1010 - val_categorical_accuracy: 0.9500\n",
            "\n",
            "Epoch 00009: saving model to model_init_2021-02-1515_23_10.385604/model-00009-0.07582-0.98039-0.10098-0.95000.h5\n",
            "Epoch 10/20\n",
            "133/133 [==============================] - 88s 666ms/step - loss: 0.0441 - categorical_accuracy: 0.9889 - val_loss: 0.2100 - val_categorical_accuracy: 0.9200\n",
            "\n",
            "Epoch 00010: saving model to model_init_2021-02-1515_23_10.385604/model-00010-0.04655-0.98567-0.21000-0.92000.h5\n",
            "Epoch 11/20\n",
            "133/133 [==============================] - 88s 662ms/step - loss: 0.0273 - categorical_accuracy: 0.9936 - val_loss: 0.0806 - val_categorical_accuracy: 0.9600\n",
            "\n",
            "Epoch 00011: saving model to model_init_2021-02-1515_23_10.385604/model-00011-0.02939-0.99170-0.08060-0.96000.h5\n",
            "Epoch 12/20\n",
            "133/133 [==============================] - 88s 663ms/step - loss: 0.0256 - categorical_accuracy: 0.9922 - val_loss: 0.1215 - val_categorical_accuracy: 0.9600\n",
            "\n",
            "Epoch 00012: saving model to model_init_2021-02-1515_23_10.385604/model-00012-0.02502-0.99321-0.12146-0.96000.h5\n",
            "Epoch 13/20\n",
            "133/133 [==============================] - 88s 665ms/step - loss: 0.0204 - categorical_accuracy: 0.9974 - val_loss: 0.0887 - val_categorical_accuracy: 0.9600\n",
            "\n",
            "Epoch 00013: saving model to model_init_2021-02-1515_23_10.385604/model-00013-0.01596-0.99774-0.08872-0.96000.h5\n",
            "Epoch 14/20\n",
            "133/133 [==============================] - 88s 666ms/step - loss: 0.0208 - categorical_accuracy: 0.9934 - val_loss: 0.1396 - val_categorical_accuracy: 0.9500\n",
            "\n",
            "Epoch 00014: saving model to model_init_2021-02-1515_23_10.385604/model-00014-0.02626-0.99020-0.13964-0.95000.h5\n",
            "Epoch 15/20\n",
            "133/133 [==============================] - 87s 655ms/step - loss: 0.0089 - categorical_accuracy: 0.9990 - val_loss: 0.0979 - val_categorical_accuracy: 0.9500\n",
            "\n",
            "Epoch 00015: saving model to model_init_2021-02-1515_23_10.385604/model-00015-0.01019-0.99849-0.09789-0.95000.h5\n",
            "\n",
            "Epoch 00015: ReduceLROnPlateau reducing learning rate to 4.0000001899898055e-05.\n",
            "Epoch 16/20\n",
            "133/133 [==============================] - 88s 662ms/step - loss: 0.0167 - categorical_accuracy: 0.9938 - val_loss: 0.0618 - val_categorical_accuracy: 0.9800\n",
            "\n",
            "Epoch 00016: saving model to model_init_2021-02-1515_23_10.385604/model-00016-0.01652-0.99472-0.06181-0.98000.h5\n",
            "Epoch 17/20\n",
            "133/133 [==============================] - 88s 664ms/step - loss: 0.0079 - categorical_accuracy: 0.9999 - val_loss: 0.1526 - val_categorical_accuracy: 0.9400\n",
            "\n",
            "Epoch 00017: saving model to model_init_2021-02-1515_23_10.385604/model-00017-0.00874-0.99925-0.15257-0.94000.h5\n",
            "Epoch 18/20\n",
            "133/133 [==============================] - 88s 664ms/step - loss: 0.0070 - categorical_accuracy: 0.9996 - val_loss: 0.0713 - val_categorical_accuracy: 0.9800\n",
            "\n",
            "Epoch 00018: saving model to model_init_2021-02-1515_23_10.385604/model-00018-0.00740-0.99925-0.07131-0.98000.h5\n",
            "Epoch 19/20\n",
            "133/133 [==============================] - 88s 662ms/step - loss: 0.0131 - categorical_accuracy: 0.9950 - val_loss: 0.1247 - val_categorical_accuracy: 0.9600\n",
            "\n",
            "Epoch 00019: saving model to model_init_2021-02-1515_23_10.385604/model-00019-0.01249-0.99623-0.12468-0.96000.h5\n",
            "Epoch 20/20\n",
            "133/133 [==============================] - 88s 664ms/step - loss: 0.0100 - categorical_accuracy: 0.9970 - val_loss: 0.1059 - val_categorical_accuracy: 0.9800\n",
            "\n",
            "Epoch 00020: saving model to model_init_2021-02-1515_23_10.385604/model-00020-0.00912-0.99698-0.10595-0.98000.h5\n",
            "\n",
            "Epoch 00020: ReduceLROnPlateau reducing learning rate to 8.000000525498762e-06.\n"
          ],
          "name": "stdout"
        }
      ]
    },
    {
      "cell_type": "code",
      "metadata": {
        "id": "mtnXCr6bwZrk",
        "colab": {
          "base_uri": "https://localhost:8080/",
          "height": 265
        },
        "outputId": "e34a4ff3-c46e-4f3e-af27-7f5576bc6d75"
      },
      "source": [
        "plot(history_model19)"
      ],
      "execution_count": 14,
      "outputs": [
        {
          "output_type": "display_data",
          "data": {
            "image/png": "[encoded data removed]",
            "text/plain": [
              "<Figure size 1080x288 with 2 Axes>"
            ]
          },
          "metadata": {
            "tags": [],
            "needs_background": "light"
          }
        }
      ]
    },
    {
      "cell_type": "markdown",
      "metadata": {
        "id": "JoPMlNc2wZrm"
      },
      "source": [
        "# Loading model and Testing"
      ]
    },
    {
      "cell_type": "code",
      "metadata": {
        "id": "zetf4-PfwZrm"
      },
      "source": [
        "import time\n",
        "from keras.models import load_model\n",
        "model = load_model('/content/model_init_2021-02-1515_23_10.385604/model-00020-0.00912-0.99698-0.10595-0.98000.h5')"
      ],
      "execution_count": 15,
      "outputs": []
    },
    {
      "cell_type": "markdown",
      "metadata": {
        "id": "bVw_EUy6KxqQ"
      },
      "source": [
        "**Testing Final Best Model using validation data:** \r\n",
        "- Data Augmentation\r\n",
        "- 120X120 image resolution\r\n",
        "- frames to sample-16\r\n",
        "- batch size-5\r\n",
        "- epochs-1\r\n",
        "\r\n",
        "and predicting the labels\r\n",
        "\r\n"
      ]
    },
    {
      "cell_type": "code",
      "metadata": {
        "id": "wpJmmkigwZro"
      },
      "source": [
        "test_generator=RNNCNN_TL2()\n",
        "test_generator.initialize_path(project_folder)\n",
        "test_generator.initialize_image_properties(image_height=120,image_width=120)\n",
        "test_generator.initialize_hyperparams(frames_to_sample=16,batch_size=5,num_epochs=1)\n",
        "g=test_generator.generator(test_generator.val_path,test_generator.val_doc,augment=True)\n",
        "batch_data, batch_labels=next(g)"
      ],
      "execution_count": 16,
      "outputs": []
    },
    {
      "cell_type": "code",
      "metadata": {
        "id": "QkbZk5JXwZrp",
        "colab": {
          "base_uri": "https://localhost:8080/"
        },
        "outputId": "fad51293-a31a-4934-fe2d-a9eaf2f51d7a"
      },
      "source": [
        "batch_labels"
      ],
      "execution_count": 17,
      "outputs": [
        {
          "output_type": "execute_result",
          "data": {
            "text/plain": [
              "array([[0., 1., 0., 0., 0.],\n",
              "       [0., 0., 0., 1., 0.],\n",
              "       [0., 1., 0., 0., 0.],\n",
              "       [1., 0., 0., 0., 0.],\n",
              "       [1., 0., 0., 0., 0.],\n",
              "       [0., 1., 0., 0., 0.],\n",
              "       [0., 0., 0., 1., 0.],\n",
              "       [0., 1., 0., 0., 0.],\n",
              "       [1., 0., 0., 0., 0.],\n",
              "       [1., 0., 0., 0., 0.]])"
            ]
          },
          "metadata": {
            "tags": []
          },
          "execution_count": 17
        }
      ]
    },
    {
      "cell_type": "code",
      "metadata": {
        "id": "S5wJaZiSwZrr",
        "colab": {
          "base_uri": "https://localhost:8080/"
        },
        "outputId": "d8e50ef3-c1cd-40b5-e203-7bd112125e64"
      },
      "source": [
        "print(np.argmax(model.predict(batch_data[:,:,:,:,:]),axis=1))"
      ],
      "execution_count": 18,
      "outputs": [
        {
          "output_type": "stream",
          "text": [
            "[1 3 1 0 0 1 3 1 0 0]\n"
          ],
          "name": "stdout"
        }
      ]
    },
    {
      "cell_type": "code",
      "metadata": {
        "id": "x_7k1sc2a2cU"
      },
      "source": [
        ""
      ],
      "execution_count": null,
      "outputs": []
    }
  ]
}